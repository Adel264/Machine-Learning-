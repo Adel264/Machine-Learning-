{
  "cells": [
    {
      "cell_type": "markdown",
      "metadata": {
        "id": "H-SHOwe8XBKD"
      },
      "source": [
        "# Import The Libraries"
      ]
    },
    {
      "cell_type": "code",
      "execution_count": null,
      "metadata": {
        "id": "DSEIBKp_XBKG"
      },
      "outputs": [],
      "source": [
        "import tensorflow as tf\n",
        "import numpy as np\n",
        "from matplotlib import pyplot as plt\n",
        "from tensorflow.keras.models import Sequential\n",
        "from tensorflow.keras.layers import Dense, Conv2D, MaxPooling2D, Dropout, Flatten , Activation"
      ]
    },
    {
      "cell_type": "markdown",
      "metadata": {
        "id": "8M2xhMqWXBKH"
      },
      "source": [
        "# Rearrange the data creating our train and test arrays"
      ]
    },
    {
      "cell_type": "code",
      "execution_count": null,
      "metadata": {
        "colab": {
          "base_uri": "https://localhost:8080/"
        },
        "id": "vIAUvnJ6XBKI",
        "outputId": "0f1e1b1c-d6be-4845-832c-22dca267035d"
      },
      "outputs": [
        {
          "output_type": "execute_result",
          "data": {
            "text/plain": [
              "<module 'keras.api._v2.keras.datasets.mnist' from '/usr/local/lib/python3.7/dist-packages/keras/api/_v2/keras/datasets/mnist/__init__.py'>"
            ]
          },
          "metadata": {},
          "execution_count": 2
        }
      ],
      "source": [
        "mnist = tf.keras.datasets.mnist\n",
        "mnist"
      ]
    },
    {
      "cell_type": "code",
      "execution_count": null,
      "metadata": {
        "id": "DaXXODqfXBKK",
        "colab": {
          "base_uri": "https://localhost:8080/"
        },
        "outputId": "3aba7f17-50d8-48b0-a367-2c18b5cb7509"
      },
      "outputs": [
        {
          "output_type": "stream",
          "name": "stdout",
          "text": [
            "Downloading data from https://storage.googleapis.com/tensorflow/tf-keras-datasets/mnist.npz\n",
            "11493376/11490434 [==============================] - 0s 0us/step\n",
            "11501568/11490434 [==============================] - 0s 0us/step\n"
          ]
        }
      ],
      "source": [
        "#load data\n",
        "(train_images, train_labels), (test_images, test_labels) = mnist.load_data()\n",
        "# train_images=train_images1[:5000,:]\n",
        "# train_labels=train_labels1[:5000]\n",
        "# test_images=test_images1[:500,:]\n",
        "# test_labels=test_labels1[:500]"
      ]
    },
    {
      "cell_type": "code",
      "execution_count": null,
      "metadata": {
        "id": "UxoLM5TnXBKL"
      },
      "outputs": [],
      "source": [
        "#function to make the labeles as one hot vector\n",
        "def label_reshape(arr_labele):\n",
        "    label_vector=[]\n",
        "    for i in range(len(arr_labele)):\n",
        "        label_vector.append([0 for _ in range(10)])\n",
        "        x = arr_labele[i]\n",
        "        label_vector[i][x] = 1\n",
        "    return label_vector  "
      ]
    },
    {
      "cell_type": "code",
      "execution_count": null,
      "metadata": {
        "id": "dk3KdqP9XBKL"
      },
      "outputs": [],
      "source": [
        "train_labels = label_reshape(train_labels)\n",
        "test_labels = label_reshape(test_labels)"
      ]
    },
    {
      "cell_type": "code",
      "execution_count": null,
      "metadata": {
        "colab": {
          "base_uri": "https://localhost:8080/"
        },
        "id": "eBVHPvOxczle",
        "outputId": "6cf5f950-32b9-4704-cd79-c267a83a54b6"
      },
      "outputs": [
        {
          "output_type": "execute_result",
          "data": {
            "text/plain": [
              "[0, 0, 1, 0, 0, 0, 0, 0, 0, 0]"
            ]
          },
          "metadata": {},
          "execution_count": 6
        }
      ],
      "source": [
        "train_labels[5]"
      ]
    },
    {
      "cell_type": "code",
      "execution_count": null,
      "metadata": {
        "colab": {
          "base_uri": "https://localhost:8080/"
        },
        "id": "7MjSBqEQXBKM",
        "outputId": "b4a17120-54f8-4cf0-9b70-a00733ed4160"
      },
      "outputs": [
        {
          "output_type": "execute_result",
          "data": {
            "text/plain": [
              "((60000, 28, 28), numpy.ndarray, (10000, 28, 28), numpy.ndarray)"
            ]
          },
          "metadata": {},
          "execution_count": 7
        }
      ],
      "source": [
        "#checking the arrays\n",
        "train_images.shape , type(train_images) , test_images.shape , type(test_images)"
      ]
    },
    {
      "cell_type": "markdown",
      "metadata": {
        "id": "ByGnC7mQXBKN"
      },
      "source": [
        "# Plotting numbers"
      ]
    },
    {
      "cell_type": "code",
      "execution_count": null,
      "metadata": {
        "id": "PsZAV8TKXBKO"
      },
      "outputs": [],
      "source": [
        "#function to plot the number\n",
        "def plot_img(mnist_index):\n",
        "    image = mnist_index\n",
        "    image = np.array(image, dtype='float')\n",
        "    pixels = image.reshape((28, 28))\n",
        "    plt.imshow(pixels, cmap='gray')\n",
        "    plt.show()"
      ]
    },
    {
      "cell_type": "code",
      "execution_count": null,
      "metadata": {
        "colab": {
          "base_uri": "https://localhost:8080/",
          "height": 282
        },
        "id": "gP5rZxgLXBKP",
        "outputId": "0bed8a0d-9cac-4017-8a15-268e1cae556b"
      },
      "outputs": [
        {
          "output_type": "display_data",
          "data": {
            "text/plain": [
              "<Figure size 432x288 with 1 Axes>"
            ],
            "image/png": "[encoded data removed]"
          },
          "metadata": {
            "needs_background": "light"
          }
        },
        {
          "output_type": "execute_result",
          "data": {
            "text/plain": [
              "[1, 0, 0, 0, 0, 0, 0, 0, 0, 0]"
            ]
          },
          "metadata": {},
          "execution_count": 9
        }
      ],
      "source": [
        "#test the function\n",
        "plot_img(train_images[1])\n",
        "train_labels[1]"
      ]
    },
    {
      "cell_type": "code",
      "execution_count": null,
      "metadata": {
        "colab": {
          "base_uri": "https://localhost:8080/",
          "height": 282
        },
        "id": "tmP_oBlcXBKQ",
        "outputId": "79e4d394-a13f-4aff-a487-9aba4b0aeed1",
        "scrolled": false
      },
      "outputs": [
        {
          "output_type": "display_data",
          "data": {
            "text/plain": [
              "<Figure size 432x288 with 1 Axes>"
            ],
            "image/png": "[encoded data removed]"
          },
          "metadata": {
            "needs_background": "light"
          }
        },
        {
          "output_type": "execute_result",
          "data": {
            "text/plain": [
              "[0, 0, 0, 0, 0, 0, 0, 1, 0, 0]"
            ]
          },
          "metadata": {},
          "execution_count": 10
        }
      ],
      "source": [
        "#test function\n",
        "plot_img(test_images[0])\n",
        "test_labels[0]"
      ]
    },
    {
      "cell_type": "markdown",
      "metadata": {
        "id": "UJEhYKe_RByZ"
      },
      "source": [
        "#Normalize the Data and Resahpe the img"
      ]
    },
    {
      "cell_type": "code",
      "execution_count": null,
      "metadata": {
        "id": "BO_uM8PdRF0R"
      },
      "outputs": [],
      "source": [
        "train_images = tf.keras.utils.normalize(train_images,axis = 1)\n",
        "test_images = tf.keras.utils.normalize(test_images,axis = 1)"
      ]
    },
    {
      "cell_type": "markdown",
      "metadata": {
        "id": "qAYaYYcaXQ51"
      },
      "source": [
        "#Resahpe the images to make it suitable"
      ]
    },
    {
      "cell_type": "code",
      "execution_count": null,
      "metadata": {
        "id": "TFnW6sy-Xbas"
      },
      "outputs": [],
      "source": [
        "#function to reshape\n",
        "def reshape_img(img):\n",
        "  img_size = img.shape[1]\n",
        "  img = img.reshape(-1,img_size,img_size,1)\n",
        "  return img"
      ]
    },
    {
      "cell_type": "code",
      "execution_count": null,
      "metadata": {
        "colab": {
          "base_uri": "https://localhost:8080/"
        },
        "id": "piZyG-ECX6Ms",
        "outputId": "a079c88e-5df9-42cc-b107-b24b6969b2da"
      },
      "outputs": [
        {
          "output_type": "stream",
          "name": "stdout",
          "text": [
            "(60000, 28, 28, 1) (10000, 28, 28, 1)\n"
          ]
        }
      ],
      "source": [
        "#increase 1 dim for filter operation\n",
        "train_images = reshape_img(np.array(train_images))\n",
        "test_images = reshape_img(np.array(test_images))\n",
        "\n",
        "print(train_images.shape,test_images.shape)\n",
        "\n",
        "train_images = np.array(train_images)\n",
        "train_labels = np.array(train_labels)\n",
        "test_images = np.array(test_images)\n",
        "test_labels = np.array(test_labels)"
      ]
    },
    {
      "cell_type": "markdown",
      "metadata": {
        "id": "7czscd3caUd8"
      },
      "source": [
        "# **Creat our CNN**\n",
        "\n",
        "\n"
      ]
    },
    {
      "cell_type": "markdown",
      "metadata": {
        "id": "9s5_-5bUarcc"
      },
      "source": [
        "##Model 1"
      ]
    },
    {
      "cell_type": "code",
      "execution_count": null,
      "metadata": {
        "colab": {
          "base_uri": "https://localhost:8080/"
        },
        "id": "Ntjg4Us8aYgU",
        "outputId": "bc35ed15-13f7-44b3-a3d7-4dea85f9547f"
      },
      "outputs": [
        {
          "output_type": "stream",
          "name": "stdout",
          "text": [
            "Model: \"sequential\"\n",
            "_________________________________________________________________\n",
            " Layer (type)                Output Shape              Param #   \n",
            "=================================================================\n",
            " conv2d (Conv2D)             (None, 27, 27, 16)        80        \n",
            "                                                                 \n",
            " activation (Activation)     (None, 27, 27, 16)        0         \n",
            "                                                                 \n",
            " conv2d_1 (Conv2D)           (None, 26, 26, 32)        2080      \n",
            "                                                                 \n",
            " activation_1 (Activation)   (None, 26, 26, 32)        0         \n",
            "                                                                 \n",
            " max_pooling2d (MaxPooling2D  (None, 13, 13, 32)       0         \n",
            " )                                                               \n",
            "                                                                 \n",
            " flatten (Flatten)           (None, 5408)              0         \n",
            "                                                                 \n",
            " dense (Dense)               (None, 32)                173088    \n",
            "                                                                 \n",
            " activation_2 (Activation)   (None, 32)                0         \n",
            "                                                                 \n",
            " dense_1 (Dense)             (None, 16)                528       \n",
            "                                                                 \n",
            " activation_3 (Activation)   (None, 16)                0         \n",
            "                                                                 \n",
            " dense_2 (Dense)             (None, 10)                170       \n",
            "                                                                 \n",
            " activation_4 (Activation)   (None, 10)                0         \n",
            "                                                                 \n",
            "=================================================================\n",
            "Total params: 175,946\n",
            "Trainable params: 175,946\n",
            "Non-trainable params: 0\n",
            "_________________________________________________________________\n"
          ]
        }
      ],
      "source": [
        "#creat the model\n",
        "model_1 = Sequential()\n",
        "\n",
        "#conv layers\n",
        "\n",
        "##first CNN layer\n",
        "model_1.add(Conv2D(16,(2,2),input_shape = train_images.shape[1:]))\n",
        "model_1.add(Activation(\"relu\"))\n",
        "\n",
        "##second CNN layer\n",
        "model_1.add(Conv2D(32,(2,2)))\n",
        "model_1.add(Activation(\"relu\"))\n",
        "model_1.add(MaxPooling2D(pool_size=(2, 2)))\n",
        "\n",
        "model_1.add(Flatten())\n",
        "\n",
        "#FC layers\n",
        "\n",
        "##first FC layer\n",
        "model_1.add(Dense(32))\n",
        "model_1.add(Activation(\"relu\"))\n",
        "\n",
        "##second FC layer\n",
        "model_1.add(Dense(16))\n",
        "model_1.add(Activation(\"relu\"))\n",
        "\n",
        "# softmax classifier\n",
        "model_1.add(Dense(10))\n",
        "model_1.add(Activation(\"softmax\"))\n",
        "\n",
        "model_1.summary()"
      ]
    },
    {
      "cell_type": "code",
      "execution_count": null,
      "metadata": {
        "colab": {
          "base_uri": "https://localhost:8080/"
        },
        "id": "BFG-JmSWf-J2",
        "outputId": "7a776c6d-dc12-4339-c1b4-4196fd550a18"
      },
      "outputs": [
        {
          "output_type": "stream",
          "name": "stdout",
          "text": [
            "Epoch 1/10\n",
            "1875/1875 [==============================] - 11s 6ms/step - loss: 0.7628 - accuracy: 0.7695\n",
            "Epoch 2/10\n",
            "1875/1875 [==============================] - 10s 6ms/step - loss: 0.2818 - accuracy: 0.9147\n",
            "Epoch 3/10\n",
            "1875/1875 [==============================] - 10s 6ms/step - loss: 0.2214 - accuracy: 0.9326\n",
            "Epoch 4/10\n",
            "1875/1875 [==============================] - 10s 5ms/step - loss: 0.1895 - accuracy: 0.9430\n",
            "Epoch 5/10\n",
            "1875/1875 [==============================] - 10s 5ms/step - loss: 0.1672 - accuracy: 0.9488\n",
            "Epoch 6/10\n",
            "1875/1875 [==============================] - 10s 6ms/step - loss: 0.1517 - accuracy: 0.9541\n",
            "Epoch 7/10\n",
            "1875/1875 [==============================] - 10s 6ms/step - loss: 0.1384 - accuracy: 0.9580\n",
            "Epoch 8/10\n",
            "1875/1875 [==============================] - 10s 6ms/step - loss: 0.1256 - accuracy: 0.9617\n",
            "Epoch 9/10\n",
            "1875/1875 [==============================] - 10s 5ms/step - loss: 0.1166 - accuracy: 0.9640\n",
            "Epoch 10/10\n",
            "1875/1875 [==============================] - 10s 5ms/step - loss: 0.1054 - accuracy: 0.9674\n"
          ]
        }
      ],
      "source": [
        "model_1.compile(optimizer=tf.keras.optimizers.SGD(learning_rate=0.01), loss=\"categorical_crossentropy\", metrics=['accuracy'])\n",
        "history = model_1.fit(train_images,train_labels,epochs=10,batch_size=32)"
      ]
    },
    {
      "cell_type": "code",
      "source": [
        "loss, acc =model_1.evaluate(test_images , test_labels)\n",
        "print(\"loss =\",loss)\n",
        "print(\"accuracy =\",acc)"
      ],
      "metadata": {
        "colab": {
          "base_uri": "https://localhost:8080/"
        },
        "id": "noPd7kGBngQT",
        "outputId": "32eb9504-d9aa-4dfa-aa27-66b0481de6e9"
      },
      "execution_count": null,
      "outputs": [
        {
          "output_type": "stream",
          "name": "stdout",
          "text": [
            "313/313 [==============================] - 2s 4ms/step - loss: 0.1097 - accuracy: 0.9670\n",
            "loss = 0.10971850901842117\n",
            "accuracy = 0.9670000076293945\n"
          ]
        }
      ]
    },
    {
      "cell_type": "code",
      "source": [
        "def plot_losses(h):  \n",
        "    plt.plot(h.history['loss'])\n",
        "    plt.title('model loss')\n",
        "    plt.ylabel('loss')\n",
        "    plt.xlabel('epoch')\n",
        "    plt.legend(['train'], loc='upper left')\n",
        "    plt.show()\n",
        "plot_losses(history)"
      ],
      "metadata": {
        "colab": {
          "base_uri": "https://localhost:8080/",
          "height": 294
        },
        "id": "058WOlROpTaZ",
        "outputId": "f2471a2d-78a8-43ad-d3e1-13ebd642f174"
      },
      "execution_count": null,
      "outputs": [
        {
          "output_type": "display_data",
          "data": {
            "text/plain": [
              "<Figure size 432x288 with 1 Axes>"
            ],
            "image/png": "[encoded data removed]"
          },
          "metadata": {
            "needs_background": "light"
          }
        }
      ]
    },
    {
      "cell_type": "code",
      "source": [
        "def plot_accuracies(history):  \n",
        "    plt.plot(history.history['accuracy'], label='accuracy')\n",
        "    plt.title('model accuracy')\n",
        "    plt.xlabel('Epoch')\n",
        "    plt.ylabel('Accuracy')\n",
        "    plt.legend(loc='upper right')\n",
        "    plt.show()\n",
        "plot_accuracies(history)"
      ],
      "metadata": {
        "colab": {
          "base_uri": "https://localhost:8080/",
          "height": 294
        },
        "id": "xZkMi-supnNg",
        "outputId": "7e4884cf-b6d5-49ad-d858-72f7093c5ab3"
      },
      "execution_count": null,
      "outputs": [
        {
          "output_type": "display_data",
          "data": {
            "text/plain": [
              "<Figure size 432x288 with 1 Axes>"
            ],
            "image/png": "[encoded data removed]"
          },
          "metadata": {
            "needs_background": "light"
          }
        }
      ]
    },
    {
      "cell_type": "markdown",
      "metadata": {
        "id": "ST7JMhgoqxlM"
      },
      "source": [
        "##Model 2"
      ]
    },
    {
      "cell_type": "code",
      "execution_count": null,
      "metadata": {
        "colab": {
          "base_uri": "https://localhost:8080/"
        },
        "outputId": "20ded1ed-39ce-4e4c-fed4-81411a6c0c53",
        "id": "loC36tb9qxlN"
      },
      "outputs": [
        {
          "output_type": "stream",
          "name": "stdout",
          "text": [
            "Model: \"sequential_37\"\n",
            "_________________________________________________________________\n",
            " Layer (type)                Output Shape              Param #   \n",
            "=================================================================\n",
            " conv2d_81 (Conv2D)          (None, 27, 27, 16)        80        \n",
            "                                                                 \n",
            " activation_188 (Activation)  (None, 27, 27, 16)       0         \n",
            "                                                                 \n",
            " conv2d_82 (Conv2D)          (None, 26, 26, 32)        2080      \n",
            "                                                                 \n",
            " activation_189 (Activation)  (None, 26, 26, 32)       0         \n",
            "                                                                 \n",
            " max_pooling2d_48 (MaxPoolin  (None, 13, 13, 32)       0         \n",
            " g2D)                                                            \n",
            "                                                                 \n",
            " flatten_36 (Flatten)        (None, 5408)              0         \n",
            "                                                                 \n",
            " dense_107 (Dense)           (None, 32)                173088    \n",
            "                                                                 \n",
            " activation_190 (Activation)  (None, 32)               0         \n",
            "                                                                 \n",
            " dense_108 (Dense)           (None, 16)                528       \n",
            "                                                                 \n",
            " activation_191 (Activation)  (None, 16)               0         \n",
            "                                                                 \n",
            " dense_109 (Dense)           (None, 10)                170       \n",
            "                                                                 \n",
            " activation_192 (Activation)  (None, 10)               0         \n",
            "                                                                 \n",
            "=================================================================\n",
            "Total params: 175,946\n",
            "Trainable params: 175,946\n",
            "Non-trainable params: 0\n",
            "_________________________________________________________________\n"
          ]
        }
      ],
      "source": [
        "#creat the model\n",
        "model_2 = Sequential()\n",
        "\n",
        "#conv layers\n",
        "\n",
        "##first CNN layer\n",
        "model_2.add(Conv2D(16,(2,2),input_shape = train_images.shape[1:]))\n",
        "model_2.add(Activation(\"relu\"))\n",
        "\n",
        "##second CNN layer\n",
        "model_2.add(Conv2D(32,(2,2)))\n",
        "model_2.add(Activation(\"relu\"))\n",
        "model_2.add(MaxPooling2D(pool_size=(2, 2)))\n",
        "\n",
        "model_2.add(Flatten())\n",
        "\n",
        "#FC layers\n",
        "\n",
        "##first FC layer\n",
        "model_2.add(Dense(32))\n",
        "model_2.add(Activation(\"relu\"))\n",
        "\n",
        "##second FC layer\n",
        "model_2.add(Dense(16))\n",
        "model_2.add(Activation(\"relu\"))\n",
        "\n",
        "# softmax classifier\n",
        "model_2.add(Dense(10))\n",
        "model_2.add(Activation(\"softmax\"))\n",
        "\n",
        "model_2.summary()"
      ]
    },
    {
      "cell_type": "code",
      "execution_count": null,
      "metadata": {
        "colab": {
          "base_uri": "https://localhost:8080/"
        },
        "outputId": "669e6a6e-9b2a-4ad1-eb97-6f87738e0110",
        "id": "OUJ73DCFqxlN"
      },
      "outputs": [
        {
          "output_type": "stream",
          "name": "stdout",
          "text": [
            "Epoch 1/12\n",
            "1875/1875 [==============================] - 11s 6ms/step - loss: 0.8106 - accuracy: 0.7530\n",
            "Epoch 2/12\n",
            "1875/1875 [==============================] - 11s 6ms/step - loss: 0.2629 - accuracy: 0.9198\n",
            "Epoch 3/12\n",
            "1875/1875 [==============================] - 10s 6ms/step - loss: 0.2052 - accuracy: 0.9366\n",
            "Epoch 4/12\n",
            "1875/1875 [==============================] - 10s 5ms/step - loss: 0.1752 - accuracy: 0.9450\n",
            "Epoch 5/12\n",
            "1875/1875 [==============================] - 10s 5ms/step - loss: 0.1579 - accuracy: 0.9507\n",
            "Epoch 6/12\n",
            "1875/1875 [==============================] - 10s 6ms/step - loss: 0.1450 - accuracy: 0.9553\n",
            "Epoch 7/12\n",
            "1875/1875 [==============================] - 10s 6ms/step - loss: 0.1337 - accuracy: 0.9585\n",
            "Epoch 8/12\n",
            "1875/1875 [==============================] - 10s 5ms/step - loss: 0.1259 - accuracy: 0.9612\n",
            "Epoch 9/12\n",
            "1875/1875 [==============================] - 10s 6ms/step - loss: 0.1175 - accuracy: 0.9634\n",
            "Epoch 10/12\n",
            "1875/1875 [==============================] - 10s 5ms/step - loss: 0.1116 - accuracy: 0.9657\n",
            "Epoch 11/12\n",
            "1875/1875 [==============================] - 10s 6ms/step - loss: 0.1052 - accuracy: 0.9672\n",
            "Epoch 12/12\n",
            "1875/1875 [==============================] - 10s 6ms/step - loss: 0.1001 - accuracy: 0.9690\n"
          ]
        }
      ],
      "source": [
        "model_2.compile(optimizer=tf.keras.optimizers.SGD(learning_rate=0.01), loss=\"categorical_crossentropy\", metrics=['accuracy'])\n",
        "history = model_2.fit(train_images,train_labels,epochs=12,batch_size=32)"
      ]
    },
    {
      "cell_type": "code",
      "source": [
        "loss, acc =model_2.evaluate(test_images , test_labels)\n",
        "print(\"loss =\",loss)\n",
        "print(\"accuracy =\",acc)"
      ],
      "metadata": {
        "colab": {
          "base_uri": "https://localhost:8080/"
        },
        "outputId": "b59505dd-9d9d-4dcd-88f0-d531a8622bd3",
        "id": "qMYgXpo7qxlN"
      },
      "execution_count": null,
      "outputs": [
        {
          "output_type": "stream",
          "name": "stdout",
          "text": [
            "313/313 [==============================] - 2s 4ms/step - loss: 0.1172 - accuracy: 0.9635\n",
            "loss = 0.11717939376831055\n",
            "accuracy = 0.9635000228881836\n"
          ]
        }
      ]
    },
    {
      "cell_type": "code",
      "source": [
        "def plot_losses(history):  \n",
        "    plt.plot(history.history['loss'])\n",
        "    plt.title('model loss')\n",
        "    plt.ylabel('loss')\n",
        "    plt.xlabel('epoch')\n",
        "    plt.legend(['train'], loc='upper left')\n",
        "    plt.show()\n",
        "plot_losses(history)"
      ],
      "metadata": {
        "colab": {
          "base_uri": "https://localhost:8080/",
          "height": 294
        },
        "outputId": "8eff8551-81ff-4378-ed09-e90124b42579",
        "id": "OXHkP9puqxlO"
      },
      "execution_count": null,
      "outputs": [
        {
          "output_type": "display_data",
          "data": {
            "text/plain": [
              "<Figure size 432x288 with 1 Axes>"
            ],
            "image/png": "[encoded data removed]"
          },
          "metadata": {
            "needs_background": "light"
          }
        }
      ]
    },
    {
      "cell_type": "code",
      "source": [
        "def plot_accuracies(history):  \n",
        "    plt.plot(history.history['accuracy'], label='accuracy')\n",
        "    plt.title('model accuracy')\n",
        "    plt.xlabel('Epoch')\n",
        "    plt.ylabel('Accuracy')\n",
        "    plt.legend(loc='upper right')\n",
        "    plt.show()\n",
        "plot_accuracies(history)"
      ],
      "metadata": {
        "colab": {
          "base_uri": "https://localhost:8080/",
          "height": 294
        },
        "outputId": "6b3c5f39-1e80-40a9-9219-32dd7c263575",
        "id": "1agRVynxqxlO"
      },
      "execution_count": null,
      "outputs": [
        {
          "output_type": "display_data",
          "data": {
            "text/plain": [
              "<Figure size 432x288 with 1 Axes>"
            ],
            "image/png": "[encoded data removed]"
          },
          "metadata": {
            "needs_background": "light"
          }
        }
      ]
    },
    {
      "cell_type": "markdown",
      "source": [
        "##Model 3"
      ],
      "metadata": {
        "id": "zrDFEw3Eubqq"
      }
    },
    {
      "cell_type": "code",
      "execution_count": null,
      "metadata": {
        "colab": {
          "base_uri": "https://localhost:8080/"
        },
        "outputId": "bf526b4b-97b9-4068-a0d0-3586fa14762a",
        "id": "IyHTvFXHu3Xd"
      },
      "outputs": [
        {
          "output_type": "stream",
          "name": "stdout",
          "text": [
            "Model: \"sequential_38\"\n",
            "_________________________________________________________________\n",
            " Layer (type)                Output Shape              Param #   \n",
            "=================================================================\n",
            " conv2d_83 (Conv2D)          (None, 27, 27, 16)        80        \n",
            "                                                                 \n",
            " activation_193 (Activation)  (None, 27, 27, 16)       0         \n",
            "                                                                 \n",
            " conv2d_84 (Conv2D)          (None, 26, 26, 32)        2080      \n",
            "                                                                 \n",
            " activation_194 (Activation)  (None, 26, 26, 32)       0         \n",
            "                                                                 \n",
            " max_pooling2d_49 (MaxPoolin  (None, 13, 13, 32)       0         \n",
            " g2D)                                                            \n",
            "                                                                 \n",
            " flatten_37 (Flatten)        (None, 5408)              0         \n",
            "                                                                 \n",
            " dense_110 (Dense)           (None, 32)                173088    \n",
            "                                                                 \n",
            " activation_195 (Activation)  (None, 32)               0         \n",
            "                                                                 \n",
            " dense_111 (Dense)           (None, 16)                528       \n",
            "                                                                 \n",
            " activation_196 (Activation)  (None, 16)               0         \n",
            "                                                                 \n",
            " dense_112 (Dense)           (None, 10)                170       \n",
            "                                                                 \n",
            " activation_197 (Activation)  (None, 10)               0         \n",
            "                                                                 \n",
            "=================================================================\n",
            "Total params: 175,946\n",
            "Trainable params: 175,946\n",
            "Non-trainable params: 0\n",
            "_________________________________________________________________\n"
          ]
        }
      ],
      "source": [
        "#creat the model\n",
        "model_3 = Sequential()\n",
        "\n",
        "#conv layers\n",
        "\n",
        "##first CNN layer\n",
        "model_3.add(Conv2D(16,(2,2),input_shape = train_images.shape[1:]))\n",
        "model_3.add(Activation(\"relu\"))\n",
        "\n",
        "##second CNN layer\n",
        "model_3.add(Conv2D(32,(2,2)))\n",
        "model_3.add(Activation(\"relu\"))\n",
        "model_3.add(MaxPooling2D(pool_size=(2, 2)))\n",
        "\n",
        "model_3.add(Flatten())\n",
        "\n",
        "#FC layers\n",
        "\n",
        "##first FC layer\n",
        "model_3.add(Dense(32))\n",
        "model_3.add(Activation(\"relu\"))\n",
        "\n",
        "##second FC layer\n",
        "model_3.add(Dense(16))\n",
        "model_3.add(Activation(\"relu\"))\n",
        "\n",
        "# softmax classifier\n",
        "model_3.add(Dense(10))\n",
        "model_3.add(Activation(\"softmax\"))\n",
        "\n",
        "model_3.summary()"
      ]
    },
    {
      "cell_type": "code",
      "execution_count": null,
      "metadata": {
        "colab": {
          "base_uri": "https://localhost:8080/"
        },
        "outputId": "2267db42-88ef-4c60-f511-e7bd333b7237",
        "id": "fiH2NqNbu3Xk"
      },
      "outputs": [
        {
          "output_type": "stream",
          "name": "stdout",
          "text": [
            "Epoch 1/15\n",
            "1875/1875 [==============================] - 11s 6ms/step - loss: 0.8412 - accuracy: 0.7480\n",
            "Epoch 2/15\n",
            "1875/1875 [==============================] - 10s 6ms/step - loss: 0.2549 - accuracy: 0.9244\n",
            "Epoch 3/15\n",
            "1875/1875 [==============================] - 10s 6ms/step - loss: 0.1998 - accuracy: 0.9394\n",
            "Epoch 4/15\n",
            "1875/1875 [==============================] - 10s 5ms/step - loss: 0.1703 - accuracy: 0.9484\n",
            "Epoch 5/15\n",
            "1875/1875 [==============================] - 10s 6ms/step - loss: 0.1523 - accuracy: 0.9542\n",
            "Epoch 6/15\n",
            "1875/1875 [==============================] - 10s 6ms/step - loss: 0.1372 - accuracy: 0.9578\n",
            "Epoch 7/15\n",
            "1875/1875 [==============================] - 10s 5ms/step - loss: 0.1284 - accuracy: 0.9600\n",
            "Epoch 8/15\n",
            "1875/1875 [==============================] - 10s 5ms/step - loss: 0.1186 - accuracy: 0.9634\n",
            "Epoch 9/15\n",
            "1875/1875 [==============================] - 10s 5ms/step - loss: 0.1124 - accuracy: 0.9649\n",
            "Epoch 10/15\n",
            "1875/1875 [==============================] - 10s 5ms/step - loss: 0.1061 - accuracy: 0.9666\n",
            "Epoch 11/15\n",
            "1875/1875 [==============================] - 10s 5ms/step - loss: 0.1002 - accuracy: 0.9691\n",
            "Epoch 12/15\n",
            "1875/1875 [==============================] - 10s 5ms/step - loss: 0.0961 - accuracy: 0.9704\n",
            "Epoch 13/15\n",
            "1875/1875 [==============================] - 10s 5ms/step - loss: 0.0900 - accuracy: 0.9726\n",
            "Epoch 14/15\n",
            "1875/1875 [==============================] - 10s 5ms/step - loss: 0.0857 - accuracy: 0.9743\n",
            "Epoch 15/15\n",
            "1875/1875 [==============================] - 10s 5ms/step - loss: 0.0810 - accuracy: 0.9753\n"
          ]
        }
      ],
      "source": [
        "model_3.compile(optimizer=tf.keras.optimizers.SGD(learning_rate=0.01), loss=\"categorical_crossentropy\", metrics=['accuracy'])\n",
        "history = model_3.fit(train_images,train_labels,epochs=15,batch_size=32)"
      ]
    },
    {
      "cell_type": "code",
      "source": [
        "loss, acc =model_3.evaluate(test_images , test_labels)\n",
        "print(\"loss =\",loss)\n",
        "print(\"accuracy =\",acc)"
      ],
      "metadata": {
        "colab": {
          "base_uri": "https://localhost:8080/"
        },
        "outputId": "416ed29a-a51b-4615-9e20-a1ed125cdfae",
        "id": "CaGzC9fNu3Xk"
      },
      "execution_count": null,
      "outputs": [
        {
          "output_type": "stream",
          "name": "stdout",
          "text": [
            "313/313 [==============================] - 1s 4ms/step - loss: 0.0967 - accuracy: 0.9709\n",
            "loss = 0.09667312353849411\n",
            "accuracy = 0.9708999991416931\n"
          ]
        }
      ]
    },
    {
      "cell_type": "code",
      "source": [
        "def plot_losses(history):  \n",
        "    plt.plot(history.history['loss'])\n",
        "    plt.title('model loss')\n",
        "    plt.ylabel('loss')\n",
        "    plt.xlabel('epoch')\n",
        "    plt.legend(['train'], loc='upper left')\n",
        "    plt.show()\n",
        "plot_losses(history)"
      ],
      "metadata": {
        "colab": {
          "base_uri": "https://localhost:8080/",
          "height": 294
        },
        "outputId": "674bbbcf-ce6d-4686-ab5e-eaf21b000fcd",
        "id": "jhqGU1Aiu3Xk"
      },
      "execution_count": null,
      "outputs": [
        {
          "output_type": "display_data",
          "data": {
            "text/plain": [
              "<Figure size 432x288 with 1 Axes>"
            ],
            "image/png": "[encoded data removed]"
          },
          "metadata": {
            "needs_background": "light"
          }
        }
      ]
    },
    {
      "cell_type": "code",
      "source": [
        "def plot_accuracies(history):  \n",
        "    plt.plot(history.history['accuracy'], label='accuracy')\n",
        "    plt.title('model accuracy')\n",
        "    plt.xlabel('Epoch')\n",
        "    plt.ylabel('Accuracy')\n",
        "    plt.legend(loc='upper right')\n",
        "    plt.show()\n",
        "plot_accuracies(history)"
      ],
      "metadata": {
        "colab": {
          "base_uri": "https://localhost:8080/",
          "height": 294
        },
        "outputId": "a6eb309b-3937-4f56-c821-35eb23b3cb01",
        "id": "Bifo7xHou3Xl"
      },
      "execution_count": null,
      "outputs": [
        {
          "output_type": "display_data",
          "data": {
            "text/plain": [
              "<Figure size 432x288 with 1 Axes>"
            ],
            "image/png": "[encoded data removed]"
          },
          "metadata": {
            "needs_background": "light"
          }
        }
      ]
    },
    {
      "cell_type": "markdown",
      "source": [
        "##Model 4"
      ],
      "metadata": {
        "id": "cdyB8QcozSbl"
      }
    },
    {
      "cell_type": "code",
      "execution_count": null,
      "metadata": {
        "colab": {
          "base_uri": "https://localhost:8080/"
        },
        "outputId": "97ffd425-1771-4ddc-fdb5-5593b09b6697",
        "id": "xgn5ZHuEzSbs"
      },
      "outputs": [
        {
          "output_type": "stream",
          "name": "stdout",
          "text": [
            "Model: \"sequential_39\"\n",
            "_________________________________________________________________\n",
            " Layer (type)                Output Shape              Param #   \n",
            "=================================================================\n",
            " conv2d_85 (Conv2D)          (None, 27, 27, 16)        80        \n",
            "                                                                 \n",
            " activation_198 (Activation)  (None, 27, 27, 16)       0         \n",
            "                                                                 \n",
            " conv2d_86 (Conv2D)          (None, 26, 26, 32)        2080      \n",
            "                                                                 \n",
            " activation_199 (Activation)  (None, 26, 26, 32)       0         \n",
            "                                                                 \n",
            " max_pooling2d_50 (MaxPoolin  (None, 13, 13, 32)       0         \n",
            " g2D)                                                            \n",
            "                                                                 \n",
            " flatten_38 (Flatten)        (None, 5408)              0         \n",
            "                                                                 \n",
            " dense_113 (Dense)           (None, 32)                173088    \n",
            "                                                                 \n",
            " activation_200 (Activation)  (None, 32)               0         \n",
            "                                                                 \n",
            " dense_114 (Dense)           (None, 16)                528       \n",
            "                                                                 \n",
            " activation_201 (Activation)  (None, 16)               0         \n",
            "                                                                 \n",
            " dense_115 (Dense)           (None, 10)                170       \n",
            "                                                                 \n",
            " activation_202 (Activation)  (None, 10)               0         \n",
            "                                                                 \n",
            "=================================================================\n",
            "Total params: 175,946\n",
            "Trainable params: 175,946\n",
            "Non-trainable params: 0\n",
            "_________________________________________________________________\n"
          ]
        }
      ],
      "source": [
        "#creat the model\n",
        "model_4 = Sequential()\n",
        "\n",
        "#conv layers\n",
        "\n",
        "##first CNN layer\n",
        "model_4.add(Conv2D(16,(2,2),input_shape = train_images.shape[1:]))\n",
        "model_4.add(Activation(\"relu\"))\n",
        "\n",
        "##second CNN layer\n",
        "model_4.add(Conv2D(32,(2,2)))\n",
        "model_4.add(Activation(\"relu\"))\n",
        "model_4.add(MaxPooling2D(pool_size=(2, 2)))\n",
        "\n",
        "model_4.add(Flatten())\n",
        "\n",
        "#FC layers\n",
        "\n",
        "##first FC layer\n",
        "model_4.add(Dense(32))\n",
        "model_4.add(Activation(\"relu\"))\n",
        "\n",
        "##second FC layer\n",
        "model_4.add(Dense(16))\n",
        "model_4.add(Activation(\"relu\"))\n",
        "\n",
        "# softmax classifier\n",
        "model_4.add(Dense(10))\n",
        "model_4.add(Activation(\"softmax\"))\n",
        "\n",
        "model_4.summary()"
      ]
    },
    {
      "cell_type": "code",
      "execution_count": null,
      "metadata": {
        "colab": {
          "base_uri": "https://localhost:8080/"
        },
        "outputId": "eb580472-6e69-496b-f80a-247f5a798efd",
        "id": "g1rMp24lzSbs"
      },
      "outputs": [
        {
          "output_type": "stream",
          "name": "stdout",
          "text": [
            "Epoch 1/15\n",
            "1875/1875 [==============================] - 11s 6ms/step - loss: 0.4804 - accuracy: 0.8480\n",
            "Epoch 2/15\n",
            "1875/1875 [==============================] - 10s 5ms/step - loss: 0.1806 - accuracy: 0.9449\n",
            "Epoch 3/15\n",
            "1875/1875 [==============================] - 10s 5ms/step - loss: 0.1193 - accuracy: 0.9630\n",
            "Epoch 4/15\n",
            "1875/1875 [==============================] - 10s 5ms/step - loss: 0.0845 - accuracy: 0.9737\n",
            "Epoch 5/15\n",
            "1875/1875 [==============================] - 10s 5ms/step - loss: 0.0648 - accuracy: 0.9800\n",
            "Epoch 6/15\n",
            "1875/1875 [==============================] - 10s 5ms/step - loss: 0.0520 - accuracy: 0.9835\n",
            "Epoch 7/15\n",
            "1875/1875 [==============================] - 10s 6ms/step - loss: 0.0423 - accuracy: 0.9869\n",
            "Epoch 8/15\n",
            "1875/1875 [==============================] - 10s 5ms/step - loss: 0.0348 - accuracy: 0.9890\n",
            "Epoch 9/15\n",
            "1875/1875 [==============================] - 11s 6ms/step - loss: 0.0295 - accuracy: 0.9908\n",
            "Epoch 10/15\n",
            "1875/1875 [==============================] - 11s 6ms/step - loss: 0.0241 - accuracy: 0.9924\n",
            "Epoch 11/15\n",
            "1875/1875 [==============================] - 10s 6ms/step - loss: 0.0199 - accuracy: 0.9937\n",
            "Epoch 12/15\n",
            "1875/1875 [==============================] - 10s 6ms/step - loss: 0.0169 - accuracy: 0.9944\n",
            "Epoch 13/15\n",
            "1875/1875 [==============================] - 10s 6ms/step - loss: 0.0137 - accuracy: 0.9956\n",
            "Epoch 14/15\n",
            "1875/1875 [==============================] - 10s 6ms/step - loss: 0.0117 - accuracy: 0.9963\n",
            "Epoch 15/15\n",
            "1875/1875 [==============================] - 10s 6ms/step - loss: 0.0086 - accuracy: 0.9973\n"
          ]
        }
      ],
      "source": [
        "model_4.compile(optimizer=tf.keras.optimizers.SGD(learning_rate=0.05), loss=\"categorical_crossentropy\", metrics=['accuracy'])\n",
        "history = model_4.fit(train_images,train_labels,epochs=15,batch_size=32)"
      ]
    },
    {
      "cell_type": "code",
      "source": [
        "loss, acc =model_4.evaluate(test_images , test_labels)\n",
        "print(\"loss =\",loss)\n",
        "print(\"accuracy =\",acc)"
      ],
      "metadata": {
        "colab": {
          "base_uri": "https://localhost:8080/"
        },
        "outputId": "cb209411-758b-4b44-e8d0-4edd9c10a0d9",
        "id": "1hSollFKzSbt"
      },
      "execution_count": null,
      "outputs": [
        {
          "output_type": "stream",
          "name": "stdout",
          "text": [
            "313/313 [==============================] - 1s 4ms/step - loss: 0.0908 - accuracy: 0.9788\n",
            "loss = 0.09084996581077576\n",
            "accuracy = 0.9787999987602234\n"
          ]
        }
      ]
    },
    {
      "cell_type": "code",
      "source": [
        "def plot_losses(history):  \n",
        "    plt.plot(history.history['loss'])\n",
        "    plt.title('model loss')\n",
        "    plt.ylabel('loss')\n",
        "    plt.xlabel('epoch')\n",
        "    plt.legend(['train'], loc='upper left')\n",
        "    plt.show()\n",
        "plot_losses(history)"
      ],
      "metadata": {
        "colab": {
          "base_uri": "https://localhost:8080/",
          "height": 294
        },
        "outputId": "1db0d468-46c7-49c4-8fe1-2ef7f6e8d129",
        "id": "nst-6aS_zSbt"
      },
      "execution_count": null,
      "outputs": [
        {
          "output_type": "display_data",
          "data": {
            "text/plain": [
              "<Figure size 432x288 with 1 Axes>"
            ],
            "image/png": "[encoded data removed]"
          },
          "metadata": {
            "needs_background": "light"
          }
        }
      ]
    },
    {
      "cell_type": "code",
      "source": [
        "def plot_accuracies(history):  \n",
        "    plt.plot(history.history['accuracy'], label='accuracy')\n",
        "    plt.title('model accuracy')\n",
        "    plt.xlabel('Epoch')\n",
        "    plt.ylabel('Accuracy')\n",
        "    plt.legend(loc='upper right')\n",
        "    plt.show()\n",
        "plot_accuracies(history)"
      ],
      "metadata": {
        "colab": {
          "base_uri": "https://localhost:8080/",
          "height": 294
        },
        "outputId": "815946e7-ce36-42a3-f49e-7371c65c491e",
        "id": "kJAbGijpzSbt"
      },
      "execution_count": null,
      "outputs": [
        {
          "output_type": "display_data",
          "data": {
            "text/plain": [
              "<Figure size 432x288 with 1 Axes>"
            ],
            "image/png": "[encoded data removed]"
          },
          "metadata": {
            "needs_background": "light"
          }
        }
      ]
    },
    {
      "cell_type": "markdown",
      "source": [
        "##Model 5"
      ],
      "metadata": {
        "id": "66Qqah8M0wv-"
      }
    },
    {
      "cell_type": "code",
      "execution_count": null,
      "metadata": {
        "colab": {
          "base_uri": "https://localhost:8080/"
        },
        "outputId": "9813acd2-79ab-465b-f3a2-a9d97d693c47",
        "id": "GsjMPDMQ0wwF"
      },
      "outputs": [
        {
          "output_type": "stream",
          "name": "stdout",
          "text": [
            "Model: \"sequential_40\"\n",
            "_________________________________________________________________\n",
            " Layer (type)                Output Shape              Param #   \n",
            "=================================================================\n",
            " conv2d_87 (Conv2D)          (None, 27, 27, 16)        80        \n",
            "                                                                 \n",
            " activation_203 (Activation)  (None, 27, 27, 16)       0         \n",
            "                                                                 \n",
            " conv2d_88 (Conv2D)          (None, 26, 26, 32)        2080      \n",
            "                                                                 \n",
            " activation_204 (Activation)  (None, 26, 26, 32)       0         \n",
            "                                                                 \n",
            " max_pooling2d_51 (MaxPoolin  (None, 13, 13, 32)       0         \n",
            " g2D)                                                            \n",
            "                                                                 \n",
            " flatten_39 (Flatten)        (None, 5408)              0         \n",
            "                                                                 \n",
            " dense_116 (Dense)           (None, 32)                173088    \n",
            "                                                                 \n",
            " activation_205 (Activation)  (None, 32)               0         \n",
            "                                                                 \n",
            " dense_117 (Dense)           (None, 16)                528       \n",
            "                                                                 \n",
            " activation_206 (Activation)  (None, 16)               0         \n",
            "                                                                 \n",
            " dense_118 (Dense)           (None, 10)                170       \n",
            "                                                                 \n",
            " activation_207 (Activation)  (None, 10)               0         \n",
            "                                                                 \n",
            "=================================================================\n",
            "Total params: 175,946\n",
            "Trainable params: 175,946\n",
            "Non-trainable params: 0\n",
            "_________________________________________________________________\n"
          ]
        }
      ],
      "source": [
        "#creat the model\n",
        "model_5 = Sequential()\n",
        "\n",
        "#conv layers\n",
        "\n",
        "##first CNN layer\n",
        "model_5.add(Conv2D(16,(2,2),input_shape = train_images.shape[1:]))\n",
        "model_5.add(Activation(\"relu\"))\n",
        "\n",
        "##second CNN layer\n",
        "model_5.add(Conv2D(32,(2,2)))\n",
        "model_5.add(Activation(\"relu\"))\n",
        "model_5.add(MaxPooling2D(pool_size=(2, 2)))\n",
        "\n",
        "model_5.add(Flatten())\n",
        "\n",
        "#FC layers\n",
        "\n",
        "##first FC layer\n",
        "model_5.add(Dense(32))\n",
        "model_5.add(Activation(\"relu\"))\n",
        "\n",
        "##second FC layer\n",
        "model_5.add(Dense(16))\n",
        "model_5.add(Activation(\"relu\"))\n",
        "\n",
        "# softmax classifier\n",
        "model_5.add(Dense(10))\n",
        "model_5.add(Activation(\"softmax\"))\n",
        "\n",
        "model_5.summary()"
      ]
    },
    {
      "cell_type": "code",
      "execution_count": null,
      "metadata": {
        "colab": {
          "base_uri": "https://localhost:8080/"
        },
        "outputId": "5830f06e-0550-4513-d31f-272c37611ce7",
        "id": "zC0zM1JN0wwG"
      },
      "outputs": [
        {
          "output_type": "stream",
          "name": "stdout",
          "text": [
            "Epoch 1/15\n",
            "1875/1875 [==============================] - 11s 5ms/step - loss: 0.4075 - accuracy: 0.8709\n",
            "Epoch 2/15\n",
            "1875/1875 [==============================] - 10s 5ms/step - loss: 0.1466 - accuracy: 0.9548\n",
            "Epoch 3/15\n",
            "1875/1875 [==============================] - 10s 5ms/step - loss: 0.0904 - accuracy: 0.9722\n",
            "Epoch 4/15\n",
            "1875/1875 [==============================] - 10s 5ms/step - loss: 0.0658 - accuracy: 0.9797\n",
            "Epoch 5/15\n",
            "1875/1875 [==============================] - 10s 6ms/step - loss: 0.0503 - accuracy: 0.9845\n",
            "Epoch 6/15\n",
            "1875/1875 [==============================] - 10s 5ms/step - loss: 0.0390 - accuracy: 0.9877\n",
            "Epoch 7/15\n",
            "1875/1875 [==============================] - 10s 5ms/step - loss: 0.0318 - accuracy: 0.9901\n",
            "Epoch 8/15\n",
            "1875/1875 [==============================] - 10s 5ms/step - loss: 0.0256 - accuracy: 0.9915\n",
            "Epoch 9/15\n",
            "1875/1875 [==============================] - 10s 5ms/step - loss: 0.0207 - accuracy: 0.9934\n",
            "Epoch 10/15\n",
            "1875/1875 [==============================] - 10s 5ms/step - loss: 0.0161 - accuracy: 0.9947\n",
            "Epoch 11/15\n",
            "1875/1875 [==============================] - 10s 5ms/step - loss: 0.0137 - accuracy: 0.9952\n",
            "Epoch 12/15\n",
            "1875/1875 [==============================] - 10s 5ms/step - loss: 0.0119 - accuracy: 0.9959\n",
            "Epoch 13/15\n",
            "1875/1875 [==============================] - 10s 5ms/step - loss: 0.0082 - accuracy: 0.9972\n",
            "Epoch 14/15\n",
            "1875/1875 [==============================] - 10s 5ms/step - loss: 0.0074 - accuracy: 0.9978\n",
            "Epoch 15/15\n",
            "1875/1875 [==============================] - 10s 5ms/step - loss: 0.0048 - accuracy: 0.9987\n"
          ]
        }
      ],
      "source": [
        "model_5.compile(optimizer=tf.keras.optimizers.SGD(learning_rate=0.08), loss=\"categorical_crossentropy\", metrics=['accuracy'])\n",
        "history = model_5.fit(train_images,train_labels,epochs=15,batch_size=32)"
      ]
    },
    {
      "cell_type": "code",
      "source": [
        "loss, acc =model_5.evaluate(test_images , test_labels)\n",
        "print(\"loss =\",loss)\n",
        "print(\"accuracy =\",acc)"
      ],
      "metadata": {
        "colab": {
          "base_uri": "https://localhost:8080/"
        },
        "outputId": "de37b4f2-3787-44a4-ca66-992e49a66d31",
        "id": "uIkas3560wwG"
      },
      "execution_count": null,
      "outputs": [
        {
          "output_type": "stream",
          "name": "stdout",
          "text": [
            "313/313 [==============================] - 2s 4ms/step - loss: 0.0734 - accuracy: 0.9849\n",
            "loss = 0.07336077839136124\n",
            "accuracy = 0.9848999977111816\n"
          ]
        }
      ]
    },
    {
      "cell_type": "code",
      "source": [
        "def plot_losses(history):  \n",
        "    plt.plot(history.history['loss'])\n",
        "    plt.title('model loss')\n",
        "    plt.ylabel('loss')\n",
        "    plt.xlabel('epoch')\n",
        "    plt.legend(['train'], loc='upper left')\n",
        "    plt.show()\n",
        "plot_losses(history)"
      ],
      "metadata": {
        "colab": {
          "base_uri": "https://localhost:8080/",
          "height": 294
        },
        "outputId": "23848244-1755-4684-fc4a-6b65864b752c",
        "id": "vnJOwSKq0wwG"
      },
      "execution_count": null,
      "outputs": [
        {
          "output_type": "display_data",
          "data": {
            "text/plain": [
              "<Figure size 432x288 with 1 Axes>"
            ],
            "image/png": "[encoded data removed]"
          },
          "metadata": {
            "needs_background": "light"
          }
        }
      ]
    },
    {
      "cell_type": "code",
      "source": [
        "def plot_accuracies(history):  \n",
        "    plt.plot(history.history['accuracy'], label='accuracy')\n",
        "    plt.title('model accuracy')\n",
        "    plt.xlabel('Epoch')\n",
        "    plt.ylabel('Accuracy')\n",
        "    plt.legend(loc='upper right')\n",
        "    plt.show()\n",
        "plot_accuracies(history)"
      ],
      "metadata": {
        "colab": {
          "base_uri": "https://localhost:8080/",
          "height": 294
        },
        "outputId": "c83b8140-4a63-44c6-d04e-a20f149f1106",
        "id": "ktn5RlBP0wwG"
      },
      "execution_count": null,
      "outputs": [
        {
          "output_type": "display_data",
          "data": {
            "text/plain": [
              "<Figure size 432x288 with 1 Axes>"
            ],
            "image/png": "[encoded data removed]"
          },
          "metadata": {
            "needs_background": "light"
          }
        }
      ]
    },
    {
      "cell_type": "markdown",
      "source": [
        "##Model 6"
      ],
      "metadata": {
        "id": "DWda35Y_3A6o"
      }
    },
    {
      "cell_type": "code",
      "execution_count": null,
      "metadata": {
        "colab": {
          "base_uri": "https://localhost:8080/"
        },
        "outputId": "6cedb23b-c103-417d-afe3-e897865a76d9",
        "id": "3tOFgNtj3A6u"
      },
      "outputs": [
        {
          "output_type": "stream",
          "name": "stdout",
          "text": [
            "Model: \"sequential_41\"\n",
            "_________________________________________________________________\n",
            " Layer (type)                Output Shape              Param #   \n",
            "=================================================================\n",
            " conv2d_89 (Conv2D)          (None, 27, 27, 16)        80        \n",
            "                                                                 \n",
            " activation_208 (Activation)  (None, 27, 27, 16)       0         \n",
            "                                                                 \n",
            " conv2d_90 (Conv2D)          (None, 26, 26, 32)        2080      \n",
            "                                                                 \n",
            " activation_209 (Activation)  (None, 26, 26, 32)       0         \n",
            "                                                                 \n",
            " max_pooling2d_52 (MaxPoolin  (None, 13, 13, 32)       0         \n",
            " g2D)                                                            \n",
            "                                                                 \n",
            " flatten_40 (Flatten)        (None, 5408)              0         \n",
            "                                                                 \n",
            " dense_119 (Dense)           (None, 32)                173088    \n",
            "                                                                 \n",
            " activation_210 (Activation)  (None, 32)               0         \n",
            "                                                                 \n",
            " dense_120 (Dense)           (None, 16)                528       \n",
            "                                                                 \n",
            " activation_211 (Activation)  (None, 16)               0         \n",
            "                                                                 \n",
            " dense_121 (Dense)           (None, 10)                170       \n",
            "                                                                 \n",
            " activation_212 (Activation)  (None, 10)               0         \n",
            "                                                                 \n",
            "=================================================================\n",
            "Total params: 175,946\n",
            "Trainable params: 175,946\n",
            "Non-trainable params: 0\n",
            "_________________________________________________________________\n"
          ]
        }
      ],
      "source": [
        "#creat the model\n",
        "model_6 = Sequential()\n",
        "\n",
        "#conv layers\n",
        "\n",
        "##first CNN layer\n",
        "model_6.add(Conv2D(16,(2,2),input_shape = train_images.shape[1:]))\n",
        "model_6.add(Activation(\"relu\"))\n",
        "\n",
        "##second CNN layer\n",
        "model_6.add(Conv2D(32,(2,2)))\n",
        "model_6.add(Activation(\"relu\"))\n",
        "model_6.add(MaxPooling2D(pool_size=(2, 2)))\n",
        "\n",
        "model_6.add(Flatten())\n",
        "\n",
        "#FC layers\n",
        "\n",
        "##first FC layer\n",
        "model_6.add(Dense(32))\n",
        "model_6.add(Activation(\"relu\"))\n",
        "\n",
        "##second FC layer\n",
        "model_6.add(Dense(16))\n",
        "model_6.add(Activation(\"relu\"))\n",
        "\n",
        "# softmax classifier\n",
        "model_6.add(Dense(10))\n",
        "model_6.add(Activation(\"softmax\"))\n",
        "\n",
        "model_6.summary()"
      ]
    },
    {
      "cell_type": "code",
      "execution_count": null,
      "metadata": {
        "colab": {
          "base_uri": "https://localhost:8080/"
        },
        "outputId": "273a3a25-5b90-4b12-b308-755e151dbe8d",
        "id": "9N_hM6FG3A6v"
      },
      "outputs": [
        {
          "output_type": "stream",
          "name": "stdout",
          "text": [
            "Epoch 1/15\n",
            "1875/1875 [==============================] - 11s 6ms/step - loss: 0.5340 - accuracy: 0.8350\n",
            "Epoch 2/15\n",
            "1875/1875 [==============================] - 10s 5ms/step - loss: 0.1987 - accuracy: 0.9380\n",
            "Epoch 3/15\n",
            "1875/1875 [==============================] - 10s 6ms/step - loss: 0.1496 - accuracy: 0.9539\n",
            "Epoch 4/15\n",
            "1875/1875 [==============================] - 10s 6ms/step - loss: 0.1163 - accuracy: 0.9638\n",
            "Epoch 5/15\n",
            "1875/1875 [==============================] - 11s 6ms/step - loss: 0.0920 - accuracy: 0.9714\n",
            "Epoch 6/15\n",
            "1875/1875 [==============================] - 11s 6ms/step - loss: 0.0733 - accuracy: 0.9781\n",
            "Epoch 7/15\n",
            "1875/1875 [==============================] - 11s 6ms/step - loss: 0.0600 - accuracy: 0.9816\n",
            "Epoch 8/15\n",
            "1875/1875 [==============================] - 11s 6ms/step - loss: 0.0505 - accuracy: 0.9846\n",
            "Epoch 9/15\n",
            "1875/1875 [==============================] - 11s 6ms/step - loss: 0.0418 - accuracy: 0.9872\n",
            "Epoch 10/15\n",
            "1875/1875 [==============================] - 11s 6ms/step - loss: 0.0357 - accuracy: 0.9888\n",
            "Epoch 11/15\n",
            "1875/1875 [==============================] - 11s 6ms/step - loss: 0.0316 - accuracy: 0.9905\n",
            "Epoch 12/15\n",
            "1875/1875 [==============================] - 10s 6ms/step - loss: 0.0258 - accuracy: 0.9919\n",
            "Epoch 13/15\n",
            "1875/1875 [==============================] - 11s 6ms/step - loss: 0.0224 - accuracy: 0.9928\n",
            "Epoch 14/15\n",
            "1875/1875 [==============================] - 10s 6ms/step - loss: 0.0190 - accuracy: 0.9939\n",
            "Epoch 15/15\n",
            "1875/1875 [==============================] - 10s 6ms/step - loss: 0.0164 - accuracy: 0.9945\n"
          ]
        }
      ],
      "source": [
        "model_6.compile(optimizer=tf.keras.optimizers.SGD(learning_rate=0.03), loss=\"categorical_crossentropy\", metrics=['accuracy'])\n",
        "history = model_6.fit(train_images,train_labels,epochs=15,batch_size=32)"
      ]
    },
    {
      "cell_type": "code",
      "source": [
        "loss, acc =model_6.evaluate(test_images , test_labels)\n",
        "print(\"loss =\",loss)\n",
        "print(\"accuracy =\",acc)"
      ],
      "metadata": {
        "colab": {
          "base_uri": "https://localhost:8080/"
        },
        "outputId": "baf126c3-f330-4a77-b8c8-4047492c676d",
        "id": "WApdRQde3A6v"
      },
      "execution_count": null,
      "outputs": [
        {
          "output_type": "stream",
          "name": "stdout",
          "text": [
            "313/313 [==============================] - 2s 4ms/step - loss: 0.0681 - accuracy: 0.9813\n",
            "loss = 0.06812634319067001\n",
            "accuracy = 0.9812999963760376\n"
          ]
        }
      ]
    },
    {
      "cell_type": "code",
      "source": [
        "def plot_losses(history):  \n",
        "    plt.plot(history.history['loss'])\n",
        "    plt.title('model loss')\n",
        "    plt.ylabel('loss')\n",
        "    plt.xlabel('epoch')\n",
        "    plt.legend(['train'], loc='upper left')\n",
        "    plt.show()\n",
        "plot_losses(history)"
      ],
      "metadata": {
        "colab": {
          "base_uri": "https://localhost:8080/",
          "height": 294
        },
        "outputId": "fd0c4f28-94a5-49c8-85ac-3b0a8be56cbf",
        "id": "pVwnMA6y3A6v"
      },
      "execution_count": null,
      "outputs": [
        {
          "output_type": "display_data",
          "data": {
            "text/plain": [
              "<Figure size 432x288 with 1 Axes>"
            ],
            "image/png": "[encoded data removed]"
          },
          "metadata": {
            "needs_background": "light"
          }
        }
      ]
    },
    {
      "cell_type": "code",
      "source": [
        "def plot_accuracies(history):  \n",
        "    plt.plot(history.history['accuracy'], label='accuracy')\n",
        "    plt.title('model accuracy')\n",
        "    plt.xlabel('Epoch')\n",
        "    plt.ylabel('Accuracy')\n",
        "    plt.legend(loc='upper right')\n",
        "    plt.show()\n",
        "plot_accuracies(history)"
      ],
      "metadata": {
        "colab": {
          "base_uri": "https://localhost:8080/",
          "height": 294
        },
        "outputId": "aa136f74-0ae2-4a18-ea1e-7f4838287e73",
        "id": "E3kjni763A6v"
      },
      "execution_count": null,
      "outputs": [
        {
          "output_type": "display_data",
          "data": {
            "text/plain": [
              "<Figure size 432x288 with 1 Axes>"
            ],
            "image/png": "[encoded data removed]"
          },
          "metadata": {
            "needs_background": "light"
          }
        }
      ]
    },
    {
      "cell_type": "markdown",
      "source": [
        "##Model 7"
      ],
      "metadata": {
        "id": "yozCPPah-fz6"
      }
    },
    {
      "cell_type": "code",
      "execution_count": null,
      "metadata": {
        "colab": {
          "base_uri": "https://localhost:8080/"
        },
        "outputId": "f23607e4-e809-4aa8-8966-231309a31857",
        "id": "8spj-rY0-f0A"
      },
      "outputs": [
        {
          "output_type": "stream",
          "name": "stdout",
          "text": [
            "Model: \"sequential_42\"\n",
            "_________________________________________________________________\n",
            " Layer (type)                Output Shape              Param #   \n",
            "=================================================================\n",
            " conv2d_91 (Conv2D)          (None, 27, 27, 16)        80        \n",
            "                                                                 \n",
            " activation_213 (Activation)  (None, 27, 27, 16)       0         \n",
            "                                                                 \n",
            " max_pooling2d_53 (MaxPoolin  (None, 13, 13, 16)       0         \n",
            " g2D)                                                            \n",
            "                                                                 \n",
            " flatten_41 (Flatten)        (None, 2704)              0         \n",
            "                                                                 \n",
            " dense_122 (Dense)           (None, 16)                43280     \n",
            "                                                                 \n",
            " activation_214 (Activation)  (None, 16)               0         \n",
            "                                                                 \n",
            " dense_123 (Dense)           (None, 10)                170       \n",
            "                                                                 \n",
            " activation_215 (Activation)  (None, 10)               0         \n",
            "                                                                 \n",
            "=================================================================\n",
            "Total params: 43,530\n",
            "Trainable params: 43,530\n",
            "Non-trainable params: 0\n",
            "_________________________________________________________________\n"
          ]
        }
      ],
      "source": [
        "#creat the model\n",
        "model_7 = Sequential()\n",
        "\n",
        "#conv layers\n",
        "\n",
        "##first CNN layer\n",
        "model_7.add(Conv2D(16,(2,2),input_shape = train_images.shape[1:]))\n",
        "model_7.add(Activation(\"relu\"))\n",
        "model_7.add(MaxPooling2D(pool_size=(2, 2)))\n",
        "\n",
        "model_7.add(Flatten())\n",
        "\n",
        "#FC layers\n",
        "\n",
        "##first FC layer\n",
        "model_7.add(Dense(16))\n",
        "model_7.add(Activation(\"relu\"))\n",
        "\n",
        "# softmax classifier\n",
        "model_7.add(Dense(10))\n",
        "model_7.add(Activation(\"softmax\"))\n",
        "\n",
        "model_7.summary()"
      ]
    },
    {
      "cell_type": "code",
      "execution_count": null,
      "metadata": {
        "colab": {
          "base_uri": "https://localhost:8080/"
        },
        "outputId": "dc148fe0-ba50-48f0-e6fd-e4eb964f1880",
        "id": "5ixF4GlE-f0B"
      },
      "outputs": [
        {
          "output_type": "stream",
          "name": "stdout",
          "text": [
            "Epoch 1/15\n",
            "1875/1875 [==============================] - 8s 4ms/step - loss: 0.4574 - accuracy: 0.8652\n",
            "Epoch 2/15\n",
            "1875/1875 [==============================] - 8s 4ms/step - loss: 0.2642 - accuracy: 0.9205\n",
            "Epoch 3/15\n",
            "1875/1875 [==============================] - 8s 4ms/step - loss: 0.2322 - accuracy: 0.9305\n",
            "Epoch 4/15\n",
            "1875/1875 [==============================] - 7s 4ms/step - loss: 0.2112 - accuracy: 0.9362\n",
            "Epoch 5/15\n",
            "1875/1875 [==============================] - 8s 4ms/step - loss: 0.1944 - accuracy: 0.9404\n",
            "Epoch 6/15\n",
            "1875/1875 [==============================] - 8s 4ms/step - loss: 0.1776 - accuracy: 0.9460\n",
            "Epoch 7/15\n",
            "1875/1875 [==============================] - 8s 4ms/step - loss: 0.1612 - accuracy: 0.9507\n",
            "Epoch 8/15\n",
            "1875/1875 [==============================] - 8s 4ms/step - loss: 0.1447 - accuracy: 0.9557\n",
            "Epoch 9/15\n",
            "1875/1875 [==============================] - 8s 4ms/step - loss: 0.1282 - accuracy: 0.9610\n",
            "Epoch 10/15\n",
            "1875/1875 [==============================] - 7s 4ms/step - loss: 0.1131 - accuracy: 0.9669\n",
            "Epoch 11/15\n",
            "1875/1875 [==============================] - 7s 4ms/step - loss: 0.1007 - accuracy: 0.9700\n",
            "Epoch 12/15\n",
            "1875/1875 [==============================] - 7s 4ms/step - loss: 0.0915 - accuracy: 0.9728\n",
            "Epoch 13/15\n",
            "1875/1875 [==============================] - 7s 4ms/step - loss: 0.0842 - accuracy: 0.9747\n",
            "Epoch 14/15\n",
            "1875/1875 [==============================] - 7s 4ms/step - loss: 0.0773 - accuracy: 0.9769\n",
            "Epoch 15/15\n",
            "1875/1875 [==============================] - 7s 4ms/step - loss: 0.0725 - accuracy: 0.9783\n"
          ]
        }
      ],
      "source": [
        "model_7.compile(optimizer=tf.keras.optimizers.SGD(learning_rate=0.05), loss=\"categorical_crossentropy\", metrics=['accuracy'])\n",
        "history = model_7.fit(train_images,train_labels,epochs=15,batch_size=32)"
      ]
    },
    {
      "cell_type": "code",
      "source": [
        "loss, acc =model_7.evaluate(test_images , test_labels)\n",
        "print(\"loss =\",loss)\n",
        "print(\"accuracy =\",acc)"
      ],
      "metadata": {
        "colab": {
          "base_uri": "https://localhost:8080/"
        },
        "outputId": "dfcc21a1-e125-4d6f-eb17-b6fba3f11197",
        "id": "se_6NKzr-f0B"
      },
      "execution_count": null,
      "outputs": [
        {
          "output_type": "stream",
          "name": "stdout",
          "text": [
            "313/313 [==============================] - 1s 4ms/step - loss: 0.1078 - accuracy: 0.9674\n",
            "loss = 0.10780709236860275\n",
            "accuracy = 0.9674000144004822\n"
          ]
        }
      ]
    },
    {
      "cell_type": "code",
      "source": [
        "def plot_losses(history):  \n",
        "    plt.plot(history.history['loss'])\n",
        "    plt.title('model loss')\n",
        "    plt.ylabel('loss')\n",
        "    plt.xlabel('epoch')\n",
        "    plt.legend(['train'], loc='upper left')\n",
        "    plt.show()\n",
        "plot_losses(history)"
      ],
      "metadata": {
        "colab": {
          "base_uri": "https://localhost:8080/",
          "height": 294
        },
        "outputId": "6d81a3e7-2286-47ba-fb86-72e33e6b8a2d",
        "id": "0RRYOG5W-f0B"
      },
      "execution_count": null,
      "outputs": [
        {
          "output_type": "display_data",
          "data": {
            "text/plain": [
              "<Figure size 432x288 with 1 Axes>"
            ],
            "image/png": "[encoded data removed]"
          },
          "metadata": {
            "needs_background": "light"
          }
        }
      ]
    },
    {
      "cell_type": "code",
      "source": [
        "def plot_accuracies(history):  \n",
        "    plt.plot(history.history['accuracy'], label='accuracy')\n",
        "    plt.title('model accuracy')\n",
        "    plt.xlabel('Epoch')\n",
        "    plt.ylabel('Accuracy')\n",
        "    plt.legend(loc='upper right')\n",
        "    plt.show()\n",
        "plot_accuracies(history)"
      ],
      "metadata": {
        "colab": {
          "base_uri": "https://localhost:8080/",
          "height": 294
        },
        "outputId": "f9cb4b32-60cc-49e3-a33c-06ed06a5b001",
        "id": "w9g-f6yW-f0B"
      },
      "execution_count": null,
      "outputs": [
        {
          "output_type": "display_data",
          "data": {
            "text/plain": [
              "<Figure size 432x288 with 1 Axes>"
            ],
            "image/png": "[encoded data removed]"
          },
          "metadata": {
            "needs_background": "light"
          }
        }
      ]
    },
    {
      "cell_type": "markdown",
      "source": [
        "##Model 8"
      ],
      "metadata": {
        "id": "cx3Qu4KxObSd"
      }
    },
    {
      "cell_type": "code",
      "execution_count": null,
      "metadata": {
        "colab": {
          "base_uri": "https://localhost:8080/"
        },
        "outputId": "4c80a784-1ef5-450a-efe0-0e56e56fe538",
        "id": "0xkOwOiIObSj"
      },
      "outputs": [
        {
          "output_type": "stream",
          "name": "stdout",
          "text": [
            "Model: \"sequential_43\"\n",
            "_________________________________________________________________\n",
            " Layer (type)                Output Shape              Param #   \n",
            "=================================================================\n",
            " conv2d_92 (Conv2D)          (None, 27, 27, 32)        160       \n",
            "                                                                 \n",
            " activation_216 (Activation)  (None, 27, 27, 32)       0         \n",
            "                                                                 \n",
            " max_pooling2d_54 (MaxPoolin  (None, 13, 13, 32)       0         \n",
            " g2D)                                                            \n",
            "                                                                 \n",
            " flatten_42 (Flatten)        (None, 5408)              0         \n",
            "                                                                 \n",
            " dense_124 (Dense)           (None, 32)                173088    \n",
            "                                                                 \n",
            " activation_217 (Activation)  (None, 32)               0         \n",
            "                                                                 \n",
            " dense_125 (Dense)           (None, 16)                528       \n",
            "                                                                 \n",
            " activation_218 (Activation)  (None, 16)               0         \n",
            "                                                                 \n",
            " dense_126 (Dense)           (None, 10)                170       \n",
            "                                                                 \n",
            " activation_219 (Activation)  (None, 10)               0         \n",
            "                                                                 \n",
            "=================================================================\n",
            "Total params: 173,946\n",
            "Trainable params: 173,946\n",
            "Non-trainable params: 0\n",
            "_________________________________________________________________\n"
          ]
        }
      ],
      "source": [
        "#creat the model\n",
        "model_8 = Sequential()\n",
        "\n",
        "#conv layers\n",
        "\n",
        "##first CNN layer\n",
        "model_8.add(Conv2D(32,(2,2),input_shape = train_images.shape[1:]))\n",
        "model_8.add(Activation(\"relu\"))\n",
        "model_8.add(MaxPooling2D(pool_size=(2, 2)))\n",
        "\n",
        "model_8.add(Flatten())\n",
        "\n",
        "#FC layers\n",
        "\n",
        "##first FC layer\n",
        "model_8.add(Dense(32))\n",
        "model_8.add(Activation(\"relu\"))\n",
        "\n",
        "##second FC layer\n",
        "model_8.add(Dense(16))\n",
        "model_8.add(Activation(\"relu\"))\n",
        "\n",
        "# softmax classifier\n",
        "model_8.add(Dense(10))\n",
        "model_8.add(Activation(\"softmax\"))\n",
        "\n",
        "model_8.summary()"
      ]
    },
    {
      "cell_type": "code",
      "execution_count": null,
      "metadata": {
        "colab": {
          "base_uri": "https://localhost:8080/"
        },
        "outputId": "915d48fc-4121-4820-fd08-094776ea1883",
        "id": "Cchv4TxGObSk"
      },
      "outputs": [
        {
          "output_type": "stream",
          "name": "stdout",
          "text": [
            "Epoch 1/15\n",
            "1875/1875 [==============================] - 8s 4ms/step - loss: 0.4389 - accuracy: 0.8657\n",
            "Epoch 2/15\n",
            "1875/1875 [==============================] - 8s 4ms/step - loss: 0.2014 - accuracy: 0.9376\n",
            "Epoch 3/15\n",
            "1875/1875 [==============================] - 8s 4ms/step - loss: 0.1623 - accuracy: 0.9505\n",
            "Epoch 4/15\n",
            "1875/1875 [==============================] - 8s 4ms/step - loss: 0.1390 - accuracy: 0.9577\n",
            "Epoch 5/15\n",
            "1875/1875 [==============================] - 8s 4ms/step - loss: 0.1187 - accuracy: 0.9640\n",
            "Epoch 6/15\n",
            "1875/1875 [==============================] - 8s 4ms/step - loss: 0.1052 - accuracy: 0.9674\n",
            "Epoch 7/15\n",
            "1875/1875 [==============================] - 8s 4ms/step - loss: 0.0921 - accuracy: 0.9716\n",
            "Epoch 8/15\n",
            "1875/1875 [==============================] - 8s 4ms/step - loss: 0.0796 - accuracy: 0.9752\n",
            "Epoch 9/15\n",
            "1875/1875 [==============================] - 8s 4ms/step - loss: 0.0709 - accuracy: 0.9780\n",
            "Epoch 10/15\n",
            "1875/1875 [==============================] - 8s 4ms/step - loss: 0.0616 - accuracy: 0.9807\n",
            "Epoch 11/15\n",
            "1875/1875 [==============================] - 8s 4ms/step - loss: 0.0547 - accuracy: 0.9830\n",
            "Epoch 12/15\n",
            "1875/1875 [==============================] - 8s 4ms/step - loss: 0.0476 - accuracy: 0.9852\n",
            "Epoch 13/15\n",
            "1875/1875 [==============================] - 8s 4ms/step - loss: 0.0434 - accuracy: 0.9866\n",
            "Epoch 14/15\n",
            "1875/1875 [==============================] - 8s 5ms/step - loss: 0.0382 - accuracy: 0.9879\n",
            "Epoch 15/15\n",
            "1875/1875 [==============================] - 8s 4ms/step - loss: 0.0321 - accuracy: 0.9897\n"
          ]
        }
      ],
      "source": [
        "model_8.compile(optimizer=tf.keras.optimizers.SGD(learning_rate=0.05), loss=\"categorical_crossentropy\", metrics=['accuracy'])\n",
        "history = model_8.fit(train_images,train_labels,epochs=15,batch_size=32)"
      ]
    },
    {
      "cell_type": "code",
      "source": [
        "loss, acc =model_8.evaluate(test_images , test_labels)\n",
        "print(\"loss =\",loss)\n",
        "print(\"accuracy =\",acc)"
      ],
      "metadata": {
        "colab": {
          "base_uri": "https://localhost:8080/"
        },
        "outputId": "72834870-5224-4f37-ce57-3cbce0ac9881",
        "id": "ECzPJm7tObSk"
      },
      "execution_count": null,
      "outputs": [
        {
          "output_type": "stream",
          "name": "stdout",
          "text": [
            "313/313 [==============================] - 1s 4ms/step - loss: 0.0796 - accuracy: 0.9762\n",
            "loss = 0.07955747097730637\n",
            "accuracy = 0.9761999845504761\n"
          ]
        }
      ]
    },
    {
      "cell_type": "code",
      "source": [
        "def plot_losses(history):  \n",
        "    plt.plot(history.history['loss'])\n",
        "    plt.title('model loss')\n",
        "    plt.ylabel('loss')\n",
        "    plt.xlabel('epoch')\n",
        "    plt.legend(['train'], loc='upper left')\n",
        "    plt.show()\n",
        "plot_losses(history)"
      ],
      "metadata": {
        "colab": {
          "base_uri": "https://localhost:8080/",
          "height": 294
        },
        "outputId": "bb6278a1-a821-4442-b8aa-f7afb394530c",
        "id": "BiTMHoOnObSk"
      },
      "execution_count": null,
      "outputs": [
        {
          "output_type": "display_data",
          "data": {
            "text/plain": [
              "<Figure size 432x288 with 1 Axes>"
            ],
            "image/png": "[encoded data removed]"
          },
          "metadata": {
            "needs_background": "light"
          }
        }
      ]
    },
    {
      "cell_type": "code",
      "source": [
        "def plot_accuracies(history):  \n",
        "    plt.plot(history.history['accuracy'], label='accuracy')\n",
        "    plt.title('model accuracy')\n",
        "    plt.xlabel('Epoch')\n",
        "    plt.ylabel('Accuracy')\n",
        "    plt.legend(loc='upper right')\n",
        "    plt.show()\n",
        "plot_accuracies(history)"
      ],
      "metadata": {
        "colab": {
          "base_uri": "https://localhost:8080/",
          "height": 294
        },
        "outputId": "50cc51d7-c7b0-4734-83dd-7b8ce5a312b9",
        "id": "uNDtc3SDObSl"
      },
      "execution_count": null,
      "outputs": [
        {
          "output_type": "display_data",
          "data": {
            "text/plain": [
              "<Figure size 432x288 with 1 Axes>"
            ],
            "image/png": "[encoded data removed]"
          },
          "metadata": {
            "needs_background": "light"
          }
        }
      ]
    },
    {
      "cell_type": "markdown",
      "source": [
        "##Model 9"
      ],
      "metadata": {
        "id": "jBMSVjUHQqZ2"
      }
    },
    {
      "cell_type": "code",
      "execution_count": null,
      "metadata": {
        "colab": {
          "base_uri": "https://localhost:8080/"
        },
        "outputId": "52aefdcc-7a72-4e38-feba-f5c0981abcf5",
        "id": "yIUJw5moQqZ9"
      },
      "outputs": [
        {
          "output_type": "stream",
          "name": "stdout",
          "text": [
            "Model: \"sequential_44\"\n",
            "_________________________________________________________________\n",
            " Layer (type)                Output Shape              Param #   \n",
            "=================================================================\n",
            " conv2d_93 (Conv2D)          (None, 27, 27, 16)        80        \n",
            "                                                                 \n",
            " activation_220 (Activation)  (None, 27, 27, 16)       0         \n",
            "                                                                 \n",
            " conv2d_94 (Conv2D)          (None, 26, 26, 32)        2080      \n",
            "                                                                 \n",
            " activation_221 (Activation)  (None, 26, 26, 32)       0         \n",
            "                                                                 \n",
            " max_pooling2d_55 (MaxPoolin  (None, 13, 13, 32)       0         \n",
            " g2D)                                                            \n",
            "                                                                 \n",
            " flatten_43 (Flatten)        (None, 5408)              0         \n",
            "                                                                 \n",
            " dense_127 (Dense)           (None, 32)                173088    \n",
            "                                                                 \n",
            " activation_222 (Activation)  (None, 32)               0         \n",
            "                                                                 \n",
            " dense_128 (Dense)           (None, 10)                330       \n",
            "                                                                 \n",
            " activation_223 (Activation)  (None, 10)               0         \n",
            "                                                                 \n",
            "=================================================================\n",
            "Total params: 175,578\n",
            "Trainable params: 175,578\n",
            "Non-trainable params: 0\n",
            "_________________________________________________________________\n"
          ]
        }
      ],
      "source": [
        "#creat the model\n",
        "model_9 = Sequential()\n",
        "\n",
        "#conv layers\n",
        "\n",
        "##first CNN layer\n",
        "model_9.add(Conv2D(16,(2,2),input_shape = train_images.shape[1:]))\n",
        "model_9.add(Activation(\"relu\"))\n",
        "\n",
        "##second CNN layer\n",
        "model_9.add(Conv2D(32,(2,2)))\n",
        "model_9.add(Activation(\"relu\"))\n",
        "model_9.add(MaxPooling2D(pool_size=(2, 2)))\n",
        "\n",
        "model_9.add(Flatten())\n",
        "\n",
        "#FC layers\n",
        "\n",
        "##first FC layer\n",
        "model_9.add(Dense(32))\n",
        "model_9.add(Activation(\"relu\"))\n",
        "\n",
        "# softmax classifier\n",
        "model_9.add(Dense(10))\n",
        "model_9.add(Activation(\"softmax\"))\n",
        "\n",
        "model_9.summary()"
      ]
    },
    {
      "cell_type": "code",
      "execution_count": null,
      "metadata": {
        "colab": {
          "base_uri": "https://localhost:8080/"
        },
        "outputId": "26810873-5109-451c-e96f-17b5f0685426",
        "id": "5uASiBndQqZ9"
      },
      "outputs": [
        {
          "output_type": "stream",
          "name": "stdout",
          "text": [
            "Epoch 1/15\n",
            "1875/1875 [==============================] - 11s 5ms/step - loss: 0.3562 - accuracy: 0.8918\n",
            "Epoch 2/15\n",
            "1875/1875 [==============================] - 10s 5ms/step - loss: 0.1736 - accuracy: 0.9464\n",
            "Epoch 3/15\n",
            "1875/1875 [==============================] - 10s 5ms/step - loss: 0.1252 - accuracy: 0.9616\n",
            "Epoch 4/15\n",
            "1875/1875 [==============================] - 10s 5ms/step - loss: 0.0929 - accuracy: 0.9718\n",
            "Epoch 5/15\n",
            "1875/1875 [==============================] - 10s 5ms/step - loss: 0.0741 - accuracy: 0.9773\n",
            "Epoch 6/15\n",
            "1875/1875 [==============================] - 10s 5ms/step - loss: 0.0605 - accuracy: 0.9809\n",
            "Epoch 7/15\n",
            "1875/1875 [==============================] - 10s 5ms/step - loss: 0.0506 - accuracy: 0.9843\n",
            "Epoch 8/15\n",
            "1875/1875 [==============================] - 10s 5ms/step - loss: 0.0434 - accuracy: 0.9862\n",
            "Epoch 9/15\n",
            "1875/1875 [==============================] - 10s 5ms/step - loss: 0.0362 - accuracy: 0.9883\n",
            "Epoch 10/15\n",
            "1875/1875 [==============================] - 10s 5ms/step - loss: 0.0309 - accuracy: 0.9901\n",
            "Epoch 11/15\n",
            "1875/1875 [==============================] - 10s 5ms/step - loss: 0.0266 - accuracy: 0.9913\n",
            "Epoch 12/15\n",
            "1875/1875 [==============================] - 10s 5ms/step - loss: 0.0238 - accuracy: 0.9922\n",
            "Epoch 13/15\n",
            "1875/1875 [==============================] - 10s 5ms/step - loss: 0.0200 - accuracy: 0.9934\n",
            "Epoch 14/15\n",
            "1875/1875 [==============================] - 10s 5ms/step - loss: 0.0171 - accuracy: 0.9943\n",
            "Epoch 15/15\n",
            "1875/1875 [==============================] - 10s 5ms/step - loss: 0.0143 - accuracy: 0.9953\n"
          ]
        }
      ],
      "source": [
        "model_9.compile(optimizer=tf.keras.optimizers.SGD(learning_rate=0.05), loss=\"categorical_crossentropy\", metrics=['accuracy'])\n",
        "history = model_9.fit(train_images,train_labels,epochs=15,batch_size=32)"
      ]
    },
    {
      "cell_type": "code",
      "source": [
        "loss, acc =model_9.evaluate(test_images , test_labels)\n",
        "print(\"loss =\",loss)\n",
        "print(\"accuracy =\",acc)"
      ],
      "metadata": {
        "colab": {
          "base_uri": "https://localhost:8080/"
        },
        "outputId": "5fdd1251-a522-44a0-94a1-1dc6ba93f1ae",
        "id": "u2oCHYBwQqZ9"
      },
      "execution_count": null,
      "outputs": [
        {
          "output_type": "stream",
          "name": "stdout",
          "text": [
            "313/313 [==============================] - 1s 4ms/step - loss: 0.0757 - accuracy: 0.9805\n",
            "loss = 0.07571687549352646\n",
            "accuracy = 0.9804999828338623\n"
          ]
        }
      ]
    },
    {
      "cell_type": "code",
      "source": [
        "def plot_losses(history):  \n",
        "    plt.plot(history.history['loss'])\n",
        "    plt.title('model loss')\n",
        "    plt.ylabel('loss')\n",
        "    plt.xlabel('epoch')\n",
        "    plt.legend(['train'], loc='upper left')\n",
        "    plt.show()\n",
        "plot_losses(history)"
      ],
      "metadata": {
        "colab": {
          "base_uri": "https://localhost:8080/",
          "height": 294
        },
        "outputId": "edaf090a-ca11-43fb-8225-1a53b04d4e82",
        "id": "dFq3LYVpQqZ9"
      },
      "execution_count": null,
      "outputs": [
        {
          "output_type": "display_data",
          "data": {
            "text/plain": [
              "<Figure size 432x288 with 1 Axes>"
            ],
            "image/png": "[encoded data removed]"
          },
          "metadata": {
            "needs_background": "light"
          }
        }
      ]
    },
    {
      "cell_type": "code",
      "source": [
        "def plot_accuracies(history):  \n",
        "    plt.plot(history.history['accuracy'], label='accuracy')\n",
        "    plt.title('model accuracy')\n",
        "    plt.xlabel('Epoch')\n",
        "    plt.ylabel('Accuracy')\n",
        "    plt.legend(loc='upper right')\n",
        "    plt.show()\n",
        "plot_accuracies(history)"
      ],
      "metadata": {
        "colab": {
          "base_uri": "https://localhost:8080/",
          "height": 294
        },
        "outputId": "86b7e726-8975-482a-d72a-f62c6b486e38",
        "id": "bBO0xxvYQqZ-"
      },
      "execution_count": null,
      "outputs": [
        {
          "output_type": "display_data",
          "data": {
            "text/plain": [
              "<Figure size 432x288 with 1 Axes>"
            ],
            "image/png": "[encoded data removed]"
          },
          "metadata": {
            "needs_background": "light"
          }
        }
      ]
    },
    {
      "cell_type": "markdown",
      "source": [
        "##Model 10"
      ],
      "metadata": {
        "id": "BMoLQsw7TgCP"
      }
    },
    {
      "cell_type": "code",
      "execution_count": null,
      "metadata": {
        "colab": {
          "base_uri": "https://localhost:8080/"
        },
        "outputId": "8f28e4e7-a768-45f2-9711-9a51b82214b9",
        "id": "jvkhe0g9TgCW"
      },
      "outputs": [
        {
          "output_type": "stream",
          "name": "stdout",
          "text": [
            "Model: \"sequential_45\"\n",
            "_________________________________________________________________\n",
            " Layer (type)                Output Shape              Param #   \n",
            "=================================================================\n",
            " conv2d_95 (Conv2D)          (None, 27, 27, 16)        80        \n",
            "                                                                 \n",
            " activation_224 (Activation)  (None, 27, 27, 16)       0         \n",
            "                                                                 \n",
            " conv2d_96 (Conv2D)          (None, 26, 26, 32)        2080      \n",
            "                                                                 \n",
            " activation_225 (Activation)  (None, 26, 26, 32)       0         \n",
            "                                                                 \n",
            " max_pooling2d_56 (MaxPoolin  (None, 13, 13, 32)       0         \n",
            " g2D)                                                            \n",
            "                                                                 \n",
            " conv2d_97 (Conv2D)          (None, 12, 12, 64)        8256      \n",
            "                                                                 \n",
            " activation_226 (Activation)  (None, 12, 12, 64)       0         \n",
            "                                                                 \n",
            " max_pooling2d_57 (MaxPoolin  (None, 6, 6, 64)         0         \n",
            " g2D)                                                            \n",
            "                                                                 \n",
            " flatten_44 (Flatten)        (None, 2304)              0         \n",
            "                                                                 \n",
            " dense_129 (Dense)           (None, 64)                147520    \n",
            "                                                                 \n",
            " activation_227 (Activation)  (None, 64)               0         \n",
            "                                                                 \n",
            " dense_130 (Dense)           (None, 32)                2080      \n",
            "                                                                 \n",
            " activation_228 (Activation)  (None, 32)               0         \n",
            "                                                                 \n",
            " dense_131 (Dense)           (None, 10)                330       \n",
            "                                                                 \n",
            " activation_229 (Activation)  (None, 10)               0         \n",
            "                                                                 \n",
            "=================================================================\n",
            "Total params: 160,346\n",
            "Trainable params: 160,346\n",
            "Non-trainable params: 0\n",
            "_________________________________________________________________\n"
          ]
        }
      ],
      "source": [
        "#creat the model\n",
        "model_10 = Sequential()\n",
        "\n",
        "#conv layers\n",
        "\n",
        "##first CNN layer\n",
        "model_10.add(Conv2D(16,(2,2),input_shape = train_images.shape[1:]))\n",
        "model_10.add(Activation(\"relu\"))\n",
        "\n",
        "##second CNN layer\n",
        "model_10.add(Conv2D(32,(2,2)))\n",
        "model_10.add(Activation(\"relu\"))\n",
        "model_10.add(MaxPooling2D(pool_size=(2, 2)))\n",
        "\n",
        "##third CNN layer\n",
        "model_10.add(Conv2D(64,(2,2)))\n",
        "model_10.add(Activation(\"relu\"))\n",
        "model_10.add(MaxPooling2D(pool_size=(2, 2)))\n",
        "\n",
        "model_10.add(Flatten())\n",
        "\n",
        "#FC layers\n",
        "\n",
        "##first FC layer\n",
        "model_10.add(Dense(64))\n",
        "model_10.add(Activation(\"relu\"))\n",
        "\n",
        "##second FC layer\n",
        "model_10.add(Dense(32))\n",
        "model_10.add(Activation(\"relu\"))\n",
        "\n",
        "# softmax classifier\n",
        "model_10.add(Dense(10))\n",
        "model_10.add(Activation(\"softmax\"))\n",
        "\n",
        "model_10.summary()"
      ]
    },
    {
      "cell_type": "code",
      "execution_count": null,
      "metadata": {
        "colab": {
          "base_uri": "https://localhost:8080/"
        },
        "outputId": "baae484e-88d2-44eb-ce77-89cdac2abb6d",
        "id": "zYQNFyg3TgCW"
      },
      "outputs": [
        {
          "output_type": "stream",
          "name": "stdout",
          "text": [
            "Epoch 1/15\n",
            "1875/1875 [==============================] - 13s 7ms/step - loss: 0.3986 - accuracy: 0.8713\n",
            "Epoch 2/15\n",
            "1875/1875 [==============================] - 13s 7ms/step - loss: 0.1023 - accuracy: 0.9682\n",
            "Epoch 3/15\n",
            "1875/1875 [==============================] - 13s 7ms/step - loss: 0.0725 - accuracy: 0.9773\n",
            "Epoch 4/15\n",
            "1875/1875 [==============================] - 13s 7ms/step - loss: 0.0560 - accuracy: 0.9822\n",
            "Epoch 5/15\n",
            "1875/1875 [==============================] - 13s 7ms/step - loss: 0.0464 - accuracy: 0.9852\n",
            "Epoch 6/15\n",
            "1875/1875 [==============================] - 13s 7ms/step - loss: 0.0366 - accuracy: 0.9881\n",
            "Epoch 7/15\n",
            "1875/1875 [==============================] - 13s 7ms/step - loss: 0.0318 - accuracy: 0.9895\n",
            "Epoch 8/15\n",
            "1875/1875 [==============================] - 13s 7ms/step - loss: 0.0253 - accuracy: 0.9918\n",
            "Epoch 9/15\n",
            "1875/1875 [==============================] - 13s 7ms/step - loss: 0.0215 - accuracy: 0.9933\n",
            "Epoch 10/15\n",
            "1875/1875 [==============================] - 13s 7ms/step - loss: 0.0193 - accuracy: 0.9935\n",
            "Epoch 11/15\n",
            "1875/1875 [==============================] - 13s 7ms/step - loss: 0.0158 - accuracy: 0.9948\n",
            "Epoch 12/15\n",
            "1875/1875 [==============================] - 13s 7ms/step - loss: 0.0137 - accuracy: 0.9952\n",
            "Epoch 13/15\n",
            "1875/1875 [==============================] - 13s 7ms/step - loss: 0.0120 - accuracy: 0.9958\n",
            "Epoch 14/15\n",
            "1875/1875 [==============================] - 13s 7ms/step - loss: 0.0094 - accuracy: 0.9970\n",
            "Epoch 15/15\n",
            "1875/1875 [==============================] - 13s 7ms/step - loss: 0.0077 - accuracy: 0.9976\n"
          ]
        }
      ],
      "source": [
        "model_10.compile(optimizer=tf.keras.optimizers.SGD(learning_rate=0.05), loss=\"categorical_crossentropy\", metrics=['accuracy'])\n",
        "history = model_10.fit(train_images,train_labels,epochs=15,batch_size=32)"
      ]
    },
    {
      "cell_type": "code",
      "source": [
        "loss, acc =model_10.evaluate(test_images , test_labels)\n",
        "print(\"loss =\",loss)\n",
        "print(\"accuracy =\",acc)"
      ],
      "metadata": {
        "colab": {
          "base_uri": "https://localhost:8080/"
        },
        "outputId": "74874178-5359-46d7-8920-f683ba63f3f6",
        "id": "38AhKH74TgCX"
      },
      "execution_count": null,
      "outputs": [
        {
          "output_type": "stream",
          "name": "stdout",
          "text": [
            "313/313 [==============================] - 2s 5ms/step - loss: 0.0502 - accuracy: 0.9874\n",
            "loss = 0.05020773783326149\n",
            "accuracy = 0.9873999953269958\n"
          ]
        }
      ]
    },
    {
      "cell_type": "code",
      "source": [
        "def plot_losses(history):  \n",
        "    plt.plot(history.history['loss'])\n",
        "    plt.title('model loss')\n",
        "    plt.ylabel('loss')\n",
        "    plt.xlabel('epoch')\n",
        "    plt.legend(['train'], loc='upper left')\n",
        "    plt.show()\n",
        "plot_losses(history)"
      ],
      "metadata": {
        "colab": {
          "base_uri": "https://localhost:8080/",
          "height": 294
        },
        "outputId": "ebf0364a-cf85-48c9-cb15-bd12f0598cdf",
        "id": "-szsf8FjTgCX"
      },
      "execution_count": null,
      "outputs": [
        {
          "output_type": "display_data",
          "data": {
            "text/plain": [
              "<Figure size 432x288 with 1 Axes>"
            ],
            "image/png": "[encoded data removed]"
          },
          "metadata": {
            "needs_background": "light"
          }
        }
      ]
    },
    {
      "cell_type": "code",
      "source": [
        "def plot_accuracies(history):  \n",
        "    plt.plot(history.history['accuracy'], label='accuracy')\n",
        "    plt.title('model accuracy')\n",
        "    plt.xlabel('Epoch')\n",
        "    plt.ylabel('Accuracy')\n",
        "    plt.legend(loc='upper right')\n",
        "    plt.show()\n",
        "plot_accuracies(history)"
      ],
      "metadata": {
        "colab": {
          "base_uri": "https://localhost:8080/",
          "height": 294
        },
        "outputId": "6c04d0bd-8f60-4d35-c31c-c421f952bcf4",
        "id": "dd2kV9KDTgCX"
      },
      "execution_count": null,
      "outputs": [
        {
          "output_type": "display_data",
          "data": {
            "text/plain": [
              "<Figure size 432x288 with 1 Axes>"
            ],
            "image/png": "[encoded data removed]"
          },
          "metadata": {
            "needs_background": "light"
          }
        }
      ]
    },
    {
      "cell_type": "markdown",
      "source": [
        "##Model 11"
      ],
      "metadata": {
        "id": "VXS1qzy8VomP"
      }
    },
    {
      "cell_type": "code",
      "execution_count": null,
      "metadata": {
        "colab": {
          "base_uri": "https://localhost:8080/"
        },
        "outputId": "1387149a-4098-41c3-ee3a-72223f491132",
        "id": "IdrEQiB3VomW"
      },
      "outputs": [
        {
          "output_type": "stream",
          "name": "stdout",
          "text": [
            "Model: \"sequential_46\"\n",
            "_________________________________________________________________\n",
            " Layer (type)                Output Shape              Param #   \n",
            "=================================================================\n",
            " conv2d_98 (Conv2D)          (None, 27, 27, 16)        80        \n",
            "                                                                 \n",
            " activation_230 (Activation)  (None, 27, 27, 16)       0         \n",
            "                                                                 \n",
            " conv2d_99 (Conv2D)          (None, 26, 26, 32)        2080      \n",
            "                                                                 \n",
            " activation_231 (Activation)  (None, 26, 26, 32)       0         \n",
            "                                                                 \n",
            " max_pooling2d_58 (MaxPoolin  (None, 13, 13, 32)       0         \n",
            " g2D)                                                            \n",
            "                                                                 \n",
            " conv2d_100 (Conv2D)         (None, 12, 12, 64)        8256      \n",
            "                                                                 \n",
            " activation_232 (Activation)  (None, 12, 12, 64)       0         \n",
            "                                                                 \n",
            " max_pooling2d_59 (MaxPoolin  (None, 6, 6, 64)         0         \n",
            " g2D)                                                            \n",
            "                                                                 \n",
            " flatten_45 (Flatten)        (None, 2304)              0         \n",
            "                                                                 \n",
            " dense_132 (Dense)           (None, 64)                147520    \n",
            "                                                                 \n",
            " activation_233 (Activation)  (None, 64)               0         \n",
            "                                                                 \n",
            " dense_133 (Dense)           (None, 32)                2080      \n",
            "                                                                 \n",
            " activation_234 (Activation)  (None, 32)               0         \n",
            "                                                                 \n",
            " dense_134 (Dense)           (None, 16)                528       \n",
            "                                                                 \n",
            " activation_235 (Activation)  (None, 16)               0         \n",
            "                                                                 \n",
            " dense_135 (Dense)           (None, 10)                170       \n",
            "                                                                 \n",
            " activation_236 (Activation)  (None, 10)               0         \n",
            "                                                                 \n",
            "=================================================================\n",
            "Total params: 160,714\n",
            "Trainable params: 160,714\n",
            "Non-trainable params: 0\n",
            "_________________________________________________________________\n"
          ]
        }
      ],
      "source": [
        "#creat the model\n",
        "model_11 = Sequential()\n",
        "\n",
        "#conv layers\n",
        "\n",
        "##first CNN layer\n",
        "model_11.add(Conv2D(16,(2,2),input_shape = train_images.shape[1:]))\n",
        "model_11.add(Activation(\"relu\"))\n",
        "\n",
        "##second CNN layer\n",
        "model_11.add(Conv2D(32,(2,2)))\n",
        "model_11.add(Activation(\"relu\"))\n",
        "model_11.add(MaxPooling2D(pool_size=(2, 2)))\n",
        "\n",
        "##third CNN layer\n",
        "model_11.add(Conv2D(64,(2,2)))\n",
        "model_11.add(Activation(\"relu\"))\n",
        "model_11.add(MaxPooling2D(pool_size=(2, 2)))\n",
        "\n",
        "model_11.add(Flatten())\n",
        "\n",
        "#FC layers\n",
        "\n",
        "##first FC layer\n",
        "model_11.add(Dense(64))\n",
        "model_11.add(Activation(\"relu\"))\n",
        "\n",
        "##second FC layer\n",
        "model_11.add(Dense(32))\n",
        "model_11.add(Activation(\"relu\"))\n",
        "\n",
        "##third FC layer\n",
        "model_11.add(Dense(16))\n",
        "model_11.add(Activation(\"relu\"))\n",
        "\n",
        "# softmax classifier\n",
        "model_11.add(Dense(10))\n",
        "model_11.add(Activation(\"softmax\"))\n",
        "\n",
        "model_11.summary()"
      ]
    },
    {
      "cell_type": "code",
      "execution_count": null,
      "metadata": {
        "colab": {
          "base_uri": "https://localhost:8080/"
        },
        "outputId": "55659437-7c58-4aea-f2c4-80c036f7a6d3",
        "id": "-X82HcRgVomW"
      },
      "outputs": [
        {
          "output_type": "stream",
          "name": "stdout",
          "text": [
            "Epoch 1/15\n",
            "1875/1875 [==============================] - 14s 7ms/step - loss: 0.5217 - accuracy: 0.8280\n",
            "Epoch 2/15\n",
            "1875/1875 [==============================] - 13s 7ms/step - loss: 0.1058 - accuracy: 0.9671\n",
            "Epoch 3/15\n",
            "1875/1875 [==============================] - 13s 7ms/step - loss: 0.0697 - accuracy: 0.9780\n",
            "Epoch 4/15\n",
            "1875/1875 [==============================] - 13s 7ms/step - loss: 0.0532 - accuracy: 0.9840\n",
            "Epoch 5/15\n",
            "1875/1875 [==============================] - 13s 7ms/step - loss: 0.0417 - accuracy: 0.9868\n",
            "Epoch 6/15\n",
            "1875/1875 [==============================] - 13s 7ms/step - loss: 0.0341 - accuracy: 0.9890\n",
            "Epoch 7/15\n",
            "1875/1875 [==============================] - 13s 7ms/step - loss: 0.0278 - accuracy: 0.9912\n",
            "Epoch 8/15\n",
            "1875/1875 [==============================] - 13s 7ms/step - loss: 0.0217 - accuracy: 0.9931\n",
            "Epoch 9/15\n",
            "1875/1875 [==============================] - 13s 7ms/step - loss: 0.0192 - accuracy: 0.9935\n",
            "Epoch 10/15\n",
            "1875/1875 [==============================] - 13s 7ms/step - loss: 0.0156 - accuracy: 0.9952\n",
            "Epoch 11/15\n",
            "1875/1875 [==============================] - 13s 7ms/step - loss: 0.0129 - accuracy: 0.9958\n",
            "Epoch 12/15\n",
            "1875/1875 [==============================] - 13s 7ms/step - loss: 0.0099 - accuracy: 0.9966\n",
            "Epoch 13/15\n",
            "1875/1875 [==============================] - 13s 7ms/step - loss: 0.0094 - accuracy: 0.9969\n",
            "Epoch 14/15\n",
            "1875/1875 [==============================] - 13s 7ms/step - loss: 0.0084 - accuracy: 0.9973\n",
            "Epoch 15/15\n",
            "1875/1875 [==============================] - 13s 7ms/step - loss: 0.0068 - accuracy: 0.9977\n"
          ]
        }
      ],
      "source": [
        "model_11.compile(optimizer=tf.keras.optimizers.SGD(learning_rate=0.05), loss=\"categorical_crossentropy\", metrics=['accuracy'])\n",
        "history = model_11.fit(train_images,train_labels,epochs=15,batch_size=32)"
      ]
    },
    {
      "cell_type": "code",
      "source": [
        "loss, acc =model_11.evaluate(test_images , test_labels)\n",
        "print(\"loss =\",loss)\n",
        "print(\"accuracy =\",acc)"
      ],
      "metadata": {
        "colab": {
          "base_uri": "https://localhost:8080/"
        },
        "outputId": "9ef308d7-9e71-4752-c2bb-a807cdcbf2c7",
        "id": "Y3taBAzxVomX"
      },
      "execution_count": null,
      "outputs": [
        {
          "output_type": "stream",
          "name": "stdout",
          "text": [
            "313/313 [==============================] - 2s 5ms/step - loss: 0.0588 - accuracy: 0.9843\n",
            "loss = 0.05881759524345398\n",
            "accuracy = 0.9843000173568726\n"
          ]
        }
      ]
    },
    {
      "cell_type": "code",
      "source": [
        "def plot_losses(history):  \n",
        "    plt.plot(history.history['loss'])\n",
        "    plt.title('model loss')\n",
        "    plt.ylabel('loss')\n",
        "    plt.xlabel('epoch')\n",
        "    plt.legend(['train'], loc='upper left')\n",
        "    plt.show()\n",
        "plot_losses(history)"
      ],
      "metadata": {
        "colab": {
          "base_uri": "https://localhost:8080/",
          "height": 294
        },
        "outputId": "f4855454-d292-4e3a-adb0-962cec9ec8ca",
        "id": "HMmxdyUFVomX"
      },
      "execution_count": null,
      "outputs": [
        {
          "output_type": "display_data",
          "data": {
            "text/plain": [
              "<Figure size 432x288 with 1 Axes>"
            ],
            "image/png": "[encoded data removed]"
          },
          "metadata": {
            "needs_background": "light"
          }
        }
      ]
    },
    {
      "cell_type": "code",
      "source": [
        "def plot_accuracies(history):  \n",
        "    plt.plot(history.history['accuracy'], label='accuracy')\n",
        "    plt.title('model accuracy')\n",
        "    plt.xlabel('Epoch')\n",
        "    plt.ylabel('Accuracy')\n",
        "    plt.legend(loc='upper right')\n",
        "    plt.show()\n",
        "plot_accuracies(history)"
      ],
      "metadata": {
        "colab": {
          "base_uri": "https://localhost:8080/",
          "height": 294
        },
        "outputId": "cce66354-8149-4fed-f067-ae8889352b0a",
        "id": "11CMmgtSVomX"
      },
      "execution_count": null,
      "outputs": [
        {
          "output_type": "display_data",
          "data": {
            "text/plain": [
              "<Figure size 432x288 with 1 Axes>"
            ],
            "image/png": "[encoded data removed]"
          },
          "metadata": {
            "needs_background": "light"
          }
        }
      ]
    },
    {
      "cell_type": "markdown",
      "source": [
        "##Model 12"
      ],
      "metadata": {
        "id": "VP7KsMB6X1jw"
      }
    },
    {
      "cell_type": "code",
      "execution_count": null,
      "metadata": {
        "colab": {
          "base_uri": "https://localhost:8080/"
        },
        "outputId": "25ab5892-c4f4-4b2e-a6c0-ff68c2ce5e98",
        "id": "7bQB_AYAX1j3"
      },
      "outputs": [
        {
          "output_type": "stream",
          "name": "stdout",
          "text": [
            "Model: \"sequential_47\"\n",
            "_________________________________________________________________\n",
            " Layer (type)                Output Shape              Param #   \n",
            "=================================================================\n",
            " conv2d_101 (Conv2D)         (None, 27, 27, 16)        80        \n",
            "                                                                 \n",
            " activation_237 (Activation)  (None, 27, 27, 16)       0         \n",
            "                                                                 \n",
            " conv2d_102 (Conv2D)         (None, 26, 26, 32)        2080      \n",
            "                                                                 \n",
            " activation_238 (Activation)  (None, 26, 26, 32)       0         \n",
            "                                                                 \n",
            " max_pooling2d_60 (MaxPoolin  (None, 13, 13, 32)       0         \n",
            " g2D)                                                            \n",
            "                                                                 \n",
            " conv2d_103 (Conv2D)         (None, 12, 12, 64)        8256      \n",
            "                                                                 \n",
            " activation_239 (Activation)  (None, 12, 12, 64)       0         \n",
            "                                                                 \n",
            " max_pooling2d_61 (MaxPoolin  (None, 6, 6, 64)         0         \n",
            " g2D)                                                            \n",
            "                                                                 \n",
            " flatten_46 (Flatten)        (None, 2304)              0         \n",
            "                                                                 \n",
            " dense_136 (Dense)           (None, 64)                147520    \n",
            "                                                                 \n",
            " activation_240 (Activation)  (None, 64)               0         \n",
            "                                                                 \n",
            " dense_137 (Dense)           (None, 32)                2080      \n",
            "                                                                 \n",
            " activation_241 (Activation)  (None, 32)               0         \n",
            "                                                                 \n",
            " dense_138 (Dense)           (None, 10)                330       \n",
            "                                                                 \n",
            " activation_242 (Activation)  (None, 10)               0         \n",
            "                                                                 \n",
            "=================================================================\n",
            "Total params: 160,346\n",
            "Trainable params: 160,346\n",
            "Non-trainable params: 0\n",
            "_________________________________________________________________\n"
          ]
        }
      ],
      "source": [
        "#creat the model\n",
        "model_12 = Sequential()\n",
        "\n",
        "#conv layers\n",
        "\n",
        "##first CNN layer\n",
        "model_12.add(Conv2D(16,(2,2),input_shape = train_images.shape[1:]))\n",
        "model_12.add(Activation(\"relu\"))\n",
        "\n",
        "##second CNN layer\n",
        "model_12.add(Conv2D(32,(2,2)))\n",
        "model_12.add(Activation(\"relu\"))\n",
        "model_12.add(MaxPooling2D(pool_size=(2, 2)))\n",
        "\n",
        "##third CNN layer\n",
        "model_12.add(Conv2D(64,(2,2)))\n",
        "model_12.add(Activation(\"relu\"))\n",
        "model_12.add(MaxPooling2D(pool_size=(2, 2)))\n",
        "\n",
        "model_12.add(Flatten())\n",
        "\n",
        "#FC layers\n",
        "\n",
        "##first FC layer\n",
        "model_12.add(Dense(64))\n",
        "model_12.add(Activation(\"relu\"))\n",
        "\n",
        "##second FC layer\n",
        "model_12.add(Dense(32))\n",
        "model_12.add(Activation(\"relu\"))\n",
        "\n",
        "# softmax classifier\n",
        "model_12.add(Dense(10))\n",
        "model_12.add(Activation(\"softmax\"))\n",
        "\n",
        "model_12.summary()"
      ]
    },
    {
      "cell_type": "code",
      "execution_count": null,
      "metadata": {
        "colab": {
          "base_uri": "https://localhost:8080/"
        },
        "outputId": "d73d8343-690d-4ac8-e918-cb88aa0e506f",
        "id": "R2B66YgxX1j3"
      },
      "outputs": [
        {
          "output_type": "stream",
          "name": "stdout",
          "text": [
            "Epoch 1/15\n",
            "3000/3000 [==============================] - 18s 6ms/step - loss: 0.3152 - accuracy: 0.8988\n",
            "Epoch 2/15\n",
            "3000/3000 [==============================] - 17s 6ms/step - loss: 0.0868 - accuracy: 0.9729\n",
            "Epoch 3/15\n",
            "3000/3000 [==============================] - 17s 6ms/step - loss: 0.0588 - accuracy: 0.9811\n",
            "Epoch 4/15\n",
            "3000/3000 [==============================] - 17s 6ms/step - loss: 0.0446 - accuracy: 0.9862\n",
            "Epoch 5/15\n",
            "3000/3000 [==============================] - 17s 6ms/step - loss: 0.0353 - accuracy: 0.9888\n",
            "Epoch 6/15\n",
            "3000/3000 [==============================] - 17s 6ms/step - loss: 0.0274 - accuracy: 0.9912\n",
            "Epoch 7/15\n",
            "3000/3000 [==============================] - 17s 6ms/step - loss: 0.0215 - accuracy: 0.9929\n",
            "Epoch 8/15\n",
            "3000/3000 [==============================] - 17s 6ms/step - loss: 0.0178 - accuracy: 0.9942\n",
            "Epoch 9/15\n",
            "3000/3000 [==============================] - 17s 6ms/step - loss: 0.0156 - accuracy: 0.9948\n",
            "Epoch 10/15\n",
            "3000/3000 [==============================] - 17s 6ms/step - loss: 0.0125 - accuracy: 0.9958\n",
            "Epoch 11/15\n",
            "3000/3000 [==============================] - 17s 6ms/step - loss: 0.0113 - accuracy: 0.9962\n",
            "Epoch 12/15\n",
            "3000/3000 [==============================] - 17s 6ms/step - loss: 0.0080 - accuracy: 0.9975\n",
            "Epoch 13/15\n",
            "3000/3000 [==============================] - 17s 6ms/step - loss: 0.0059 - accuracy: 0.9984\n",
            "Epoch 14/15\n",
            "3000/3000 [==============================] - 18s 6ms/step - loss: 0.0061 - accuracy: 0.9981\n",
            "Epoch 15/15\n",
            "3000/3000 [==============================] - 18s 6ms/step - loss: 0.0047 - accuracy: 0.9981\n"
          ]
        }
      ],
      "source": [
        "model_12.compile(optimizer=tf.keras.optimizers.SGD(learning_rate=0.05), loss=\"categorical_crossentropy\", metrics=['accuracy'])\n",
        "history = model_12.fit(train_images,train_labels,epochs=15,batch_size=20)"
      ]
    },
    {
      "cell_type": "code",
      "source": [
        "loss, acc =model_12.evaluate(test_images , test_labels)\n",
        "print(\"loss =\",loss)\n",
        "print(\"accuracy =\",acc)"
      ],
      "metadata": {
        "colab": {
          "base_uri": "https://localhost:8080/"
        },
        "outputId": "a4a08fde-f236-4d16-fd07-87262378fcc0",
        "id": "fGy_AttkX1j3"
      },
      "execution_count": null,
      "outputs": [
        {
          "output_type": "stream",
          "name": "stdout",
          "text": [
            "313/313 [==============================] - 2s 5ms/step - loss: 0.0680 - accuracy: 0.9853\n",
            "loss = 0.06801404058933258\n",
            "accuracy = 0.9853000044822693\n"
          ]
        }
      ]
    },
    {
      "cell_type": "code",
      "source": [
        "def plot_losses(history):  \n",
        "    plt.plot(history.history['loss'])\n",
        "    plt.title('model loss')\n",
        "    plt.ylabel('loss')\n",
        "    plt.xlabel('epoch')\n",
        "    plt.legend(['train'], loc='upper left')\n",
        "    plt.show()\n",
        "plot_losses(history)"
      ],
      "metadata": {
        "colab": {
          "base_uri": "https://localhost:8080/",
          "height": 294
        },
        "outputId": "0451e512-b6e6-4c91-d781-00c892139a42",
        "id": "HvFeeQs-X1j3"
      },
      "execution_count": null,
      "outputs": [
        {
          "output_type": "display_data",
          "data": {
            "text/plain": [
              "<Figure size 432x288 with 1 Axes>"
            ],
            "image/png": "[encoded data removed]"
          },
          "metadata": {
            "needs_background": "light"
          }
        }
      ]
    },
    {
      "cell_type": "code",
      "source": [
        "def plot_accuracies(history):  \n",
        "    plt.plot(history.history['accuracy'], label='accuracy')\n",
        "    plt.title('model accuracy')\n",
        "    plt.xlabel('Epoch')\n",
        "    plt.ylabel('Accuracy')\n",
        "    plt.legend(loc='upper left')\n",
        "    plt.show()\n",
        "plot_accuracies(history)"
      ],
      "metadata": {
        "colab": {
          "base_uri": "https://localhost:8080/",
          "height": 294
        },
        "outputId": "05ac32a3-ae10-4dd9-b3ac-3ab649ee317f",
        "id": "a2iyHNJcX1j4"
      },
      "execution_count": null,
      "outputs": [
        {
          "output_type": "display_data",
          "data": {
            "text/plain": [
              "<Figure size 432x288 with 1 Axes>"
            ],
            "image/png": "[encoded data removed]"
          },
          "metadata": {
            "needs_background": "light"
          }
        }
      ]
    },
    {
      "cell_type": "markdown",
      "source": [
        "##Model 13"
      ],
      "metadata": {
        "id": "PllDKwyvZ63Y"
      }
    },
    {
      "cell_type": "code",
      "execution_count": null,
      "metadata": {
        "colab": {
          "base_uri": "https://localhost:8080/"
        },
        "outputId": "ef1427e6-244a-4a2d-d8dd-b8d358f3a2fc",
        "id": "uG597QwBZ63f"
      },
      "outputs": [
        {
          "output_type": "stream",
          "name": "stdout",
          "text": [
            "Model: \"sequential_48\"\n",
            "_________________________________________________________________\n",
            " Layer (type)                Output Shape              Param #   \n",
            "=================================================================\n",
            " conv2d_104 (Conv2D)         (None, 27, 27, 16)        80        \n",
            "                                                                 \n",
            " activation_243 (Activation)  (None, 27, 27, 16)       0         \n",
            "                                                                 \n",
            " conv2d_105 (Conv2D)         (None, 26, 26, 32)        2080      \n",
            "                                                                 \n",
            " activation_244 (Activation)  (None, 26, 26, 32)       0         \n",
            "                                                                 \n",
            " max_pooling2d_62 (MaxPoolin  (None, 13, 13, 32)       0         \n",
            " g2D)                                                            \n",
            "                                                                 \n",
            " conv2d_106 (Conv2D)         (None, 12, 12, 64)        8256      \n",
            "                                                                 \n",
            " activation_245 (Activation)  (None, 12, 12, 64)       0         \n",
            "                                                                 \n",
            " max_pooling2d_63 (MaxPoolin  (None, 6, 6, 64)         0         \n",
            " g2D)                                                            \n",
            "                                                                 \n",
            " flatten_47 (Flatten)        (None, 2304)              0         \n",
            "                                                                 \n",
            " dense_139 (Dense)           (None, 64)                147520    \n",
            "                                                                 \n",
            " activation_246 (Activation)  (None, 64)               0         \n",
            "                                                                 \n",
            " dense_140 (Dense)           (None, 32)                2080      \n",
            "                                                                 \n",
            " activation_247 (Activation)  (None, 32)               0         \n",
            "                                                                 \n",
            " dense_141 (Dense)           (None, 10)                330       \n",
            "                                                                 \n",
            " activation_248 (Activation)  (None, 10)               0         \n",
            "                                                                 \n",
            "=================================================================\n",
            "Total params: 160,346\n",
            "Trainable params: 160,346\n",
            "Non-trainable params: 0\n",
            "_________________________________________________________________\n"
          ]
        }
      ],
      "source": [
        "#creat the model\n",
        "model_13 = Sequential()\n",
        "\n",
        "#conv layers\n",
        "\n",
        "##first CNN layer\n",
        "model_13.add(Conv2D(16,(2,2),input_shape = train_images.shape[1:]))\n",
        "model_13.add(Activation(\"relu\"))\n",
        "\n",
        "##second CNN layer\n",
        "model_13.add(Conv2D(32,(2,2)))\n",
        "model_13.add(Activation(\"relu\"))\n",
        "model_13.add(MaxPooling2D(pool_size=(2, 2)))\n",
        "\n",
        "##third CNN layer\n",
        "model_13.add(Conv2D(64,(2,2)))\n",
        "model_13.add(Activation(\"relu\"))\n",
        "model_13.add(MaxPooling2D(pool_size=(2, 2)))\n",
        "\n",
        "model_13.add(Flatten())\n",
        "\n",
        "#FC layers\n",
        "\n",
        "##first FC layer\n",
        "model_13.add(Dense(64))\n",
        "model_13.add(Activation(\"relu\"))\n",
        "\n",
        "##second FC layer\n",
        "model_13.add(Dense(32))\n",
        "model_13.add(Activation(\"relu\"))\n",
        "\n",
        "# softmax classifier\n",
        "model_13.add(Dense(10))\n",
        "model_13.add(Activation(\"softmax\"))\n",
        "\n",
        "model_13.summary()"
      ]
    },
    {
      "cell_type": "code",
      "execution_count": null,
      "metadata": {
        "colab": {
          "base_uri": "https://localhost:8080/"
        },
        "outputId": "657c6420-3175-4ccd-d509-657fec6e2419",
        "id": "2GAv-W73Z63f"
      },
      "outputs": [
        {
          "output_type": "stream",
          "name": "stdout",
          "text": [
            "Epoch 1/15\n",
            "938/938 [==============================] - 9s 8ms/step - loss: 0.6251 - accuracy: 0.7995\n",
            "Epoch 2/15\n",
            "938/938 [==============================] - 8s 8ms/step - loss: 0.1264 - accuracy: 0.9604\n",
            "Epoch 3/15\n",
            "938/938 [==============================] - 8s 8ms/step - loss: 0.0887 - accuracy: 0.9726\n",
            "Epoch 4/15\n",
            "938/938 [==============================] - 8s 8ms/step - loss: 0.0711 - accuracy: 0.9779\n",
            "Epoch 5/15\n",
            "938/938 [==============================] - 8s 8ms/step - loss: 0.0606 - accuracy: 0.9810\n",
            "Epoch 6/15\n",
            "938/938 [==============================] - 8s 8ms/step - loss: 0.0515 - accuracy: 0.9833\n",
            "Epoch 7/15\n",
            "938/938 [==============================] - 8s 8ms/step - loss: 0.0448 - accuracy: 0.9856\n",
            "Epoch 8/15\n",
            "938/938 [==============================] - 8s 9ms/step - loss: 0.0384 - accuracy: 0.9882\n",
            "Epoch 9/15\n",
            "938/938 [==============================] - 8s 9ms/step - loss: 0.0343 - accuracy: 0.9890\n",
            "Epoch 10/15\n",
            "938/938 [==============================] - 8s 9ms/step - loss: 0.0311 - accuracy: 0.9898\n",
            "Epoch 11/15\n",
            "938/938 [==============================] - 8s 8ms/step - loss: 0.0267 - accuracy: 0.9916\n",
            "Epoch 12/15\n",
            "938/938 [==============================] - 8s 8ms/step - loss: 0.0259 - accuracy: 0.9912\n",
            "Epoch 13/15\n",
            "938/938 [==============================] - 8s 8ms/step - loss: 0.0212 - accuracy: 0.9929\n",
            "Epoch 14/15\n",
            "938/938 [==============================] - 8s 8ms/step - loss: 0.0190 - accuracy: 0.9937\n",
            "Epoch 15/15\n",
            "938/938 [==============================] - 8s 8ms/step - loss: 0.0171 - accuracy: 0.9943\n"
          ]
        }
      ],
      "source": [
        "model_13.compile(optimizer=tf.keras.optimizers.SGD(learning_rate=0.05), loss=\"categorical_crossentropy\", metrics=['accuracy'])\n",
        "history = model_13.fit(train_images,train_labels,epochs=15,batch_size=64)"
      ]
    },
    {
      "cell_type": "code",
      "source": [
        "loss, acc =model_13.evaluate(test_images , test_labels)\n",
        "print(\"loss =\",loss)\n",
        "print(\"accuracy =\",acc)"
      ],
      "metadata": {
        "colab": {
          "base_uri": "https://localhost:8080/"
        },
        "outputId": "2eab4ee2-a405-4419-e31f-37017543d30a",
        "id": "EPl4SLioZ63f"
      },
      "execution_count": null,
      "outputs": [
        {
          "output_type": "stream",
          "name": "stdout",
          "text": [
            "313/313 [==============================] - 2s 5ms/step - loss: 0.0585 - accuracy: 0.9830\n",
            "loss = 0.05848000943660736\n",
            "accuracy = 0.9829999804496765\n"
          ]
        }
      ]
    },
    {
      "cell_type": "code",
      "source": [
        "def plot_losses(history):  \n",
        "    plt.plot(history.history['loss'])\n",
        "    plt.title('model loss')\n",
        "    plt.ylabel('loss')\n",
        "    plt.xlabel('epoch')\n",
        "    plt.legend(['train'], loc='upper left')\n",
        "    plt.show()\n",
        "plot_losses(history)"
      ],
      "metadata": {
        "colab": {
          "base_uri": "https://localhost:8080/",
          "height": 294
        },
        "outputId": "33b2b951-b620-47d2-ef78-fbcd49b4edc0",
        "id": "Mm4gIHj6Z63g"
      },
      "execution_count": null,
      "outputs": [
        {
          "output_type": "display_data",
          "data": {
            "text/plain": [
              "<Figure size 432x288 with 1 Axes>"
            ],
            "image/png": "[encoded data removed]"
          },
          "metadata": {
            "needs_background": "light"
          }
        }
      ]
    },
    {
      "cell_type": "code",
      "source": [
        "def plot_accuracies(history):  \n",
        "    plt.plot(history.history['accuracy'], label='accuracy')\n",
        "    plt.title('model accuracy')\n",
        "    plt.xlabel('Epoch')\n",
        "    plt.ylabel('Accuracy')\n",
        "    plt.legend(loc='upper left')\n",
        "    plt.show()\n",
        "plot_accuracies(history)"
      ],
      "metadata": {
        "colab": {
          "base_uri": "https://localhost:8080/",
          "height": 294
        },
        "outputId": "b8b5e956-92ff-438b-ba38-57c7c42c5ec6",
        "id": "6Uqq5L4hZ63g"
      },
      "execution_count": null,
      "outputs": [
        {
          "output_type": "display_data",
          "data": {
            "text/plain": [
              "<Figure size 432x288 with 1 Axes>"
            ],
            "image/png": "[encoded data removed]"
          },
          "metadata": {
            "needs_background": "light"
          }
        }
      ]
    },
    {
      "cell_type": "markdown",
      "source": [
        "##Model 14"
      ],
      "metadata": {
        "id": "W6M6N26jbJnR"
      }
    },
    {
      "cell_type": "code",
      "execution_count": null,
      "metadata": {
        "colab": {
          "base_uri": "https://localhost:8080/"
        },
        "outputId": "31612266-13f1-46e3-e473-99e6ac819b5c",
        "id": "sJ-NYZnEbJnX"
      },
      "outputs": [
        {
          "output_type": "stream",
          "name": "stdout",
          "text": [
            "Model: \"sequential_49\"\n",
            "_________________________________________________________________\n",
            " Layer (type)                Output Shape              Param #   \n",
            "=================================================================\n",
            " conv2d_107 (Conv2D)         (None, 27, 27, 16)        80        \n",
            "                                                                 \n",
            " activation_249 (Activation)  (None, 27, 27, 16)       0         \n",
            "                                                                 \n",
            " conv2d_108 (Conv2D)         (None, 26, 26, 32)        2080      \n",
            "                                                                 \n",
            " activation_250 (Activation)  (None, 26, 26, 32)       0         \n",
            "                                                                 \n",
            " max_pooling2d_64 (MaxPoolin  (None, 13, 13, 32)       0         \n",
            " g2D)                                                            \n",
            "                                                                 \n",
            " conv2d_109 (Conv2D)         (None, 12, 12, 64)        8256      \n",
            "                                                                 \n",
            " activation_251 (Activation)  (None, 12, 12, 64)       0         \n",
            "                                                                 \n",
            " max_pooling2d_65 (MaxPoolin  (None, 6, 6, 64)         0         \n",
            " g2D)                                                            \n",
            "                                                                 \n",
            " flatten_48 (Flatten)        (None, 2304)              0         \n",
            "                                                                 \n",
            " dense_142 (Dense)           (None, 64)                147520    \n",
            "                                                                 \n",
            " activation_252 (Activation)  (None, 64)               0         \n",
            "                                                                 \n",
            " dense_143 (Dense)           (None, 32)                2080      \n",
            "                                                                 \n",
            " activation_253 (Activation)  (None, 32)               0         \n",
            "                                                                 \n",
            " dense_144 (Dense)           (None, 10)                330       \n",
            "                                                                 \n",
            " activation_254 (Activation)  (None, 10)               0         \n",
            "                                                                 \n",
            "=================================================================\n",
            "Total params: 160,346\n",
            "Trainable params: 160,346\n",
            "Non-trainable params: 0\n",
            "_________________________________________________________________\n"
          ]
        }
      ],
      "source": [
        "#creat the model\n",
        "model_14 = Sequential()\n",
        "\n",
        "#conv layers\n",
        "\n",
        "##first CNN layer\n",
        "model_14.add(Conv2D(16,(2,2),input_shape = train_images.shape[1:]))\n",
        "model_14.add(Activation(\"sigmoid\"))\n",
        "\n",
        "##second CNN layer\n",
        "model_14.add(Conv2D(32,(2,2)))\n",
        "model_14.add(Activation(\"sigmoid\"))\n",
        "model_14.add(MaxPooling2D(pool_size=(2, 2)))\n",
        "\n",
        "##third CNN layer\n",
        "model_14.add(Conv2D(64,(2,2)))\n",
        "model_14.add(Activation(\"sigmoid\"))\n",
        "model_14.add(MaxPooling2D(pool_size=(2, 2)))\n",
        "\n",
        "model_14.add(Flatten())\n",
        "\n",
        "#FC layers\n",
        "\n",
        "##first FC layer\n",
        "model_14.add(Dense(64))\n",
        "model_14.add(Activation(\"sigmoid\"))\n",
        "\n",
        "##second FC layer\n",
        "model_14.add(Dense(32))\n",
        "model_14.add(Activation(\"sigmoid\"))\n",
        "\n",
        "# softmax classifier\n",
        "model_14.add(Dense(10))\n",
        "model_14.add(Activation(\"softmax\"))\n",
        "\n",
        "model_14.summary()"
      ]
    },
    {
      "cell_type": "code",
      "execution_count": null,
      "metadata": {
        "colab": {
          "base_uri": "https://localhost:8080/"
        },
        "outputId": "d6c77573-7d0c-4c2c-c9fd-755b8f828d92",
        "id": "cJrxBwHZbJnY"
      },
      "outputs": [
        {
          "output_type": "stream",
          "name": "stdout",
          "text": [
            "Epoch 1/15\n",
            "3000/3000 [==============================] - 18s 6ms/step - loss: 2.3072 - accuracy: 0.1041\n",
            "Epoch 2/15\n",
            "3000/3000 [==============================] - 18s 6ms/step - loss: 2.3045 - accuracy: 0.1076\n",
            "Epoch 3/15\n",
            "3000/3000 [==============================] - 18s 6ms/step - loss: 2.3035 - accuracy: 0.1092\n",
            "Epoch 4/15\n",
            "3000/3000 [==============================] - 18s 6ms/step - loss: 2.3027 - accuracy: 0.1091\n",
            "Epoch 5/15\n",
            "3000/3000 [==============================] - 18s 6ms/step - loss: 2.3027 - accuracy: 0.1088\n",
            "Epoch 6/15\n",
            "3000/3000 [==============================] - 18s 6ms/step - loss: 2.3025 - accuracy: 0.1081\n",
            "Epoch 7/15\n",
            "3000/3000 [==============================] - 18s 6ms/step - loss: 2.3023 - accuracy: 0.1099\n",
            "Epoch 8/15\n",
            "3000/3000 [==============================] - 18s 6ms/step - loss: 2.3023 - accuracy: 0.1102\n",
            "Epoch 9/15\n",
            "3000/3000 [==============================] - 18s 6ms/step - loss: 2.3021 - accuracy: 0.1099\n",
            "Epoch 10/15\n",
            "3000/3000 [==============================] - 18s 6ms/step - loss: 2.3022 - accuracy: 0.1115\n",
            "Epoch 11/15\n",
            "3000/3000 [==============================] - 17s 6ms/step - loss: 2.3020 - accuracy: 0.1106\n",
            "Epoch 12/15\n",
            "3000/3000 [==============================] - 17s 6ms/step - loss: 2.3020 - accuracy: 0.1111\n",
            "Epoch 13/15\n",
            "3000/3000 [==============================] - 17s 6ms/step - loss: 2.3021 - accuracy: 0.1113\n",
            "Epoch 14/15\n",
            "3000/3000 [==============================] - 17s 6ms/step - loss: 2.3020 - accuracy: 0.1106\n",
            "Epoch 15/15\n",
            "3000/3000 [==============================] - 18s 6ms/step - loss: 2.3019 - accuracy: 0.1110\n"
          ]
        }
      ],
      "source": [
        "model_14.compile(optimizer=tf.keras.optimizers.SGD(learning_rate=0.05), loss=\"categorical_crossentropy\", metrics=['accuracy'])\n",
        "history = model_14.fit(train_images,train_labels,epochs=15,batch_size=20)"
      ]
    },
    {
      "cell_type": "code",
      "source": [
        "loss, acc =model_14.evaluate(test_images , test_labels)\n",
        "print(\"loss =\",loss)\n",
        "print(\"accuracy =\",acc)"
      ],
      "metadata": {
        "colab": {
          "base_uri": "https://localhost:8080/"
        },
        "outputId": "8d7fee24-9a54-440c-feee-d5a9c4fff555",
        "id": "SoU0igeobJnY"
      },
      "execution_count": null,
      "outputs": [
        {
          "output_type": "stream",
          "name": "stdout",
          "text": [
            "313/313 [==============================] - 2s 4ms/step - loss: 2.3012 - accuracy: 0.1135\n",
            "loss = 2.3012218475341797\n",
            "accuracy = 0.11349999904632568\n"
          ]
        }
      ]
    },
    {
      "cell_type": "code",
      "source": [
        "def plot_losses(history):  \n",
        "    plt.plot(history.history['loss'])\n",
        "    plt.title('model loss')\n",
        "    plt.ylabel('loss')\n",
        "    plt.xlabel('epoch')\n",
        "    plt.legend(['train'], loc='upper left')\n",
        "    plt.show()\n",
        "plot_losses(history)"
      ],
      "metadata": {
        "colab": {
          "base_uri": "https://localhost:8080/",
          "height": 294
        },
        "outputId": "898ed62d-b73e-4dae-bb18-889b9cd43c77",
        "id": "GLC_KdAHbJnY"
      },
      "execution_count": null,
      "outputs": [
        {
          "output_type": "display_data",
          "data": {
            "text/plain": [
              "<Figure size 432x288 with 1 Axes>"
            ],
            "image/png": "[encoded data removed]"
          },
          "metadata": {
            "needs_background": "light"
          }
        }
      ]
    },
    {
      "cell_type": "code",
      "source": [
        "def plot_accuracies(history):  \n",
        "    plt.plot(history.history['accuracy'], label='accuracy')\n",
        "    plt.title('model accuracy')\n",
        "    plt.xlabel('Epoch')\n",
        "    plt.ylabel('Accuracy')\n",
        "    plt.legend(loc='upper left')\n",
        "    plt.show()\n",
        "plot_accuracies(history)"
      ],
      "metadata": {
        "colab": {
          "base_uri": "https://localhost:8080/",
          "height": 294
        },
        "outputId": "da28d0e5-1c3c-4708-9b9b-9a4df522d756",
        "id": "SRQQ0tpwbJnY"
      },
      "execution_count": null,
      "outputs": [
        {
          "output_type": "display_data",
          "data": {
            "text/plain": [
              "<Figure size 432x288 with 1 Axes>"
            ],
            "image/png": "[encoded data removed]"
          },
          "metadata": {
            "needs_background": "light"
          }
        }
      ]
    },
    {
      "cell_type": "markdown",
      "source": [
        "##Model 15"
      ],
      "metadata": {
        "id": "GOVMhSiseR-a"
      }
    },
    {
      "cell_type": "code",
      "execution_count": null,
      "metadata": {
        "colab": {
          "base_uri": "https://localhost:8080/"
        },
        "outputId": "a4bfb74f-edbc-4f90-8bd1-42ae304ad6e1",
        "id": "qP8440ySeR-g"
      },
      "outputs": [
        {
          "output_type": "stream",
          "name": "stdout",
          "text": [
            "Model: \"sequential_50\"\n",
            "_________________________________________________________________\n",
            " Layer (type)                Output Shape              Param #   \n",
            "=================================================================\n",
            " conv2d_110 (Conv2D)         (None, 27, 27, 16)        80        \n",
            "                                                                 \n",
            " activation_255 (Activation)  (None, 27, 27, 16)       0         \n",
            "                                                                 \n",
            " conv2d_111 (Conv2D)         (None, 26, 26, 32)        2080      \n",
            "                                                                 \n",
            " activation_256 (Activation)  (None, 26, 26, 32)       0         \n",
            "                                                                 \n",
            " max_pooling2d_66 (MaxPoolin  (None, 13, 13, 32)       0         \n",
            " g2D)                                                            \n",
            "                                                                 \n",
            " conv2d_112 (Conv2D)         (None, 12, 12, 64)        8256      \n",
            "                                                                 \n",
            " activation_257 (Activation)  (None, 12, 12, 64)       0         \n",
            "                                                                 \n",
            " max_pooling2d_67 (MaxPoolin  (None, 6, 6, 64)         0         \n",
            " g2D)                                                            \n",
            "                                                                 \n",
            " flatten_49 (Flatten)        (None, 2304)              0         \n",
            "                                                                 \n",
            " dense_145 (Dense)           (None, 64)                147520    \n",
            "                                                                 \n",
            " activation_258 (Activation)  (None, 64)               0         \n",
            "                                                                 \n",
            " dense_146 (Dense)           (None, 32)                2080      \n",
            "                                                                 \n",
            " activation_259 (Activation)  (None, 32)               0         \n",
            "                                                                 \n",
            " dense_147 (Dense)           (None, 10)                330       \n",
            "                                                                 \n",
            " activation_260 (Activation)  (None, 10)               0         \n",
            "                                                                 \n",
            "=================================================================\n",
            "Total params: 160,346\n",
            "Trainable params: 160,346\n",
            "Non-trainable params: 0\n",
            "_________________________________________________________________\n"
          ]
        }
      ],
      "source": [
        "#creat the model\n",
        "model_15 = Sequential()\n",
        "\n",
        "#conv layers\n",
        "\n",
        "##first CNN layer\n",
        "model_15.add(Conv2D(16,(2,2),input_shape = train_images.shape[1:]))\n",
        "model_15.add(Activation(\"tanh\"))\n",
        "\n",
        "##second CNN layer\n",
        "model_15.add(Conv2D(32,(2,2)))\n",
        "model_15.add(Activation(\"tanh\"))\n",
        "model_15.add(MaxPooling2D(pool_size=(2, 2)))\n",
        "\n",
        "##third CNN layer\n",
        "model_15.add(Conv2D(64,(2,2)))\n",
        "model_15.add(Activation(\"tanh\"))\n",
        "model_15.add(MaxPooling2D(pool_size=(2, 2)))\n",
        "\n",
        "model_15.add(Flatten())\n",
        "\n",
        "#FC layers\n",
        "\n",
        "##first FC layer\n",
        "model_15.add(Dense(64))\n",
        "model_15.add(Activation(\"tanh\"))\n",
        "\n",
        "##second FC layer\n",
        "model_15.add(Dense(32))\n",
        "model_15.add(Activation(\"tanh\"))\n",
        "\n",
        "# softmax classifier\n",
        "model_15.add(Dense(10))\n",
        "model_15.add(Activation(\"softmax\"))\n",
        "\n",
        "model_15.summary()"
      ]
    },
    {
      "cell_type": "code",
      "execution_count": null,
      "metadata": {
        "colab": {
          "base_uri": "https://localhost:8080/"
        },
        "outputId": "fb0a1ed6-491e-409d-a697-8d9f1f493b3b",
        "id": "_7S9Whc7eR-h"
      },
      "outputs": [
        {
          "output_type": "stream",
          "name": "stdout",
          "text": [
            "Epoch 1/15\n",
            "3000/3000 [==============================] - 18s 6ms/step - loss: 0.2399 - accuracy: 0.9310\n",
            "Epoch 2/15\n",
            "3000/3000 [==============================] - 17s 6ms/step - loss: 0.0743 - accuracy: 0.9782\n",
            "Epoch 3/15\n",
            "3000/3000 [==============================] - 18s 6ms/step - loss: 0.0489 - accuracy: 0.9858\n",
            "Epoch 4/15\n",
            "3000/3000 [==============================] - 17s 6ms/step - loss: 0.0351 - accuracy: 0.9898\n",
            "Epoch 5/15\n",
            "3000/3000 [==============================] - 17s 6ms/step - loss: 0.0250 - accuracy: 0.9930\n",
            "Epoch 6/15\n",
            "3000/3000 [==============================] - 17s 6ms/step - loss: 0.0188 - accuracy: 0.9947\n",
            "Epoch 7/15\n",
            "3000/3000 [==============================] - 17s 6ms/step - loss: 0.0147 - accuracy: 0.9959\n",
            "Epoch 8/15\n",
            "3000/3000 [==============================] - 17s 6ms/step - loss: 0.0109 - accuracy: 0.9974\n",
            "Epoch 9/15\n",
            "3000/3000 [==============================] - 17s 6ms/step - loss: 0.0074 - accuracy: 0.9985\n",
            "Epoch 10/15\n",
            "3000/3000 [==============================] - 17s 6ms/step - loss: 0.0051 - accuracy: 0.9993\n",
            "Epoch 11/15\n",
            "3000/3000 [==============================] - 18s 6ms/step - loss: 0.0038 - accuracy: 0.9996\n",
            "Epoch 12/15\n",
            "3000/3000 [==============================] - 17s 6ms/step - loss: 0.0029 - accuracy: 0.9998\n",
            "Epoch 13/15\n",
            "3000/3000 [==============================] - 17s 6ms/step - loss: 0.0024 - accuracy: 0.9999\n",
            "Epoch 14/15\n",
            "3000/3000 [==============================] - 17s 6ms/step - loss: 0.0019 - accuracy: 0.9999\n",
            "Epoch 15/15\n",
            "3000/3000 [==============================] - 18s 6ms/step - loss: 0.0017 - accuracy: 0.9999\n"
          ]
        }
      ],
      "source": [
        "model_15.compile(optimizer=tf.keras.optimizers.SGD(learning_rate=0.05), loss=\"categorical_crossentropy\", metrics=['accuracy'])\n",
        "history = model_15.fit(train_images,train_labels,epochs=15,batch_size=20)"
      ]
    },
    {
      "cell_type": "code",
      "source": [
        "loss, acc =model_15.evaluate(test_images , test_labels)\n",
        "print(\"loss =\",loss)\n",
        "print(\"accuracy =\",acc)"
      ],
      "metadata": {
        "colab": {
          "base_uri": "https://localhost:8080/"
        },
        "id": "8WslIPZ5eR-h",
        "outputId": "5689cd86-8aab-4bd0-db5a-88e494e0b2c0"
      },
      "execution_count": null,
      "outputs": [
        {
          "output_type": "stream",
          "name": "stdout",
          "text": [
            "313/313 [==============================] - 2s 5ms/step - loss: 0.0359 - accuracy: 0.9895\n",
            "loss = 0.035877808928489685\n",
            "accuracy = 0.9894999861717224\n"
          ]
        }
      ]
    },
    {
      "cell_type": "code",
      "source": [
        "def plot_losses(history):  \n",
        "    plt.plot(history.history['loss'])\n",
        "    plt.title('model loss')\n",
        "    plt.ylabel('loss')\n",
        "    plt.xlabel('epoch')\n",
        "    plt.legend(['train'], loc='upper left')\n",
        "    plt.show()\n",
        "plot_losses(history)"
      ],
      "metadata": {
        "colab": {
          "base_uri": "https://localhost:8080/",
          "height": 294
        },
        "id": "jNf87QZ7eR-h",
        "outputId": "a7d1eb49-12c4-4edc-f2f5-61f2ae98eacc"
      },
      "execution_count": null,
      "outputs": [
        {
          "output_type": "display_data",
          "data": {
            "text/plain": [
              "<Figure size 432x288 with 1 Axes>"
            ],
            "image/png": "[encoded data removed]"
          },
          "metadata": {
            "needs_background": "light"
          }
        }
      ]
    },
    {
      "cell_type": "code",
      "source": [
        "def plot_accuracies(history):  \n",
        "    plt.plot(history.history['accuracy'], label='accuracy')\n",
        "    plt.title('model accuracy')\n",
        "    plt.xlabel('Epoch')\n",
        "    plt.ylabel('Accuracy')\n",
        "    plt.legend(loc='upper left')\n",
        "    plt.show()\n",
        "plot_accuracies(history)"
      ],
      "metadata": {
        "colab": {
          "base_uri": "https://localhost:8080/",
          "height": 294
        },
        "id": "c-9vNPk7eR-h",
        "outputId": "d5d251f6-3909-460d-cb31-7832e0347ebd"
      },
      "execution_count": null,
      "outputs": [
        {
          "output_type": "display_data",
          "data": {
            "text/plain": [
              "<Figure size 432x288 with 1 Axes>"
            ],
            "image/png": "[encoded data removed]"
          },
          "metadata": {
            "needs_background": "light"
          }
        }
      ]
    },
    {
      "cell_type": "markdown",
      "source": [
        "##Model 16"
      ],
      "metadata": {
        "id": "5qBqCflThZqb"
      }
    },
    {
      "cell_type": "code",
      "execution_count": null,
      "metadata": {
        "colab": {
          "base_uri": "https://localhost:8080/"
        },
        "outputId": "be7e2d53-dae2-4902-a129-1f0245f89d87",
        "id": "2PIQ9yB8hZqh"
      },
      "outputs": [
        {
          "output_type": "stream",
          "name": "stdout",
          "text": [
            "Model: \"sequential_51\"\n",
            "_________________________________________________________________\n",
            " Layer (type)                Output Shape              Param #   \n",
            "=================================================================\n",
            " conv2d_113 (Conv2D)         (None, 27, 27, 16)        80        \n",
            "                                                                 \n",
            " activation_261 (Activation)  (None, 27, 27, 16)       0         \n",
            "                                                                 \n",
            " conv2d_114 (Conv2D)         (None, 26, 26, 32)        2080      \n",
            "                                                                 \n",
            " activation_262 (Activation)  (None, 26, 26, 32)       0         \n",
            "                                                                 \n",
            " max_pooling2d_68 (MaxPoolin  (None, 13, 13, 32)       0         \n",
            " g2D)                                                            \n",
            "                                                                 \n",
            " conv2d_115 (Conv2D)         (None, 12, 12, 64)        8256      \n",
            "                                                                 \n",
            " activation_263 (Activation)  (None, 12, 12, 64)       0         \n",
            "                                                                 \n",
            " max_pooling2d_69 (MaxPoolin  (None, 6, 6, 64)         0         \n",
            " g2D)                                                            \n",
            "                                                                 \n",
            " flatten_50 (Flatten)        (None, 2304)              0         \n",
            "                                                                 \n",
            " dense_148 (Dense)           (None, 64)                147520    \n",
            "                                                                 \n",
            " activation_264 (Activation)  (None, 64)               0         \n",
            "                                                                 \n",
            " dense_149 (Dense)           (None, 32)                2080      \n",
            "                                                                 \n",
            " activation_265 (Activation)  (None, 32)               0         \n",
            "                                                                 \n",
            " dense_150 (Dense)           (None, 10)                330       \n",
            "                                                                 \n",
            " activation_266 (Activation)  (None, 10)               0         \n",
            "                                                                 \n",
            "=================================================================\n",
            "Total params: 160,346\n",
            "Trainable params: 160,346\n",
            "Non-trainable params: 0\n",
            "_________________________________________________________________\n"
          ]
        }
      ],
      "source": [
        "#creat the model\n",
        "model_16 = Sequential()\n",
        "\n",
        "#conv layers\n",
        "\n",
        "##first CNN layer\n",
        "model_16.add(Conv2D(16,(2,2),input_shape = train_images.shape[1:]))\n",
        "model_16.add(Activation(\"softsign\"))\n",
        "\n",
        "##second CNN layer\n",
        "model_16.add(Conv2D(32,(2,2)))\n",
        "model_16.add(Activation(\"softsign\"))\n",
        "model_16.add(MaxPooling2D(pool_size=(2, 2)))\n",
        "\n",
        "##third CNN layer\n",
        "model_16.add(Conv2D(64,(2,2)))\n",
        "model_16.add(Activation(\"softsign\"))\n",
        "model_16.add(MaxPooling2D(pool_size=(2, 2)))\n",
        "\n",
        "model_16.add(Flatten())\n",
        "\n",
        "#FC layers\n",
        "\n",
        "##first FC layer\n",
        "model_16.add(Dense(64))\n",
        "model_16.add(Activation(\"softsign\"))\n",
        "\n",
        "##second FC layer\n",
        "model_16.add(Dense(32))\n",
        "model_16.add(Activation(\"softsign\"))\n",
        "\n",
        "# softmax classifier\n",
        "model_16.add(Dense(10))\n",
        "model_16.add(Activation(\"softmax\"))\n",
        "\n",
        "model_16.summary()"
      ]
    },
    {
      "cell_type": "code",
      "execution_count": null,
      "metadata": {
        "colab": {
          "base_uri": "https://localhost:8080/"
        },
        "outputId": "8cec47a6-7752-46b0-a0e0-e7d772672505",
        "id": "AIrMwZ8khZqi"
      },
      "outputs": [
        {
          "output_type": "stream",
          "name": "stdout",
          "text": [
            "Epoch 1/15\n",
            "3000/3000 [==============================] - 19s 6ms/step - loss: 0.3944 - accuracy: 0.8953\n",
            "Epoch 2/15\n",
            "3000/3000 [==============================] - 19s 6ms/step - loss: 0.1191 - accuracy: 0.9649\n",
            "Epoch 3/15\n",
            "3000/3000 [==============================] - 18s 6ms/step - loss: 0.0785 - accuracy: 0.9771\n",
            "Epoch 4/15\n",
            "3000/3000 [==============================] - 18s 6ms/step - loss: 0.0590 - accuracy: 0.9830\n",
            "Epoch 5/15\n",
            "3000/3000 [==============================] - 18s 6ms/step - loss: 0.0453 - accuracy: 0.9869\n",
            "Epoch 6/15\n",
            "3000/3000 [==============================] - 18s 6ms/step - loss: 0.0369 - accuracy: 0.9893\n",
            "Epoch 7/15\n",
            "3000/3000 [==============================] - 19s 6ms/step - loss: 0.0314 - accuracy: 0.9908\n",
            "Epoch 8/15\n",
            "3000/3000 [==============================] - 19s 6ms/step - loss: 0.0255 - accuracy: 0.9927\n",
            "Epoch 9/15\n",
            "3000/3000 [==============================] - 18s 6ms/step - loss: 0.0213 - accuracy: 0.9943\n",
            "Epoch 10/15\n",
            "3000/3000 [==============================] - 18s 6ms/step - loss: 0.0176 - accuracy: 0.9955\n",
            "Epoch 11/15\n",
            "3000/3000 [==============================] - 18s 6ms/step - loss: 0.0150 - accuracy: 0.9963\n",
            "Epoch 12/15\n",
            "3000/3000 [==============================] - 18s 6ms/step - loss: 0.0125 - accuracy: 0.9973\n",
            "Epoch 13/15\n",
            "3000/3000 [==============================] - 18s 6ms/step - loss: 0.0106 - accuracy: 0.9980\n",
            "Epoch 14/15\n",
            "3000/3000 [==============================] - 18s 6ms/step - loss: 0.0088 - accuracy: 0.9983\n",
            "Epoch 15/15\n",
            "3000/3000 [==============================] - 18s 6ms/step - loss: 0.0074 - accuracy: 0.9988\n"
          ]
        }
      ],
      "source": [
        "model_16.compile(optimizer=tf.keras.optimizers.SGD(learning_rate=0.05), loss=\"categorical_crossentropy\", metrics=['accuracy'])\n",
        "history = model_16.fit(train_images,train_labels,epochs=15,batch_size=20)"
      ]
    },
    {
      "cell_type": "code",
      "source": [
        "loss, acc =model_16.evaluate(test_images , test_labels)\n",
        "print(\"loss =\",loss)\n",
        "print(\"accuracy =\",acc)"
      ],
      "metadata": {
        "colab": {
          "base_uri": "https://localhost:8080/"
        },
        "outputId": "35ccdf93-5b97-4a00-dcdb-9255d29b1668",
        "id": "P9VRgIqrhZqi"
      },
      "execution_count": null,
      "outputs": [
        {
          "output_type": "stream",
          "name": "stdout",
          "text": [
            "313/313 [==============================] - 2s 5ms/step - loss: 0.0378 - accuracy: 0.9894\n",
            "loss = 0.03784416243433952\n",
            "accuracy = 0.9894000291824341\n"
          ]
        }
      ]
    },
    {
      "cell_type": "code",
      "source": [
        "def plot_losses(history):  \n",
        "    plt.plot(history.history['loss'])\n",
        "    plt.title('model loss')\n",
        "    plt.ylabel('loss')\n",
        "    plt.xlabel('epoch')\n",
        "    plt.legend(['train'], loc='upper left')\n",
        "    plt.show()\n",
        "plot_losses(history)"
      ],
      "metadata": {
        "colab": {
          "base_uri": "https://localhost:8080/",
          "height": 294
        },
        "outputId": "db67b455-31c3-40c5-9676-bd2d92576528",
        "id": "6EjaqNbjhZqi"
      },
      "execution_count": null,
      "outputs": [
        {
          "output_type": "display_data",
          "data": {
            "text/plain": [
              "<Figure size 432x288 with 1 Axes>"
            ],
            "image/png": "[encoded data removed]"
          },
          "metadata": {
            "needs_background": "light"
          }
        }
      ]
    },
    {
      "cell_type": "code",
      "source": [
        "def plot_accuracies(history):  \n",
        "    plt.plot(history.history['accuracy'], label='accuracy')\n",
        "    plt.title('model accuracy')\n",
        "    plt.xlabel('Epoch')\n",
        "    plt.ylabel('Accuracy')\n",
        "    plt.legend(loc='upper left')\n",
        "    plt.show()\n",
        "plot_accuracies(history)"
      ],
      "metadata": {
        "colab": {
          "base_uri": "https://localhost:8080/",
          "height": 294
        },
        "outputId": "3b09a594-dae4-4acb-f9a0-d83da959d484",
        "id": "ilhwIAzrhZqi"
      },
      "execution_count": null,
      "outputs": [
        {
          "output_type": "display_data",
          "data": {
            "text/plain": [
              "<Figure size 432x288 with 1 Axes>"
            ],
            "image/png": "[encoded data removed]"
          },
          "metadata": {
            "needs_background": "light"
          }
        }
      ]
    },
    {
      "cell_type": "markdown",
      "source": [
        "##Model 17"
      ],
      "metadata": {
        "id": "Tz3iPpVokUGD"
      }
    },
    {
      "cell_type": "code",
      "execution_count": null,
      "metadata": {
        "colab": {
          "base_uri": "https://localhost:8080/"
        },
        "outputId": "2d54be9c-8685-4206-9f39-115414a8fa1f",
        "id": "5559L0zkkUGJ"
      },
      "outputs": [
        {
          "output_type": "stream",
          "name": "stdout",
          "text": [
            "Model: \"sequential_52\"\n",
            "_________________________________________________________________\n",
            " Layer (type)                Output Shape              Param #   \n",
            "=================================================================\n",
            " conv2d_116 (Conv2D)         (None, 27, 27, 16)        80        \n",
            "                                                                 \n",
            " activation_267 (Activation)  (None, 27, 27, 16)       0         \n",
            "                                                                 \n",
            " conv2d_117 (Conv2D)         (None, 26, 26, 32)        2080      \n",
            "                                                                 \n",
            " activation_268 (Activation)  (None, 26, 26, 32)       0         \n",
            "                                                                 \n",
            " max_pooling2d_70 (MaxPoolin  (None, 13, 13, 32)       0         \n",
            " g2D)                                                            \n",
            "                                                                 \n",
            " conv2d_118 (Conv2D)         (None, 12, 12, 64)        8256      \n",
            "                                                                 \n",
            " activation_269 (Activation)  (None, 12, 12, 64)       0         \n",
            "                                                                 \n",
            " max_pooling2d_71 (MaxPoolin  (None, 6, 6, 64)         0         \n",
            " g2D)                                                            \n",
            "                                                                 \n",
            " flatten_51 (Flatten)        (None, 2304)              0         \n",
            "                                                                 \n",
            " dense_151 (Dense)           (None, 64)                147520    \n",
            "                                                                 \n",
            " activation_270 (Activation)  (None, 64)               0         \n",
            "                                                                 \n",
            " dense_152 (Dense)           (None, 32)                2080      \n",
            "                                                                 \n",
            " activation_271 (Activation)  (None, 32)               0         \n",
            "                                                                 \n",
            " dense_153 (Dense)           (None, 10)                330       \n",
            "                                                                 \n",
            " activation_272 (Activation)  (None, 10)               0         \n",
            "                                                                 \n",
            "=================================================================\n",
            "Total params: 160,346\n",
            "Trainable params: 160,346\n",
            "Non-trainable params: 0\n",
            "_________________________________________________________________\n"
          ]
        }
      ],
      "source": [
        "#creat the model\n",
        "model_17 = Sequential()\n",
        "\n",
        "#conv layers\n",
        "\n",
        "##first CNN layer\n",
        "model_17.add(Conv2D(16,(2,2),input_shape = train_images.shape[1:]))\n",
        "model_17.add(Activation(\"tanh\"))\n",
        "\n",
        "##second CNN layer\n",
        "model_17.add(Conv2D(32,(2,2)))\n",
        "model_17.add(Activation(\"tanh\"))\n",
        "model_17.add(MaxPooling2D(pool_size=(2, 2)))\n",
        "\n",
        "##third CNN layer\n",
        "model_17.add(Conv2D(64,(2,2)))\n",
        "model_17.add(Activation(\"tanh\"))\n",
        "model_17.add(MaxPooling2D(pool_size=(2, 2)))\n",
        "\n",
        "model_17.add(Flatten())\n",
        "\n",
        "#FC layers\n",
        "\n",
        "##first FC layer\n",
        "model_17.add(Dense(64))\n",
        "model_17.add(Activation(\"tanh\"))\n",
        "\n",
        "##second FC layer\n",
        "model_17.add(Dense(32))\n",
        "model_17.add(Activation(\"tanh\"))\n",
        "\n",
        "# softmax classifier\n",
        "model_17.add(Dense(10))\n",
        "model_17.add(Activation(\"softmax\"))\n",
        "\n",
        "model_17.summary()"
      ]
    },
    {
      "cell_type": "code",
      "execution_count": null,
      "metadata": {
        "colab": {
          "base_uri": "https://localhost:8080/"
        },
        "outputId": "4518b0e2-31a0-4f9b-8ee4-2e2392f32524",
        "id": "FYsYyTpQkUGK"
      },
      "outputs": [
        {
          "output_type": "stream",
          "name": "stdout",
          "text": [
            "Epoch 1/12\n",
            "3000/3000 [==============================] - 18s 6ms/step - loss: 0.2403 - accuracy: 0.9308\n",
            "Epoch 2/12\n",
            "3000/3000 [==============================] - 17s 6ms/step - loss: 0.0730 - accuracy: 0.9784\n",
            "Epoch 3/12\n",
            "3000/3000 [==============================] - 17s 6ms/step - loss: 0.0473 - accuracy: 0.9863\n",
            "Epoch 4/12\n",
            "3000/3000 [==============================] - 17s 6ms/step - loss: 0.0342 - accuracy: 0.9899\n",
            "Epoch 5/12\n",
            "3000/3000 [==============================] - 17s 6ms/step - loss: 0.0262 - accuracy: 0.9918\n",
            "Epoch 6/12\n",
            "3000/3000 [==============================] - 18s 6ms/step - loss: 0.0194 - accuracy: 0.9945\n",
            "Epoch 7/12\n",
            "3000/3000 [==============================] - 18s 6ms/step - loss: 0.0134 - accuracy: 0.9966\n",
            "Epoch 8/12\n",
            "3000/3000 [==============================] - 18s 6ms/step - loss: 0.0097 - accuracy: 0.9980\n",
            "Epoch 9/12\n",
            "3000/3000 [==============================] - 17s 6ms/step - loss: 0.0073 - accuracy: 0.9987\n",
            "Epoch 10/12\n",
            "3000/3000 [==============================] - 17s 6ms/step - loss: 0.0056 - accuracy: 0.9991\n",
            "Epoch 11/12\n",
            "3000/3000 [==============================] - 17s 6ms/step - loss: 0.0038 - accuracy: 0.9995\n",
            "Epoch 12/12\n",
            "3000/3000 [==============================] - 17s 6ms/step - loss: 0.0030 - accuracy: 0.9997\n"
          ]
        }
      ],
      "source": [
        "model_17.compile(optimizer=tf.keras.optimizers.SGD(learning_rate=0.05), loss=\"categorical_crossentropy\", metrics=['accuracy'])\n",
        "history = model_17.fit(train_images,train_labels,epochs=12,batch_size=20)"
      ]
    },
    {
      "cell_type": "code",
      "source": [
        "loss, acc =model_17.evaluate(test_images , test_labels)\n",
        "print(\"loss =\",loss)\n",
        "print(\"accuracy =\",acc)"
      ],
      "metadata": {
        "colab": {
          "base_uri": "https://localhost:8080/"
        },
        "outputId": "dfe907da-228f-4e63-aeb7-3f68360f6aa1",
        "id": "-1wxljJtkUGK"
      },
      "execution_count": null,
      "outputs": [
        {
          "output_type": "stream",
          "name": "stdout",
          "text": [
            "313/313 [==============================] - 2s 5ms/step - loss: 0.0375 - accuracy: 0.9891\n",
            "loss = 0.03750592842698097\n",
            "accuracy = 0.9890999794006348\n"
          ]
        }
      ]
    },
    {
      "cell_type": "code",
      "source": [
        "def plot_losses(history):  \n",
        "    plt.plot(history.history['loss'])\n",
        "    plt.title('model loss')\n",
        "    plt.ylabel('loss')\n",
        "    plt.xlabel('epoch')\n",
        "    plt.legend(['train'], loc='upper left')\n",
        "    plt.show()\n",
        "plot_losses(history)"
      ],
      "metadata": {
        "colab": {
          "base_uri": "https://localhost:8080/",
          "height": 294
        },
        "outputId": "7655abe2-dc07-4892-9323-0ffdb12a1c28",
        "id": "vrI8jx1lkUGK"
      },
      "execution_count": null,
      "outputs": [
        {
          "output_type": "display_data",
          "data": {
            "text/plain": [
              "<Figure size 432x288 with 1 Axes>"
            ],
            "image/png": "[encoded data removed]"
          },
          "metadata": {
            "needs_background": "light"
          }
        }
      ]
    },
    {
      "cell_type": "code",
      "source": [
        "def plot_accuracies(history):  \n",
        "    plt.plot(history.history['accuracy'], label='accuracy')\n",
        "    plt.title('model accuracy')\n",
        "    plt.xlabel('Epoch')\n",
        "    plt.ylabel('Accuracy')\n",
        "    plt.legend(loc='upper left')\n",
        "    plt.show()\n",
        "plot_accuracies(history)"
      ],
      "metadata": {
        "colab": {
          "base_uri": "https://localhost:8080/",
          "height": 294
        },
        "outputId": "c639ab8d-6d00-4ff3-924e-152cceed2246",
        "id": "_KqBY91ckUGK"
      },
      "execution_count": null,
      "outputs": [
        {
          "output_type": "display_data",
          "data": {
            "text/plain": [
              "<Figure size 432x288 with 1 Axes>"
            ],
            "image/png": "[encoded data removed]"
          },
          "metadata": {
            "needs_background": "light"
          }
        }
      ]
    },
    {
      "cell_type": "markdown",
      "source": [
        "##Model 18"
      ],
      "metadata": {
        "id": "D4RIAzNDl0hl"
      }
    },
    {
      "cell_type": "code",
      "execution_count": null,
      "metadata": {
        "colab": {
          "base_uri": "https://localhost:8080/"
        },
        "outputId": "9f597064-6003-471f-8f79-68d521789f80",
        "id": "61lmVh0El0hr"
      },
      "outputs": [
        {
          "output_type": "stream",
          "name": "stdout",
          "text": [
            "Model: \"sequential_53\"\n",
            "_________________________________________________________________\n",
            " Layer (type)                Output Shape              Param #   \n",
            "=================================================================\n",
            " conv2d_119 (Conv2D)         (None, 27, 27, 16)        80        \n",
            "                                                                 \n",
            " activation_273 (Activation)  (None, 27, 27, 16)       0         \n",
            "                                                                 \n",
            " conv2d_120 (Conv2D)         (None, 26, 26, 32)        2080      \n",
            "                                                                 \n",
            " activation_274 (Activation)  (None, 26, 26, 32)       0         \n",
            "                                                                 \n",
            " max_pooling2d_72 (MaxPoolin  (None, 13, 13, 32)       0         \n",
            " g2D)                                                            \n",
            "                                                                 \n",
            " conv2d_121 (Conv2D)         (None, 12, 12, 64)        8256      \n",
            "                                                                 \n",
            " activation_275 (Activation)  (None, 12, 12, 64)       0         \n",
            "                                                                 \n",
            " max_pooling2d_73 (MaxPoolin  (None, 6, 6, 64)         0         \n",
            " g2D)                                                            \n",
            "                                                                 \n",
            " flatten_52 (Flatten)        (None, 2304)              0         \n",
            "                                                                 \n",
            " dense_154 (Dense)           (None, 64)                147520    \n",
            "                                                                 \n",
            " activation_276 (Activation)  (None, 64)               0         \n",
            "                                                                 \n",
            " dense_155 (Dense)           (None, 32)                2080      \n",
            "                                                                 \n",
            " activation_277 (Activation)  (None, 32)               0         \n",
            "                                                                 \n",
            " dense_156 (Dense)           (None, 10)                330       \n",
            "                                                                 \n",
            " activation_278 (Activation)  (None, 10)               0         \n",
            "                                                                 \n",
            "=================================================================\n",
            "Total params: 160,346\n",
            "Trainable params: 160,346\n",
            "Non-trainable params: 0\n",
            "_________________________________________________________________\n"
          ]
        }
      ],
      "source": [
        "#creat the model\n",
        "model_18 = Sequential()\n",
        "\n",
        "#conv layers\n",
        "\n",
        "##first CNN layer\n",
        "model_18.add(Conv2D(16,(2,2),input_shape = train_images.shape[1:]))\n",
        "model_18.add(Activation(\"tanh\"))\n",
        "\n",
        "##second CNN layer\n",
        "model_18.add(Conv2D(32,(2,2)))\n",
        "model_18.add(Activation(\"tanh\"))\n",
        "model_18.add(MaxPooling2D(pool_size=(2, 2)))\n",
        "\n",
        "##third CNN layer\n",
        "model_18.add(Conv2D(64,(2,2)))\n",
        "model_18.add(Activation(\"tanh\"))\n",
        "model_18.add(MaxPooling2D(pool_size=(2, 2)))\n",
        "\n",
        "model_18.add(Flatten())\n",
        "\n",
        "#FC layers\n",
        "\n",
        "##first FC layer\n",
        "model_18.add(Dense(64))\n",
        "model_18.add(Activation(\"tanh\"))\n",
        "\n",
        "##second FC layer\n",
        "model_18.add(Dense(32))\n",
        "model_18.add(Activation(\"tanh\"))\n",
        "\n",
        "# softmax classifier\n",
        "model_18.add(Dense(10))\n",
        "model_18.add(Activation(\"softmax\"))\n",
        "\n",
        "model_18.summary()"
      ]
    },
    {
      "cell_type": "code",
      "execution_count": null,
      "metadata": {
        "colab": {
          "base_uri": "https://localhost:8080/",
          "height": 182
        },
        "outputId": "65eb12bc-8945-4ae1-a065-a4bdd87e8624",
        "id": "frt4D8Cbl0hr"
      },
      "outputs": [
        {
          "output_type": "error",
          "ename": "NameError",
          "evalue": "ignored",
          "traceback": [
            "\u001b[0;31m---------------------------------------------------------------------------\u001b[0m",
            "\u001b[0;31mNameError\u001b[0m                                 Traceback (most recent call last)",
            "\u001b[0;32m<ipython-input-1-5502aed20d61>\u001b[0m in \u001b[0;36m<module>\u001b[0;34m()\u001b[0m\n\u001b[0;32m----> 1\u001b[0;31m \u001b[0mmodel_18\u001b[0m\u001b[0;34m.\u001b[0m\u001b[0mcompile\u001b[0m\u001b[0;34m(\u001b[0m\u001b[0moptimizer\u001b[0m\u001b[0;34m=\u001b[0m\u001b[0;34m'adam'\u001b[0m\u001b[0;34m,\u001b[0m \u001b[0mloss\u001b[0m\u001b[0;34m=\u001b[0m\u001b[0;34m\"categorical_crossentropy\"\u001b[0m\u001b[0;34m,\u001b[0m \u001b[0mmetrics\u001b[0m\u001b[0;34m=\u001b[0m\u001b[0;34m[\u001b[0m\u001b[0;34m'accuracy'\u001b[0m\u001b[0;34m]\u001b[0m\u001b[0;34m)\u001b[0m\u001b[0;34m\u001b[0m\u001b[0;34m\u001b[0m\u001b[0m\n\u001b[0m\u001b[1;32m      2\u001b[0m \u001b[0mhistory\u001b[0m \u001b[0;34m=\u001b[0m \u001b[0mmodel_18\u001b[0m\u001b[0;34m.\u001b[0m\u001b[0mfit\u001b[0m\u001b[0;34m(\u001b[0m\u001b[0mtrain_images\u001b[0m\u001b[0;34m,\u001b[0m\u001b[0mtrain_labels\u001b[0m\u001b[0;34m,\u001b[0m\u001b[0mepochs\u001b[0m\u001b[0;34m=\u001b[0m\u001b[0;36m12\u001b[0m\u001b[0;34m,\u001b[0m\u001b[0mbatch_size\u001b[0m\u001b[0;34m=\u001b[0m\u001b[0;36m20\u001b[0m\u001b[0;34m)\u001b[0m\u001b[0;34m\u001b[0m\u001b[0;34m\u001b[0m\u001b[0m\n",
            "\u001b[0;31mNameError\u001b[0m: name 'model_18' is not defined"
          ]
        }
      ],
      "source": [
        "model_18.compile(optimizer='adam', loss=\"categorical_crossentropy\", metrics=['accuracy'])\n",
        "history = model_18.fit(train_images,train_labels,epochs=12,batch_size=20)"
      ]
    },
    {
      "cell_type": "code",
      "source": [
        "loss, acc =model_18.evaluate(test_images , test_labels)\n",
        "print(\"loss =\",loss)\n",
        "print(\"accuracy =\",acc)"
      ],
      "metadata": {
        "id": "XfdOeR9Il0hs"
      },
      "execution_count": null,
      "outputs": []
    },
    {
      "cell_type": "code",
      "source": [
        "def plot_losses(history):  \n",
        "    plt.plot(history.history['loss'])\n",
        "    plt.title('model loss')\n",
        "    plt.ylabel('loss')\n",
        "    plt.xlabel('epoch')\n",
        "    plt.legend(['train'], loc='upper left')\n",
        "    plt.show()\n",
        "plot_losses(history)"
      ],
      "metadata": {
        "id": "bB-ZXTkll0hs"
      },
      "execution_count": null,
      "outputs": []
    },
    {
      "cell_type": "code",
      "source": [
        "def plot_accuracies(history):  \n",
        "    plt.plot(history.history['accuracy'], label='accuracy')\n",
        "    plt.title('model accuracy')\n",
        "    plt.xlabel('Epoch')\n",
        "    plt.ylabel('Accuracy')\n",
        "    plt.legend(loc='upper left')\n",
        "    plt.show()\n",
        "plot_accuracies(history)"
      ],
      "metadata": {
        "id": "uwyo6qAEl0hs"
      },
      "execution_count": null,
      "outputs": []
    },
    {
      "cell_type": "markdown",
      "source": [
        "##Model 19"
      ],
      "metadata": {
        "id": "1M1EMy1np0ZV"
      }
    },
    {
      "cell_type": "code",
      "execution_count": null,
      "metadata": {
        "id": "BJszdEWZp0Zb"
      },
      "outputs": [],
      "source": [
        "#creat the model\n",
        "model_19 = Sequential()\n",
        "\n",
        "#conv layers\n",
        "\n",
        "##first CNN layer\n",
        "model_19.add(Conv2D(16,(2,2),input_shape = train_images.shape[1:]))\n",
        "model_19.add(Activation(\"tanh\"))\n",
        "\n",
        "##second CNN layer\n",
        "model_19.add(Conv2D(32,(2,2)))\n",
        "model_19.add(Activation(\"tanh\"))\n",
        "model_19.add(MaxPooling2D(pool_size=(2, 2)))\n",
        "\n",
        "##third CNN layer\n",
        "model_19.add(Conv2D(64,(2,2)))\n",
        "model_19.add(Activation(\"tanh\"))\n",
        "model_19.add(MaxPooling2D(pool_size=(2, 2)))\n",
        "\n",
        "model_19.add(Flatten())\n",
        "\n",
        "#FC layers\n",
        "\n",
        "##first FC layer\n",
        "model_19.add(Dense(64))\n",
        "model_19.add(Activation(\"tanh\"))\n",
        "\n",
        "##second FC layer\n",
        "model_19.add(Dense(32))\n",
        "model_19.add(Activation(\"tanh\"))\n",
        "\n",
        "# softmax classifier\n",
        "model_19.add(Dense(10))\n",
        "model_19.add(Activation(\"softmax\"))\n",
        "\n",
        "model_19.summary()"
      ]
    },
    {
      "cell_type": "code",
      "execution_count": null,
      "metadata": {
        "id": "lhAK5eCFp0Zc"
      },
      "outputs": [],
      "source": [
        "model_19.compile(optimizer='RMSprop', loss=\"categorical_crossentropy\", metrics=['accuracy'])\n",
        "history = model_19.fit(train_images,train_labels,epochs=12,batch_size=20)"
      ]
    },
    {
      "cell_type": "code",
      "source": [
        "loss, acc =model_19.evaluate(test_images , test_labels)\n",
        "print(\"loss =\",loss)\n",
        "print(\"accuracy =\",acc)"
      ],
      "metadata": {
        "id": "fmkeP-Y3p0Zc"
      },
      "execution_count": null,
      "outputs": []
    },
    {
      "cell_type": "code",
      "source": [
        "def plot_losses(history):  \n",
        "    plt.plot(history.history['loss'])\n",
        "    plt.title('model loss')\n",
        "    plt.ylabel('loss')\n",
        "    plt.xlabel('epoch')\n",
        "    plt.legend(['train'], loc='upper left')\n",
        "    plt.show()\n",
        "plot_losses(history)"
      ],
      "metadata": {
        "id": "XpjRIlKOp0Zc"
      },
      "execution_count": null,
      "outputs": []
    },
    {
      "cell_type": "code",
      "source": [
        "def plot_accuracies(history):  \n",
        "    plt.plot(history.history['accuracy'], label='accuracy')\n",
        "    plt.title('model accuracy')\n",
        "    plt.xlabel('Epoch')\n",
        "    plt.ylabel('Accuracy')\n",
        "    plt.legend(loc='upper left')\n",
        "    plt.show()\n",
        "plot_accuracies(history)"
      ],
      "metadata": {
        "id": "RbZGKbpyp0Zc"
      },
      "execution_count": null,
      "outputs": []
    },
    {
      "cell_type": "markdown",
      "source": [
        "##Model 20"
      ],
      "metadata": {
        "id": "vLwRhcssrjF9"
      }
    },
    {
      "cell_type": "code",
      "execution_count": null,
      "metadata": {
        "id": "orBDVWj0rjGD"
      },
      "outputs": [],
      "source": [
        "#creat the model\n",
        "model_20 = Sequential()\n",
        "\n",
        "#conv layers\n",
        "\n",
        "##first CNN layer\n",
        "model_20.add(Conv2D(16,(2,2),input_shape = train_images.shape[1:]))\n",
        "model_20.add(Activation(\"tanh\"))\n",
        "\n",
        "##second CNN layer\n",
        "model_20.add(Conv2D(32,(2,2)))\n",
        "model_20.add(Activation(\"tanh\"))\n",
        "model_20.add(MaxPooling2D(pool_size=(2, 2)))\n",
        "\n",
        "##third CNN layer\n",
        "model_20.add(Conv2D(64,(2,2)))\n",
        "model_20.add(Activation(\"tanh\"))\n",
        "model_20.add(MaxPooling2D(pool_size=(2, 2)))\n",
        "\n",
        "model_20.add(Flatten())\n",
        "\n",
        "#FC layers\n",
        "\n",
        "##first FC layer\n",
        "model_20.add(Dense(64))\n",
        "model_20.add(Activation(\"tanh\"))\n",
        "model_20.add(Dropout(0.5))\n",
        "\n",
        "##second FC layer\n",
        "model_20.add(Dense(32))\n",
        "model_20.add(Activation(\"tanh\"))\n",
        "\n",
        "# softmax classifier\n",
        "model_20.add(Dense(10))\n",
        "model_20.add(Activation(\"softmax\"))\n",
        "\n",
        "model_20.summary()"
      ]
    },
    {
      "cell_type": "code",
      "execution_count": null,
      "metadata": {
        "id": "njLhQhterjGE"
      },
      "outputs": [],
      "source": [
        "model_20.compile(optimizer=tf.keras.optimizers.SGD(learning_rate=0.05), loss=\"categorical_crossentropy\", metrics=['accuracy'])\n",
        "history = model_20.fit(train_images,train_labels,epochs=12,batch_size=20)"
      ]
    },
    {
      "cell_type": "code",
      "source": [
        "loss, acc =model_20.evaluate(test_images , test_labels)\n",
        "print(\"loss =\",loss)\n",
        "print(\"accuracy =\",acc)"
      ],
      "metadata": {
        "id": "B-PIFugNrjGE"
      },
      "execution_count": null,
      "outputs": []
    },
    {
      "cell_type": "code",
      "source": [
        "def plot_losses(history):  \n",
        "    plt.plot(history.history['loss'])\n",
        "    plt.title('model loss')\n",
        "    plt.ylabel('loss')\n",
        "    plt.xlabel('epoch')\n",
        "    plt.legend(['train'], loc='upper left')\n",
        "    plt.show()\n",
        "plot_losses(history)"
      ],
      "metadata": {
        "id": "I-fhFZ4wrjGE"
      },
      "execution_count": null,
      "outputs": []
    },
    {
      "cell_type": "code",
      "source": [
        "def plot_accuracies(history):  \n",
        "    plt.plot(history.history['accuracy'], label='accuracy')\n",
        "    plt.title('model accuracy')\n",
        "    plt.xlabel('Epoch')\n",
        "    plt.ylabel('Accuracy')\n",
        "    plt.legend(loc='upper left')\n",
        "    plt.show()\n",
        "plot_accuracies(history)"
      ],
      "metadata": {
        "id": "tGHeslqerjGE"
      },
      "execution_count": null,
      "outputs": []
    },
    {
      "cell_type": "markdown",
      "source": [
        "##Model 21"
      ],
      "metadata": {
        "id": "F8hRLhxf4Tnr"
      }
    },
    {
      "cell_type": "code",
      "execution_count": null,
      "metadata": {
        "id": "GsOAiLtj4Tny"
      },
      "outputs": [],
      "source": [
        "#creat the model\n",
        "model_21 = Sequential()\n",
        "\n",
        "#conv layers\n",
        "\n",
        "##first CNN layer\n",
        "model_21.add(Conv2D(16,(2,2),input_shape = train_images.shape[1:]))\n",
        "model_21.add(Activation(\"tanh\"))\n",
        "\n",
        "##second CNN layer\n",
        "model_21.add(Conv2D(32,(2,2)))\n",
        "model_21.add(Activation(\"tanh\"))\n",
        "model_21.add(MaxPooling2D(pool_size=(2, 2)))\n",
        "\n",
        "##third CNN layer\n",
        "model_21.add(Conv2D(64,(2,2)))\n",
        "model_21.add(Activation(\"tanh\"))\n",
        "model_21.add(MaxPooling2D(pool_size=(2, 2)))\n",
        "\n",
        "model_21.add(Flatten())\n",
        "\n",
        "#FC layers\n",
        "\n",
        "##first FC layer\n",
        "model_21.add(Dense(64))\n",
        "model_21.add(Activation(\"tanh\"))\n",
        "\n",
        "##second FC layer\n",
        "model_21.add(Dense(32))\n",
        "model_21.add(Activation(\"tanh\"))\n",
        "model_21.add(Dropout(0.5))\n",
        "\n",
        "# softmax classifier\n",
        "model_21.add(Dense(10))\n",
        "model_21.add(Activation(\"softmax\"))\n",
        "\n",
        "model_21.summary()"
      ]
    },
    {
      "cell_type": "code",
      "execution_count": null,
      "metadata": {
        "id": "ABs0vIw74Tnz"
      },
      "outputs": [],
      "source": [
        "model_21.compile(optimizer=tf.keras.optimizers.SGD(learning_rate=0.05), loss=\"categorical_crossentropy\", metrics=['accuracy'])\n",
        "history = model_21.fit(train_images,train_labels,epochs=12,batch_size=20)"
      ]
    },
    {
      "cell_type": "code",
      "source": [
        "loss, acc =model_21.evaluate(test_images , test_labels)\n",
        "print(\"loss =\",loss)\n",
        "print(\"accuracy =\",acc)"
      ],
      "metadata": {
        "id": "_-yAapNJ4Tnz"
      },
      "execution_count": null,
      "outputs": []
    },
    {
      "cell_type": "code",
      "source": [
        "def plot_losses(history):  \n",
        "    plt.plot(history.history['loss'])\n",
        "    plt.title('model loss')\n",
        "    plt.ylabel('loss')\n",
        "    plt.xlabel('epoch')\n",
        "    plt.legend(['train'], loc='upper left')\n",
        "    plt.show()\n",
        "plot_losses(history)"
      ],
      "metadata": {
        "id": "izeLsPQ64Tnz"
      },
      "execution_count": null,
      "outputs": []
    },
    {
      "cell_type": "code",
      "source": [
        "def plot_accuracies(history):  \n",
        "    plt.plot(history.history['accuracy'], label='accuracy')\n",
        "    plt.title('model accuracy')\n",
        "    plt.xlabel('Epoch')\n",
        "    plt.ylabel('Accuracy')\n",
        "    plt.legend(loc='upper left')\n",
        "    plt.show()\n",
        "plot_accuracies(history)"
      ],
      "metadata": {
        "id": "4xw3NPcm4Tnz"
      },
      "execution_count": null,
      "outputs": []
    },
    {
      "cell_type": "code",
      "source": [
        "#creat the model\n",
        "model_21 = Sequential()\n",
        "\n",
        "#conv layers\n",
        "\n",
        "##first CNN layer\n",
        "model_21.add(Conv2D(16,(2,2),input_shape = train_images.shape[1:]))\n",
        "model_21.add(Activation(\"tanh\"))\n",
        "\n",
        "##second CNN layer\n",
        "model_21.add(Conv2D(32,(2,2)))\n",
        "model_21.add(Activation(\"tanh\"))\n",
        "model_21.add(MaxPooling2D(pool_size=(2, 2)))\n",
        "\n",
        "##third CNN layer\n",
        "model_21.add(Conv2D(64,(2,2)))\n",
        "model_21.add(Activation(\"tanh\"))\n",
        "model_21.add(MaxPooling2D(pool_size=(2, 2)))\n",
        "\n",
        "model_21.add(Flatten())\n",
        "\n",
        "#FC layers\n",
        "\n",
        "##first FC layer\n",
        "model_21.add(Dense(64))\n",
        "model_21.add(Activation(\"tanh\"))\n",
        "\n",
        "##second FC layer\n",
        "model_21.add(Dense(32))\n",
        "model_21.add(Activation(\"tanh\"))\n",
        "model_21.add(Dropout(0.25))\n",
        "\n",
        "# softmax classifier\n",
        "model_21.add(Dense(10))\n",
        "model_21.add(Activation(\"softmax\"))\n",
        "\n",
        "model_21.summary()"
      ],
      "metadata": {
        "colab": {
          "base_uri": "https://localhost:8080/"
        },
        "id": "Fs8YIcDHbebY",
        "outputId": "b847390e-a0a8-4f87-d0e3-028f59e9b60f"
      },
      "execution_count": null,
      "outputs": [
        {
          "output_type": "stream",
          "name": "stdout",
          "text": [
            "Model: \"sequential_2\"\n",
            "_________________________________________________________________\n",
            " Layer (type)                Output Shape              Param #   \n",
            "=================================================================\n",
            " conv2d_5 (Conv2D)           (None, 27, 27, 16)        80        \n",
            "                                                                 \n",
            " activation_11 (Activation)  (None, 27, 27, 16)        0         \n",
            "                                                                 \n",
            " conv2d_6 (Conv2D)           (None, 26, 26, 32)        2080      \n",
            "                                                                 \n",
            " activation_12 (Activation)  (None, 26, 26, 32)        0         \n",
            "                                                                 \n",
            " max_pooling2d_3 (MaxPooling  (None, 13, 13, 32)       0         \n",
            " 2D)                                                             \n",
            "                                                                 \n",
            " conv2d_7 (Conv2D)           (None, 12, 12, 64)        8256      \n",
            "                                                                 \n",
            " activation_13 (Activation)  (None, 12, 12, 64)        0         \n",
            "                                                                 \n",
            " max_pooling2d_4 (MaxPooling  (None, 6, 6, 64)         0         \n",
            " 2D)                                                             \n",
            "                                                                 \n",
            " flatten_2 (Flatten)         (None, 2304)              0         \n",
            "                                                                 \n",
            " dense_6 (Dense)             (None, 64)                147520    \n",
            "                                                                 \n",
            " activation_14 (Activation)  (None, 64)                0         \n",
            "                                                                 \n",
            " dense_7 (Dense)             (None, 32)                2080      \n",
            "                                                                 \n",
            " activation_15 (Activation)  (None, 32)                0         \n",
            "                                                                 \n",
            " dropout_1 (Dropout)         (None, 32)                0         \n",
            "                                                                 \n",
            " dense_8 (Dense)             (None, 10)                330       \n",
            "                                                                 \n",
            " activation_16 (Activation)  (None, 10)                0         \n",
            "                                                                 \n",
            "=================================================================\n",
            "Total params: 160,346\n",
            "Trainable params: 160,346\n",
            "Non-trainable params: 0\n",
            "_________________________________________________________________\n"
          ]
        }
      ]
    },
    {
      "cell_type": "code",
      "source": [
        "model_21.compile(optimizer=tf.keras.optimizers.SGD(learning_rate=0.03), loss=\"categorical_crossentropy\", metrics=['accuracy'])\n",
        "history = model_21.fit(train_images,train_labels,epochs=20,batch_size=20)"
      ],
      "metadata": {
        "colab": {
          "base_uri": "https://localhost:8080/"
        },
        "id": "SElHfGOEbgRw",
        "outputId": "8f07cdfc-c00e-4ead-ecba-d1ed2f6e80fe"
      },
      "execution_count": null,
      "outputs": [
        {
          "output_type": "stream",
          "name": "stdout",
          "text": [
            "Epoch 1/20\n",
            "3000/3000 [==============================] - 10s 3ms/step - loss: 0.3550 - accuracy: 0.8970\n",
            "Epoch 2/20\n",
            "3000/3000 [==============================] - 10s 3ms/step - loss: 0.1202 - accuracy: 0.9646\n",
            "Epoch 3/20\n",
            "3000/3000 [==============================] - 10s 3ms/step - loss: 0.0810 - accuracy: 0.9764\n",
            "Epoch 4/20\n",
            "3000/3000 [==============================] - 10s 3ms/step - loss: 0.0617 - accuracy: 0.9821\n",
            "Epoch 5/20\n",
            "3000/3000 [==============================] - 10s 3ms/step - loss: 0.0489 - accuracy: 0.9860\n",
            "Epoch 6/20\n",
            "3000/3000 [==============================] - 10s 3ms/step - loss: 0.0406 - accuracy: 0.9880\n",
            "Epoch 7/20\n",
            "3000/3000 [==============================] - 10s 3ms/step - loss: 0.0322 - accuracy: 0.9908\n",
            "Epoch 8/20\n",
            "3000/3000 [==============================] - 10s 3ms/step - loss: 0.0279 - accuracy: 0.9919\n",
            "Epoch 9/20\n",
            "3000/3000 [==============================] - 10s 3ms/step - loss: 0.0235 - accuracy: 0.9933\n",
            "Epoch 10/20\n",
            "3000/3000 [==============================] - 10s 3ms/step - loss: 0.0198 - accuracy: 0.9945\n",
            "Epoch 11/20\n",
            "3000/3000 [==============================] - 10s 3ms/step - loss: 0.0164 - accuracy: 0.9954\n",
            "Epoch 12/20\n",
            "3000/3000 [==============================] - 10s 3ms/step - loss: 0.0137 - accuracy: 0.9964\n",
            "Epoch 13/20\n",
            "3000/3000 [==============================] - 10s 3ms/step - loss: 0.0124 - accuracy: 0.9967\n",
            "Epoch 14/20\n",
            "3000/3000 [==============================] - 10s 3ms/step - loss: 0.0101 - accuracy: 0.9973\n",
            "Epoch 15/20\n",
            "3000/3000 [==============================] - 10s 3ms/step - loss: 0.0091 - accuracy: 0.9977\n",
            "Epoch 16/20\n",
            "3000/3000 [==============================] - 10s 3ms/step - loss: 0.0079 - accuracy: 0.9982\n",
            "Epoch 17/20\n",
            "3000/3000 [==============================] - 10s 3ms/step - loss: 0.0066 - accuracy: 0.9984\n",
            "Epoch 18/20\n",
            "3000/3000 [==============================] - 10s 3ms/step - loss: 0.0061 - accuracy: 0.9987\n",
            "Epoch 19/20\n",
            "3000/3000 [==============================] - 10s 3ms/step - loss: 0.0048 - accuracy: 0.9991\n",
            "Epoch 20/20\n",
            "3000/3000 [==============================] - 10s 3ms/step - loss: 0.0041 - accuracy: 0.9992\n"
          ]
        }
      ]
    },
    {
      "cell_type": "code",
      "source": [
        "loss, acc =model_21.evaluate(test_images , test_labels)\n",
        "print(\"loss =\",loss)\n",
        "print(\"accuracy =\",acc)"
      ],
      "metadata": {
        "colab": {
          "base_uri": "https://localhost:8080/"
        },
        "id": "w9pKiQAAbjUo",
        "outputId": "7181e70d-4a07-476f-c882-482ea4d87b15"
      },
      "execution_count": null,
      "outputs": [
        {
          "output_type": "stream",
          "name": "stdout",
          "text": [
            "313/313 [==============================] - 1s 3ms/step - loss: 0.0378 - accuracy: 0.9895\n",
            "loss = 0.03779760003089905\n",
            "accuracy = 0.9894999861717224\n"
          ]
        }
      ]
    },
    {
      "cell_type": "code",
      "source": [
        "def plot_losses(history):  \n",
        "    plt.plot(history.history['loss'])\n",
        "    plt.title('model loss')\n",
        "    plt.ylabel('loss')\n",
        "    plt.xlabel('epoch')\n",
        "    plt.legend(['train'], loc='upper left')\n",
        "    plt.show()\n",
        "plot_losses(history)"
      ],
      "metadata": {
        "colab": {
          "base_uri": "https://localhost:8080/",
          "height": 294
        },
        "id": "cgLxdwS8bpNU",
        "outputId": "2f837f98-8f77-4858-8bda-c89a0317bf5d"
      },
      "execution_count": null,
      "outputs": [
        {
          "output_type": "display_data",
          "data": {
            "text/plain": [
              "<Figure size 432x288 with 1 Axes>"
            ],
            "image/png": "[encoded data removed]"
          },
          "metadata": {
            "needs_background": "light"
          }
        }
      ]
    },
    {
      "cell_type": "code",
      "source": [
        "def plot_accuracies(history):  \n",
        "    plt.plot(history.history['accuracy'], label='accuracy')\n",
        "    plt.title('model accuracy')\n",
        "    plt.xlabel('Epoch')\n",
        "    plt.ylabel('Accuracy')\n",
        "    plt.legend(loc='upper left')\n",
        "    plt.show()\n",
        "plot_accuracies(history)"
      ],
      "metadata": {
        "colab": {
          "base_uri": "https://localhost:8080/",
          "height": 294
        },
        "id": "ThWXQjgobtsf",
        "outputId": "86af82fc-a3a5-43e8-a18a-3b91761604e0"
      },
      "execution_count": null,
      "outputs": [
        {
          "output_type": "display_data",
          "data": {
            "text/plain": [
              "<Figure size 432x288 with 1 Axes>"
            ],
            "image/png": "[encoded data removed]"
          },
          "metadata": {
            "needs_background": "light"
          }
        }
      ]
    }
  ],
  "metadata": {
    "accelerator": "GPU",
    "colab": {
      "name": "Assiment 3.ipynb",
      "provenance": [],
      "collapsed_sections": []
    },
    "kernelspec": {
      "display_name": "Python 3",
      "name": "python3"
    },
    "language_info": {
      "name": "python"
    }
  },
  "nbformat": 4,
  "nbformat_minor": 0
}