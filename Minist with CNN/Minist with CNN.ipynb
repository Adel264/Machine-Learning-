{
  "cells": [
    {
      "cell_type": "code",
      "execution_count": null,
      "metadata": {
        "id": "fce5dcSDeBne"
      },
      "outputs": [],
      "source": [
        "import tensorflow as tf\n",
        "import tensorflow_datasets as tfds\n",
        "import numpy as np\n",
        "from matplotlib import pyplot as plt\n",
        "import math\n",
        "import time \n",
        "import random "
      ]
    },
    {
      "cell_type": "code",
      "execution_count": null,
      "metadata": {
        "id": "5bGBbsBlgxPR"
      },
      "outputs": [],
      "source": [
        "mnist = tf.keras.datasets.mnist"
      ]
    },
    {
      "cell_type": "code",
      "execution_count": null,
      "metadata": {
        "colab": {
          "base_uri": "https://localhost:8080/"
        },
        "id": "BkxxSxt7g5-3",
        "outputId": "f65d79d4-67fc-4274-ed46-94bdc86780f4"
      },
      "outputs": [
        {
          "name": "stdout",
          "output_type": "stream",
          "text": [
            "Downloading data from https://storage.googleapis.com/tensorflow/tf-keras-datasets/mnist.npz\n",
            "11493376/11490434 [==============================] - 0s 0us/step\n",
            "11501568/11490434 [==============================] - 0s 0us/step\n"
          ]
        }
      ],
      "source": [
        "(train_images, train_labels), (test_images, test_labels) = mnist.load_data()"
      ]
    },
    {
      "cell_type": "code",
      "execution_count": null,
      "metadata": {
        "id": "-1IzKofGClQr"
      },
      "outputs": [],
      "source": [
        "def label_reshape(arr_labele):\n",
        "    label_vector=[]\n",
        "    for i in range(len(arr_labele)):\n",
        "        label_vector.append([0 for _ in range(10)])\n",
        "        x = arr_labele[i]\n",
        "        label_vector[i][x] = 1\n",
        "    return label_vector  "
      ]
    },
    {
      "cell_type": "code",
      "execution_count": null,
      "metadata": {
        "id": "LQg12O30Co0z"
      },
      "outputs": [],
      "source": [
        "train_labels = label_reshape(train_labels)\n",
        "test_labels = label_reshape(test_labels)"
      ]
    },
    {
      "cell_type": "code",
      "execution_count": null,
      "metadata": {
        "colab": {
          "base_uri": "https://localhost:8080/"
        },
        "id": "herp5Ofmg79C",
        "outputId": "64b80476-2c18-4d50-dfcc-f0640d790335"
      },
      "outputs": [
        {
          "name": "stdout",
          "output_type": "stream",
          "text": [
            "Training Data Shape is (60000, 28, 28) ,  Its Type Is <class 'numpy.ndarray'> ,\n",
            "Test Data Shape is (10000, 28, 28) , Its Type is <class 'numpy.ndarray'> \n"
          ]
        }
      ],
      "source": [
        "print(\n",
        "    \"Training Data Shape is {} ,  Its Type Is {} ,\\nTest Data Shape is {} , Its Type is {} \".format(\n",
        "        train_images.shape , type(train_images) , test_images.shape , type(test_images)\n",
        "    )\n",
        ")"
      ]
    },
    {
      "cell_type": "code",
      "execution_count": null,
      "metadata": {
        "id": "3O-hp_NLhHo7"
      },
      "outputs": [],
      "source": [
        "def display_img(mnist_index):\n",
        "   \n",
        "    image = mnist_index\n",
        "    image = np.array(image, dtype='float')\n",
        "    pixels = image.reshape((28, 28))\n",
        "    plt.imshow(pixels, cmap='gray')\n",
        "    plt.show()"
      ]
    },
    {
      "cell_type": "code",
      "execution_count": null,
      "metadata": {
        "colab": {
          "base_uri": "https://localhost:8080/",
          "height": 265
        },
        "id": "KhNpqfwkhJsg",
        "outputId": "043e41dc-5277-48b1-bee5-603d60ebc631"
      },
      "outputs": [
        {
          "data": {
            "image/png": "[encoded data removed]",
            "text/plain": [
              "<Figure size 432x288 with 1 Axes>"
            ]
          },
          "metadata": {},
          "output_type": "display_data"
        }
      ],
      "source": [
        "display_img(train_images[10])"
      ]
    },
    {
      "cell_type": "code",
      "execution_count": null,
      "metadata": {
        "colab": {
          "base_uri": "https://localhost:8080/"
        },
        "id": "l6E3xZoAhLy8",
        "outputId": "a7a6431c-af48-418f-d50c-f6dddca22763"
      },
      "outputs": [
        {
          "data": {
            "text/plain": [
              "[0, 0, 0, 1, 0, 0, 0, 0, 0, 0]"
            ]
          },
          "execution_count": 9,
          "metadata": {},
          "output_type": "execute_result"
        }
      ],
      "source": [
        "train_labels[10]"
      ]
    },
    {
      "cell_type": "code",
      "execution_count": null,
      "metadata": {
        "colab": {
          "base_uri": "https://localhost:8080/",
          "height": 265
        },
        "id": "NR6q1IMqhO00",
        "outputId": "54426f91-ce6d-4fb3-83c2-a3b2bde512a9"
      },
      "outputs": [
        {
          "data": {
            "image/png": "[encoded data removed]",
            "text/plain": [
              "<Figure size 432x288 with 1 Axes>"
            ]
          },
          "metadata": {},
          "output_type": "display_data"
        }
      ],
      "source": [
        "display_img(test_images[80])"
      ]
    },
    {
      "cell_type": "code",
      "execution_count": null,
      "metadata": {
        "colab": {
          "base_uri": "https://localhost:8080/"
        },
        "id": "Ddivar2ThQu8",
        "outputId": "4cb2c3b8-b10b-4f08-853e-090f25dd5496"
      },
      "outputs": [
        {
          "data": {
            "text/plain": [
              "[0, 0, 0, 0, 0, 0, 0, 1, 0, 0]"
            ]
          },
          "execution_count": 11,
          "metadata": {},
          "output_type": "execute_result"
        }
      ],
      "source": [
        "test_labels[60]"
      ]
    },
    {
      "cell_type": "code",
      "execution_count": null,
      "metadata": {
        "id": "g7bqK7o-hS0z"
      },
      "outputs": [],
      "source": [
        "def imaged_grid(img , row , col ):\n",
        " \n",
        "    x , y = img.shape\n",
        "\n",
        "    assert x % row == 0, \"{} rows is not evenly divisble by {}\".format(x, row)\n",
        "    assert y % col == 0, \"{} cols is not evenly divisble by {}\".format(y, col)\n",
        "    \n",
        "    return (img.reshape ( x //row, row, -1, col)\n",
        "               .swapaxes(1,2)\n",
        "               .reshape(-1, row, col))\n",
        "    "
      ]
    },
    {
      "cell_type": "code",
      "execution_count": null,
      "metadata": {
        "colab": {
          "base_uri": "https://localhost:8080/"
        },
        "id": "1H7bOaZThVoa",
        "outputId": "7b16aeb5-6112-4823-aec9-e49603c1f525"
      },
      "outputs": [
        {
          "name": "stdout",
          "output_type": "stream",
          "text": [
            "(8, 7, 14)\n"
          ]
        },
        {
          "data": {
            "text/plain": [
              "array([[[  0,   0,   0,   0,   0,   0,   0,   0,   0,   0,   0,   0,\n",
              "           0,   0],\n",
              "        [  0,   0,   0,   0,   0,   0,   0,   0,   0,   0,   0,   0,\n",
              "           0,   0],\n",
              "        [  0,   0,   0,   0,   0,   0,   0,   0,   0,   0,   0,   0,\n",
              "           0,   0],\n",
              "        [  0,   0,   0,   0,   0,   0,   0,   0,   0,   0,   0,   0,\n",
              "           0,   0],\n",
              "        [  0,   0,   0,   0,   0,   0,   0,   0,   0,   0,   0,   0,\n",
              "           0,   0],\n",
              "        [  0,   0,   0,   0,   0,   0,   0,   0,   0,   0,   0,   0,\n",
              "           0,   0],\n",
              "        [  0,   0,   0,   0,   0,   0,   0,   0,   0,   0,   0,   0,\n",
              "           0,   0]],\n",
              "\n",
              "       [[  0,   0,   0,   0,   0,   0,   0,   0,   0,   0,   0,   0,\n",
              "           0,   0],\n",
              "        [  0,   0,   0,   0,   0,   0,   0,   0,   0,   0,   0,   0,\n",
              "           0,   0],\n",
              "        [  0,   0,   0,   0,   0,   0,   0,   0,   0,   0,   0,   0,\n",
              "           0,   0],\n",
              "        [  0,   0,   0,   0,   0,   0,   0,   0,   0,   0,   0,   0,\n",
              "           0,   0],\n",
              "        [  0,   0,   0,   0,   0,   0,   0,   0,   0,   0,   0,   0,\n",
              "           0,   0],\n",
              "        [  0,   0,   0,   0,   0,   0,   0,   0,   0,   0,   0,   0,\n",
              "           0,   0],\n",
              "        [  0,  31, 140, 193,  44,   0,   0,   0,   0,   0,   0,   0,\n",
              "           0,   0]],\n",
              "\n",
              "       [[  0,   0,   0,   0,   0,   0,   0,   0,   0,   0,   0,   0,\n",
              "           0,  38],\n",
              "        [  0,   0,   0,   0,   0,   0,   0,   0,   0,   0,   0,   2,\n",
              "          43, 230],\n",
              "        [  0,   0,   0,   0,   0,   0,   0,   0,   0,   0,  21, 130,\n",
              "         254, 254],\n",
              "        [  0,   0,   0,   0,   0,   0,   0,   0,   0,   0, 154, 254,\n",
              "         254, 249],\n",
              "        [  0,   0,   0,   0,   0,   0,   0,   0,   2, 173, 252, 252,\n",
              "         206,  51],\n",
              "        [  0,   0,   0,   0,   0,   0,   0,   0, 112, 254, 254, 215,\n",
              "          87, 247],\n",
              "        [  0,   0,   0,   0,   0,   0,   0,   5, 231, 254, 254, 254,\n",
              "         254, 254]],\n",
              "\n",
              "       [[146, 240, 254, 254, 228,  48,  77,  46,   0,   0,   0,   0,\n",
              "           0,   0],\n",
              "        [254, 254, 254, 254, 254, 241, 254, 197,   2,   0,   0,   0,\n",
              "           0,   0],\n",
              "        [254, 239, 252, 254, 254, 254, 254, 237,   4,   0,   0,   0,\n",
              "           0,   0],\n",
              "        [104,  71, 198, 254, 254, 254, 234,  57,   0,   0,   0,   0,\n",
              "           0,   0],\n",
              "        [120, 215, 254, 254, 254, 254, 184,   0,   0,   0,   0,   0,\n",
              "           0,   0],\n",
              "        [254, 254, 254, 254, 254, 217,  31,   0,   0,   0,   0,   0,\n",
              "           0,   0],\n",
              "        [236, 128, 196, 254, 254, 119,   0,   0,   0,   0,   0,   0,\n",
              "           0,   0]],\n",
              "\n",
              "       [[  0,   0,   0,   0,   0,   0,   0,   3, 197, 254, 254, 245,\n",
              "         238, 131],\n",
              "        [  0,   0,   0,   0,   0,   0,   0,   0,  16,  92,  88,  40,\n",
              "           0,   0],\n",
              "        [  0,   0,   0,   0,   0,   0,   0,   0,   0,   0,   0,   0,\n",
              "           0,   0],\n",
              "        [  0,   0,   0,   0,   0,   0,   0,   0,   0,   0,   0,   0,\n",
              "           0,  18],\n",
              "        [  0,   0,   0,   0,   0,   0,   0,   0,   0,   0,   0,   0,\n",
              "           0, 197],\n",
              "        [  0,   0,   0,   0,   0,   0,   0,   0,   0,   0,   0,   0,\n",
              "          34, 242],\n",
              "        [  0,   0,   0,   0,   0,   0,   0,   0,   0,   0,   0,  27,\n",
              "         223, 254]],\n",
              "\n",
              "       [[ 17,  46, 247, 254, 199,  14,   0,   0,   0,   0,   0,   0,\n",
              "           0,   0],\n",
              "        [ 12, 173, 254, 242,  38,   0,   0,   0,   0,   0,   0,   0,\n",
              "           0,   0],\n",
              "        [ 95, 254, 254, 155,   0,   0,   0,   0,   0,   0,   0,   0,\n",
              "           0,   0],\n",
              "        [210, 254, 225,   6,   0,   0,   0,   0,   0,   0,   0,   0,\n",
              "           0,   0],\n",
              "        [254, 254,  99,   0,   0,   0,   0,   0,   0,   0,   0,   0,\n",
              "           0,   0],\n",
              "        [254, 179,   3,   0,   0,   0,   0,   0,   0,   0,   0,   0,\n",
              "           0,   0],\n",
              "        [225,  30,   0,   0,   0,   0,   0,   0,   0,   0,   0,   0,\n",
              "           0,   0]],\n",
              "\n",
              "       [[  0,   0,   0,   0,   0,   0,   0,   0,   0,   0,   0,  77,\n",
              "         254, 255],\n",
              "        [  0,   0,   0,   0,   0,   0,   0,   0,   0,   0,  54, 238,\n",
              "         254, 248],\n",
              "        [  0,   0,   0,   0,   0,   0,   0,   0,   0,  11, 183, 254,\n",
              "         254, 231],\n",
              "        [  0,   0,   0,   0,   0,   0,   0,   0,   0, 113, 254, 254,\n",
              "         230,  48],\n",
              "        [  0,   0,   0,   0,   0,   0,   0,   0,   0, 110, 239, 126,\n",
              "          25,   0],\n",
              "        [  0,   0,   0,   0,   0,   0,   0,   0,   0,   0,   0,   0,\n",
              "           0,   0],\n",
              "        [  0,   0,   0,   0,   0,   0,   0,   0,   0,   0,   0,   0,\n",
              "           0,   0]],\n",
              "\n",
              "       [[127,   0,   0,   0,   0,   0,   0,   0,   0,   0,   0,   0,\n",
              "           0,   0],\n",
              "        [ 53,   0,   0,   0,   0,   0,   0,   0,   0,   0,   0,   0,\n",
              "           0,   0],\n",
              "        [ 41,   0,   0,   0,   0,   0,   0,   0,   0,   0,   0,   0,\n",
              "           0,   0],\n",
              "        [  0,   0,   0,   0,   0,   0,   0,   0,   0,   0,   0,   0,\n",
              "           0,   0],\n",
              "        [  0,   0,   0,   0,   0,   0,   0,   0,   0,   0,   0,   0,\n",
              "           0,   0],\n",
              "        [  0,   0,   0,   0,   0,   0,   0,   0,   0,   0,   0,   0,\n",
              "           0,   0],\n",
              "        [  0,   0,   0,   0,   0,   0,   0,   0,   0,   0,   0,   0,\n",
              "           0,   0]]], dtype=uint8)"
            ]
          },
          "execution_count": 13,
          "metadata": {},
          "output_type": "execute_result"
        }
      ],
      "source": [
        "print(imaged_grid(test_images[20] , 7 , 14 ).shape)\n",
        "imaged_grid(test_images[20] , 7 , 14 )"
      ]
    },
    {
      "cell_type": "code",
      "execution_count": null,
      "metadata": {
        "id": "oOyjInfshYH6"
      },
      "outputs": [],
      "source": [
        "def get_centroid(img):\n",
        "\n",
        "    feature_vector = []\n",
        " \n",
        "    for grid in imaged_grid(img , 7 , 7 ) :\n",
        "        \n",
        "        Xc = 0 \n",
        "        Yc = 0 \n",
        "        sum = 0\n",
        "    \n",
        "        for index, x in np.ndenumerate(grid):\n",
        "          sum+= x \n",
        "          Xc += x * index[0]\n",
        "          Yc += x * index[1]\n",
        "        \n",
        "        if sum != 0 :\n",
        "            feature_vector.append((Xc/ sum)/6 )\n",
        "            feature_vector.append((Yc/ sum )/6)\n",
        "        else :\n",
        "             feature_vector.append(0)\n",
        "             feature_vector.append(0)\n",
        "        \n",
        "    \n",
        "    return np.array(feature_vector)"
      ]
    },
    {
      "cell_type": "code",
      "execution_count": null,
      "metadata": {
        "colab": {
          "base_uri": "https://localhost:8080/"
        },
        "id": "1Zg4kaPsmJX5",
        "outputId": "c2236791-e7b9-480a-a819-0500d0c64313"
      },
      "outputs": [
        {
          "data": {
            "text/plain": [
              "array([0.        , 0.        , 0.        , 0.        , 1.        ,\n",
              "       0.43545752, 0.        , 0.        , 0.        , 0.        ,\n",
              "       0.69624439, 0.67855843, 0.48555192, 0.48490978, 0.26151013,\n",
              "       0.00184162, 0.        , 0.        , 0.35787962, 0.69891631,\n",
              "       0.41040735, 0.24892081, 0.        , 0.        , 0.        ,\n",
              "       0.        , 0.33032507, 0.72876257, 0.10180995, 0.        ,\n",
              "       0.        , 0.        ])"
            ]
          },
          "execution_count": 15,
          "metadata": {},
          "output_type": "execute_result"
        }
      ],
      "source": [
        "get_centroid(test_images[20])"
      ]
    },
    {
      "cell_type": "code",
      "execution_count": null,
      "metadata": {
        "colab": {
          "base_uri": "https://localhost:8080/"
        },
        "id": "GiOAUe_DmUWn",
        "outputId": "9894ea87-09d4-4040-d8b4-ec253acd8e74"
      },
      "outputs": [
        {
          "data": {
            "text/plain": [
              "array([0.9853211 , 0.65993884, 0.        , 0.        , 0.87639198,\n",
              "       0.70019797, 0.        , 0.        , 0.40889044, 0.83136026,\n",
              "       0.7631751 , 0.18229371, 0.58078624, 0.60054172, 0.        ,\n",
              "       0.        , 0.17948718, 1.        , 0.2643743 , 0.44750564,\n",
              "       0.43548387, 0.59357127, 0.95273632, 0.00331675, 0.        ,\n",
              "       0.        , 0.        , 0.        , 0.11608061, 0.8660292 ,\n",
              "       0.13865741, 0.01967593])"
            ]
          },
          "execution_count": 16,
          "metadata": {},
          "output_type": "execute_result"
        }
      ],
      "source": [
        "get_centroid(train_images[20])"
      ]
    },
    {
      "cell_type": "code",
      "execution_count": null,
      "metadata": {
        "colab": {
          "background_save": true,
          "base_uri": "https://localhost:8080/"
        },
        "id": "jZdeQ8xMhbKe",
        "outputId": "988acad4-2f67-49fa-a218-e680992b459a"
      },
      "outputs": [
        {
          "name": "stdout",
          "output_type": "stream",
          "text": [
            "Feature Extraction From Training Data\n",
            "Done\n"
          ]
        }
      ],
      "source": [
        "print(\"Feature Extraction From Training Data\")\n",
        "train_features = [get_centroid(img)  for img in train_images  ]\n",
        "print(\"Done\")"
      ]
    },
    {
      "cell_type": "code",
      "execution_count": null,
      "metadata": {
        "colab": {
          "background_save": true
        },
        "id": "18GOIEx5heXK"
      },
      "outputs": [],
      "source": [
        "train_features = np.array(train_features)"
      ]
    },
    {
      "cell_type": "code",
      "execution_count": null,
      "metadata": {
        "colab": {
          "background_save": true,
          "base_uri": "https://localhost:8080/"
        },
        "id": "WWrwwo6Zhgau",
        "outputId": "a9ee3fc0-f9c0-4266-8bfb-fc40613b3d56"
      },
      "outputs": [
        {
          "data": {
            "text/plain": [
              "(60000, 32)"
            ]
          },
          "execution_count": null,
          "metadata": {},
          "output_type": "execute_result"
        }
      ],
      "source": [
        "train_features.shape"
      ]
    },
    {
      "cell_type": "code",
      "execution_count": null,
      "metadata": {
        "colab": {
          "background_save": true,
          "base_uri": "https://localhost:8080/"
        },
        "id": "g2Sr4hRqhiDv",
        "outputId": "e8547a61-2eec-4955-f375-dbd9c856f025"
      },
      "outputs": [
        {
          "data": {
            "text/plain": [
              "array([[0.        , 0.        , 0.99538259, 0.76759015, 0.95237072,\n",
              "        0.52284773, 0.90722714, 0.12153392, 0.        , 0.        ,\n",
              "        0.3202967 , 0.68394583, 0.26389366, 0.29288415, 0.        ,\n",
              "        0.06842105, 0.        , 0.        , 0.87253788, 0.89393939,\n",
              "        0.5414509 , 0.4341916 , 0.        , 0.        , 0.42677448,\n",
              "        0.87915544, 0.2303024 , 0.47464974, 0.02380952, 0.10032103,\n",
              "        0.        , 0.        ],\n",
              "       [0.        , 0.        , 1.        , 1.        , 0.87379715,\n",
              "        0.46733064, 1.        , 0.        , 0.        , 0.        ,\n",
              "        0.54656911, 0.63886179, 0.27626318, 0.56664243, 0.64426654,\n",
              "        0.04892447, 0.59130146, 1.        , 0.52702483, 0.17403337,\n",
              "        0.64201542, 0.61992028, 0.15041741, 0.05307096, 0.04129794,\n",
              "        1.        , 0.14377555, 0.50471944, 0.03342554, 0.10511757,\n",
              "        0.        , 0.        ]])"
            ]
          },
          "execution_count": null,
          "metadata": {},
          "output_type": "execute_result"
        }
      ],
      "source": [
        "train_features[:2]"
      ]
    },
    {
      "cell_type": "code",
      "execution_count": null,
      "metadata": {
        "colab": {
          "background_save": true,
          "base_uri": "https://localhost:8080/"
        },
        "id": "1lPrTTM-hj2K",
        "outputId": "84bd6026-277c-47b6-aef1-7e0c73acd041"
      },
      "outputs": [
        {
          "name": "stdout",
          "output_type": "stream",
          "text": [
            "Feature Extraction From Test Data\n",
            "Done\n"
          ]
        }
      ],
      "source": [
        "print(\"Feature Extraction From Test Data\")\n",
        "test_features = [get_centroid(img)  for img in test_images  ]\n",
        "print(\"Done\")"
      ]
    },
    {
      "cell_type": "code",
      "execution_count": null,
      "metadata": {
        "colab": {
          "background_save": true
        },
        "id": "DvkkjLtRhnXA"
      },
      "outputs": [],
      "source": [
        "test_features = np.array(test_features)"
      ]
    },
    {
      "cell_type": "code",
      "execution_count": null,
      "metadata": {
        "colab": {
          "background_save": true
        },
        "id": "njIiAQhyh16t",
        "outputId": "24cd4a83-fef6-4dd7-8a11-949e585ac281"
      },
      "outputs": [
        {
          "data": {
            "text/plain": [
              "(10000, 32)"
            ]
          },
          "execution_count": null,
          "metadata": {},
          "output_type": "execute_result"
        }
      ],
      "source": [
        "test_features.shape"
      ]
    },
    {
      "cell_type": "code",
      "execution_count": null,
      "metadata": {
        "colab": {
          "background_save": true
        },
        "id": "3XiLtTTlh4CR",
        "outputId": "a9e067ce-342d-4cb4-b712-1308acb90b57"
      },
      "outputs": [
        {
          "data": {
            "text/plain": [
              "array([0.        , 0.        , 0.        , 0.        , 0.        ,\n",
              "       0.        , 0.        , 0.        , 0.1590706 , 1.        ,\n",
              "       0.20332384, 0.48670465, 0.47831954, 0.61189345, 0.38080169,\n",
              "       0.        , 0.        , 0.        , 0.98592593, 0.99777778,\n",
              "       0.49502917, 0.34278202, 0.        , 0.        , 0.        ,\n",
              "       0.        , 0.47806899, 0.82130956, 0.15115623, 0.02199662,\n",
              "       0.        , 0.        ])"
            ]
          },
          "execution_count": null,
          "metadata": {},
          "output_type": "execute_result"
        }
      ],
      "source": [
        "test_features[0]"
      ]
    },
    {
      "cell_type": "code",
      "execution_count": 1,
      "metadata": {
        "id": "Gc8vTlnN2wxB"
      },
      "outputs": [],
      "source": [
        "class Layer:\n",
        "    def __init__(self, input_size, output_size , activation_function):\n",
        "        self.input = None\n",
        "        self.output = []\n",
        "        self.weights = []\n",
        "        self.activation_function = activation_function\n",
        "        ##nested loop to initailze the weigths with random values\n",
        "        for i in range(input_size):\n",
        "          col = []\n",
        "          for j in range(output_size):\n",
        "              col.append(random.random())\n",
        "          self.weights.append(col)\n",
        "        \n",
        "\n",
        "    def forward_propagation(self, given_input  ):\n",
        "        self.input = given_input\n",
        "        self.output = []\n",
        "        for col in range(len(self.weights[0])):\n",
        "            sum = 0 \n",
        "            for i in range(len(self.input) ):\n",
        "                sum += self.input[i] * self.weights[i][col]\n",
        "                \n",
        "            if self.activation_function == \"sigmoid\" :\n",
        "                self.output.append( 1/ (  1+(math.exp(-sum)) ))\n",
        "            \n",
        "            elif self.activation_function == \"tanh\" :\n",
        "                self.output.append( math.tanh(sum))\n",
        "\n",
        "        \n",
        "        return self.output\n",
        "        \n",
        "        \n",
        "    def back_propagation(self, previous_errors, learning_rate , targets):\n",
        "        \n",
        "        upcoming_error = []\n",
        "        for i in range( len(self.input)):\n",
        "            upcoming_error.append(0)\n",
        "\n",
        "        \n",
        "       #change the weights at the output layer\n",
        "        if len(previous_errors) == 0 :\n",
        "            for cur_neuron in range ( len(self.output) ) :\n",
        "                delta_j = ( targets[cur_neuron] - self.output[cur_neuron] ) * self.output[cur_neuron]  * (1-self.output[cur_neuron])\n",
        "\n",
        "                for upcoming_nueron in range( len( self.input) ) :\n",
        "                    upcoming_error[upcoming_nueron] += delta_j * self.weights[upcoming_nueron][cur_neuron] \n",
        "                    self.weights[upcoming_nueron][cur_neuron] += ( delta_j * self.input[upcoming_nueron] * learning_rate)\n",
        "\n",
        "      \n",
        "        #change the weights at the hidden layer\n",
        "        else :\n",
        "                \n",
        "            for cur_neuron in range ( len(self.output) ) :\n",
        "                delta_j = previous_errors[cur_neuron] * self.output[cur_neuron]  * (1-self.output[cur_neuron]) \n",
        "\n",
        "                for upcoming_nueron in range( len ( self.input) ) :\n",
        "                    \n",
        "                    upcoming_error[upcoming_nueron] += delta_j * self.weights[upcoming_nueron][cur_neuron] \n",
        "                    self.weights[upcoming_nueron][cur_neuron] += delta_j * learning_rate * self.input[upcoming_nueron]\n",
        "                    \n",
        "                    \n",
        "        return upcoming_error\n",
        "\n",
        "\n"
      ]
    },
    {
      "cell_type": "code",
      "execution_count": 2,
      "metadata": {
        "id": "tX2HCxrf2y98"
      },
      "outputs": [],
      "source": [
        "class Network:\n",
        "    def __init__(self):\n",
        "        self.layers = []\n",
        "\n",
        "    def add(self, layer ):\n",
        "        self.layers.append(layer )\n",
        "\n",
        "\n",
        "    def predict(self, input_data):\n",
        "        \n",
        "        predicted = []\n",
        "        for i in range( len(input_data) ):\n",
        "            output = input_data[i]\n",
        "            for layer in self.layers:\n",
        "                output = layer.forward_propagation(output )\n",
        "            predicted.append(output)\n",
        "\n",
        "        return predicted\n",
        "\n",
        "\n",
        "    def fit(self, train_data, train_labels, epochs, learning_rate):\n",
        "        \n",
        "        samples = len(train_data)\n",
        "\n",
        "        # training loop\n",
        "        for epoch in range(epochs):\n",
        "            \n",
        "            for sample in range(samples):\n",
        "        \n",
        "                cur_deltas = []\n",
        "                \n",
        "                output = train_data[sample]\n",
        "                \n",
        "                for layer in self.layers:\n",
        "                    output = layer.forward_propagation(output )\n",
        "\n",
        "\n",
        "                for layer in reversed(self.layers):\n",
        "                    cur_deltas = layer.back_propagation(cur_deltas, learning_rate , train_labels[sample])\n",
        "                \n",
        "                \n",
        "\n",
        "\n"
      ]
    },
    {
      "cell_type": "code",
      "execution_count": null,
      "metadata": {
        "id": "xDZ3lHtS26ld"
      },
      "outputs": [],
      "source": [
        "\n",
        "NN = Network()\n",
        "NN.add(Layer(32, 16 , \"sigmoid\"))\n",
        "NN.add(Layer(16, 10 , \"sigmoid\"))\n",
        "NN.fit(train_features, train_labels, epochs=100, learning_rate= 0.01)"
      ]
    },
    {
      "cell_type": "code",
      "execution_count": null,
      "metadata": {
        "id": "twNZVeiN4nhg"
      },
      "outputs": [],
      "source": [
        "p = NN_2.predict(test_labels)\n",
        "p"
      ]
    },
    {
      "cell_type": "code",
      "execution_count": null,
      "metadata": {
        "id": "zmR1G1SKq5-z"
      },
      "outputs": [],
      "source": [
        "def acc(predict,labels):\n",
        "  X = []\n",
        "  Y = []\n",
        "  for i in predict:\n",
        "    max_value = max(i)\n",
        "    max_index = i.index(max_value)\n",
        "    X.append(max_index)\n",
        "  for j in labels:\n",
        "    max_value = max(j)\n",
        "    max_index = j.index(max_value)\n",
        "    Y.append(max_index)\n",
        "  rLabels = 0\n",
        "  labels = len(X)\n",
        "  for i in range(len(X)):\n",
        "    if X[i]==Y[i]:\n",
        "      rLabels=rLabels+1\n",
        "  return(rLabels/labels)*100\n"
      ]
    },
    {
      "cell_type": "code",
      "execution_count": null,
      "metadata": {
        "id": "z3tvwxjOzyks"
      },
      "outputs": [],
      "source": [
        "print(\"Accuracy Score = {} %\".format(acc(p,test_labels)))"
      ]
    }
  ],
  "metadata": {
    "colab": {
      "collapsed_sections": [],
      "name": "me.ipynb",
      "provenance": []
    },
    "kernelspec": {
      "display_name": "Python 3",
      "name": "python3"
    },
    "language_info": {
      "name": "python"
    }
  },
  "nbformat": 4,
  "nbformat_minor": 0
}